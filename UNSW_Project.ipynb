{
 "cells": [
  {
   "cell_type": "markdown",
   "metadata": {
    "id": "A7Ap-HGmbn6t"
   },
   "source": [
    "# **Importing Modules and Libraries**"
   ]
  },
  {
   "cell_type": "code",
   "execution_count": 1,
   "metadata": {
    "id": "ZEmlR_A8Gy30"
   },
   "outputs": [],
   "source": [
    "# importing required libraries\n",
    "import numpy as np\n",
    "import pandas as pd\n",
    "\n",
    "import seaborn as sns\n",
    "import matplotlib.pyplot as plt\n",
    "\n",
    "import pickle \n",
    "from os import path\n",
    "\n",
    "from sklearn.preprocessing import MinMaxScaler\n",
    "from sklearn.preprocessing import StandardScaler\n",
    "from sklearn.preprocessing import LabelEncoder\n",
    "\n",
    "from sklearn import metrics\n",
    "from sklearn import preprocessing\n",
    "from sklearn.metrics import accuracy_score\n",
    "from sklearn.model_selection import train_test_split \n",
    "from sklearn.metrics import classification_report\n",
    "\n",
    "from sklearn.svm import SVC\n",
    "from sklearn.linear_model import LinearRegression\n",
    "from sklearn.linear_model import LogisticRegression\n",
    "from sklearn.tree import DecisionTreeClassifier\n",
    "from sklearn.ensemble import RandomForestClassifier\n",
    "from sklearn.neighbors import KNeighborsClassifier\n",
    "from sklearn.neural_network import MLPClassifier\n",
    "\n",
    "import secml"
   ]
  },
  {
   "cell_type": "markdown",
   "metadata": {
    "id": "QE9BV5QvbtmO"
   },
   "source": [
    "# **Importing Datasets**"
   ]
  },
  {
   "cell_type": "code",
   "execution_count": 2,
   "metadata": {
    "id": "e6PZCWoDG9uO"
   },
   "outputs": [],
   "source": [
    "#data = pd.read_csv('/content/drive/MyDrive/IoT_ML_Dataset/UNSW/UNSW_NB15.csv')\n",
    "data = pd.read_csv('datasets/UNSW_NB15.csv')"
   ]
  },
  {
   "cell_type": "code",
   "execution_count": 7,
   "metadata": {
    "colab": {
     "base_uri": "https://localhost:8080/",
     "height": 224
    },
    "id": "OiRwKzTMQj4G",
    "outputId": "84a4b7c2-bd3b-4c81-bf35-bc18eb78ef47"
   },
   "outputs": [
    {
     "data": {
      "text/html": [
       "<div>\n",
       "<style scoped>\n",
       "    .dataframe tbody tr th:only-of-type {\n",
       "        vertical-align: middle;\n",
       "    }\n",
       "\n",
       "    .dataframe tbody tr th {\n",
       "        vertical-align: top;\n",
       "    }\n",
       "\n",
       "    .dataframe thead th {\n",
       "        text-align: right;\n",
       "    }\n",
       "</style>\n",
       "<table border=\"1\" class=\"dataframe\">\n",
       "  <thead>\n",
       "    <tr style=\"text-align: right;\">\n",
       "      <th></th>\n",
       "      <th>id</th>\n",
       "      <th>dur</th>\n",
       "      <th>proto</th>\n",
       "      <th>service</th>\n",
       "      <th>state</th>\n",
       "      <th>spkts</th>\n",
       "      <th>dpkts</th>\n",
       "      <th>sbytes</th>\n",
       "      <th>dbytes</th>\n",
       "      <th>rate</th>\n",
       "      <th>...</th>\n",
       "      <th>ct_dst_sport_ltm</th>\n",
       "      <th>ct_dst_src_ltm</th>\n",
       "      <th>is_ftp_login</th>\n",
       "      <th>ct_ftp_cmd</th>\n",
       "      <th>ct_flw_http_mthd</th>\n",
       "      <th>ct_src_ltm</th>\n",
       "      <th>ct_srv_dst</th>\n",
       "      <th>is_sm_ips_ports</th>\n",
       "      <th>attack_cat</th>\n",
       "      <th>label</th>\n",
       "    </tr>\n",
       "  </thead>\n",
       "  <tbody>\n",
       "    <tr>\n",
       "      <th>0</th>\n",
       "      <td>1</td>\n",
       "      <td>0.121478</td>\n",
       "      <td>tcp</td>\n",
       "      <td>-</td>\n",
       "      <td>FIN</td>\n",
       "      <td>6</td>\n",
       "      <td>4</td>\n",
       "      <td>258</td>\n",
       "      <td>172</td>\n",
       "      <td>74.087490</td>\n",
       "      <td>...</td>\n",
       "      <td>1</td>\n",
       "      <td>1</td>\n",
       "      <td>0</td>\n",
       "      <td>0</td>\n",
       "      <td>0</td>\n",
       "      <td>1</td>\n",
       "      <td>1</td>\n",
       "      <td>0</td>\n",
       "      <td>Normal</td>\n",
       "      <td>0</td>\n",
       "    </tr>\n",
       "    <tr>\n",
       "      <th>1</th>\n",
       "      <td>2</td>\n",
       "      <td>0.649902</td>\n",
       "      <td>tcp</td>\n",
       "      <td>-</td>\n",
       "      <td>FIN</td>\n",
       "      <td>14</td>\n",
       "      <td>38</td>\n",
       "      <td>734</td>\n",
       "      <td>42014</td>\n",
       "      <td>78.473372</td>\n",
       "      <td>...</td>\n",
       "      <td>1</td>\n",
       "      <td>2</td>\n",
       "      <td>0</td>\n",
       "      <td>0</td>\n",
       "      <td>0</td>\n",
       "      <td>1</td>\n",
       "      <td>6</td>\n",
       "      <td>0</td>\n",
       "      <td>Normal</td>\n",
       "      <td>0</td>\n",
       "    </tr>\n",
       "    <tr>\n",
       "      <th>2</th>\n",
       "      <td>3</td>\n",
       "      <td>1.623129</td>\n",
       "      <td>tcp</td>\n",
       "      <td>-</td>\n",
       "      <td>FIN</td>\n",
       "      <td>8</td>\n",
       "      <td>16</td>\n",
       "      <td>364</td>\n",
       "      <td>13186</td>\n",
       "      <td>14.170161</td>\n",
       "      <td>...</td>\n",
       "      <td>1</td>\n",
       "      <td>3</td>\n",
       "      <td>0</td>\n",
       "      <td>0</td>\n",
       "      <td>0</td>\n",
       "      <td>2</td>\n",
       "      <td>6</td>\n",
       "      <td>0</td>\n",
       "      <td>Normal</td>\n",
       "      <td>0</td>\n",
       "    </tr>\n",
       "    <tr>\n",
       "      <th>3</th>\n",
       "      <td>4</td>\n",
       "      <td>1.681642</td>\n",
       "      <td>tcp</td>\n",
       "      <td>ftp</td>\n",
       "      <td>FIN</td>\n",
       "      <td>12</td>\n",
       "      <td>12</td>\n",
       "      <td>628</td>\n",
       "      <td>770</td>\n",
       "      <td>13.677108</td>\n",
       "      <td>...</td>\n",
       "      <td>1</td>\n",
       "      <td>3</td>\n",
       "      <td>1</td>\n",
       "      <td>1</td>\n",
       "      <td>0</td>\n",
       "      <td>2</td>\n",
       "      <td>1</td>\n",
       "      <td>0</td>\n",
       "      <td>Normal</td>\n",
       "      <td>0</td>\n",
       "    </tr>\n",
       "    <tr>\n",
       "      <th>4</th>\n",
       "      <td>5</td>\n",
       "      <td>0.449454</td>\n",
       "      <td>tcp</td>\n",
       "      <td>-</td>\n",
       "      <td>FIN</td>\n",
       "      <td>10</td>\n",
       "      <td>6</td>\n",
       "      <td>534</td>\n",
       "      <td>268</td>\n",
       "      <td>33.373826</td>\n",
       "      <td>...</td>\n",
       "      <td>1</td>\n",
       "      <td>40</td>\n",
       "      <td>0</td>\n",
       "      <td>0</td>\n",
       "      <td>0</td>\n",
       "      <td>2</td>\n",
       "      <td>39</td>\n",
       "      <td>0</td>\n",
       "      <td>Normal</td>\n",
       "      <td>0</td>\n",
       "    </tr>\n",
       "  </tbody>\n",
       "</table>\n",
       "<p>5 rows × 45 columns</p>\n",
       "</div>"
      ],
      "text/plain": [
       "   id       dur proto service state  spkts  dpkts  sbytes  dbytes       rate  \\\n",
       "0   1  0.121478   tcp       -   FIN      6      4     258     172  74.087490   \n",
       "1   2  0.649902   tcp       -   FIN     14     38     734   42014  78.473372   \n",
       "2   3  1.623129   tcp       -   FIN      8     16     364   13186  14.170161   \n",
       "3   4  1.681642   tcp     ftp   FIN     12     12     628     770  13.677108   \n",
       "4   5  0.449454   tcp       -   FIN     10      6     534     268  33.373826   \n",
       "\n",
       "   ...  ct_dst_sport_ltm  ct_dst_src_ltm  is_ftp_login  ct_ftp_cmd  \\\n",
       "0  ...                 1               1             0           0   \n",
       "1  ...                 1               2             0           0   \n",
       "2  ...                 1               3             0           0   \n",
       "3  ...                 1               3             1           1   \n",
       "4  ...                 1              40             0           0   \n",
       "\n",
       "   ct_flw_http_mthd  ct_src_ltm  ct_srv_dst  is_sm_ips_ports  attack_cat  \\\n",
       "0                 0           1           1                0      Normal   \n",
       "1                 0           1           6                0      Normal   \n",
       "2                 0           2           6                0      Normal   \n",
       "3                 0           2           1                0      Normal   \n",
       "4                 0           2          39                0      Normal   \n",
       "\n",
       "   label  \n",
       "0      0  \n",
       "1      0  \n",
       "2      0  \n",
       "3      0  \n",
       "4      0  \n",
       "\n",
       "[5 rows x 45 columns]"
      ]
     },
     "execution_count": 7,
     "metadata": {},
     "output_type": "execute_result"
    }
   ],
   "source": [
    "data.head(n=5)"
   ]
  },
  {
   "cell_type": "code",
   "execution_count": 8,
   "metadata": {
    "colab": {
     "base_uri": "https://localhost:8080/"
    },
    "id": "B9cVv5S_RUlZ",
    "outputId": "537b13d5-9c32-442f-d109-4a514fb882dd"
   },
   "outputs": [
    {
     "name": "stdout",
     "output_type": "stream",
     "text": [
      "<class 'pandas.core.frame.DataFrame'>\n",
      "RangeIndex: 175341 entries, 0 to 175340\n",
      "Data columns (total 45 columns):\n",
      " #   Column             Non-Null Count   Dtype  \n",
      "---  ------             --------------   -----  \n",
      " 0   id                 175341 non-null  int64  \n",
      " 1   dur                175341 non-null  float64\n",
      " 2   proto              175341 non-null  object \n",
      " 3   service            175341 non-null  object \n",
      " 4   state              175341 non-null  object \n",
      " 5   spkts              175341 non-null  int64  \n",
      " 6   dpkts              175341 non-null  int64  \n",
      " 7   sbytes             175341 non-null  int64  \n",
      " 8   dbytes             175341 non-null  int64  \n",
      " 9   rate               175341 non-null  float64\n",
      " 10  sttl               175341 non-null  int64  \n",
      " 11  dttl               175341 non-null  int64  \n",
      " 12  sload              175341 non-null  float64\n",
      " 13  dload              175341 non-null  float64\n",
      " 14  sloss              175341 non-null  int64  \n",
      " 15  dloss              175341 non-null  int64  \n",
      " 16  sinpkt             175341 non-null  float64\n",
      " 17  dinpkt             175341 non-null  float64\n",
      " 18  sjit               175341 non-null  float64\n",
      " 19  djit               175341 non-null  float64\n",
      " 20  swin               175341 non-null  int64  \n",
      " 21  stcpb              175341 non-null  int64  \n",
      " 22  dtcpb              175341 non-null  int64  \n",
      " 23  dwin               175341 non-null  int64  \n",
      " 24  tcprtt             175341 non-null  float64\n",
      " 25  synack             175341 non-null  float64\n",
      " 26  ackdat             175341 non-null  float64\n",
      " 27  smean              175341 non-null  int64  \n",
      " 28  dmean              175341 non-null  int64  \n",
      " 29  trans_depth        175341 non-null  int64  \n",
      " 30  response_body_len  175341 non-null  int64  \n",
      " 31  ct_srv_src         175341 non-null  int64  \n",
      " 32  ct_state_ttl       175341 non-null  int64  \n",
      " 33  ct_dst_ltm         175341 non-null  int64  \n",
      " 34  ct_src_dport_ltm   175341 non-null  int64  \n",
      " 35  ct_dst_sport_ltm   175341 non-null  int64  \n",
      " 36  ct_dst_src_ltm     175341 non-null  int64  \n",
      " 37  is_ftp_login       175341 non-null  int64  \n",
      " 38  ct_ftp_cmd         175341 non-null  int64  \n",
      " 39  ct_flw_http_mthd   175341 non-null  int64  \n",
      " 40  ct_src_ltm         175341 non-null  int64  \n",
      " 41  ct_srv_dst         175341 non-null  int64  \n",
      " 42  is_sm_ips_ports    175341 non-null  int64  \n",
      " 43  attack_cat         175341 non-null  object \n",
      " 44  label              175341 non-null  int64  \n",
      "dtypes: float64(11), int64(30), object(4)\n",
      "memory usage: 60.2+ MB\n"
     ]
    }
   ],
   "source": [
    "data.info()"
   ]
  },
  {
   "cell_type": "code",
   "execution_count": 9,
   "metadata": {
    "colab": {
     "base_uri": "https://localhost:8080/",
     "height": 439
    },
    "id": "1VchaJgfR7r3",
    "outputId": "ef6cbe08-bec3-4bfc-a89c-e3e9ee63160b"
   },
   "outputs": [
    {
     "data": {
      "text/html": [
       "<div>\n",
       "<style scoped>\n",
       "    .dataframe tbody tr th:only-of-type {\n",
       "        vertical-align: middle;\n",
       "    }\n",
       "\n",
       "    .dataframe tbody tr th {\n",
       "        vertical-align: top;\n",
       "    }\n",
       "\n",
       "    .dataframe thead th {\n",
       "        text-align: right;\n",
       "    }\n",
       "</style>\n",
       "<table border=\"1\" class=\"dataframe\">\n",
       "  <thead>\n",
       "    <tr style=\"text-align: right;\">\n",
       "      <th></th>\n",
       "      <th>id</th>\n",
       "      <th>dur</th>\n",
       "      <th>proto</th>\n",
       "      <th>service</th>\n",
       "      <th>state</th>\n",
       "      <th>spkts</th>\n",
       "      <th>dpkts</th>\n",
       "      <th>sbytes</th>\n",
       "      <th>dbytes</th>\n",
       "      <th>rate</th>\n",
       "      <th>...</th>\n",
       "      <th>ct_dst_sport_ltm</th>\n",
       "      <th>ct_dst_src_ltm</th>\n",
       "      <th>is_ftp_login</th>\n",
       "      <th>ct_ftp_cmd</th>\n",
       "      <th>ct_flw_http_mthd</th>\n",
       "      <th>ct_src_ltm</th>\n",
       "      <th>ct_srv_dst</th>\n",
       "      <th>is_sm_ips_ports</th>\n",
       "      <th>attack_cat</th>\n",
       "      <th>label</th>\n",
       "    </tr>\n",
       "  </thead>\n",
       "  <tbody>\n",
       "    <tr>\n",
       "      <th>0</th>\n",
       "      <td>1</td>\n",
       "      <td>0.121478</td>\n",
       "      <td>tcp</td>\n",
       "      <td>-</td>\n",
       "      <td>FIN</td>\n",
       "      <td>6</td>\n",
       "      <td>4</td>\n",
       "      <td>258</td>\n",
       "      <td>172</td>\n",
       "      <td>74.087490</td>\n",
       "      <td>...</td>\n",
       "      <td>1</td>\n",
       "      <td>1</td>\n",
       "      <td>0</td>\n",
       "      <td>0</td>\n",
       "      <td>0</td>\n",
       "      <td>1</td>\n",
       "      <td>1</td>\n",
       "      <td>0</td>\n",
       "      <td>Normal</td>\n",
       "      <td>0</td>\n",
       "    </tr>\n",
       "    <tr>\n",
       "      <th>1</th>\n",
       "      <td>2</td>\n",
       "      <td>0.649902</td>\n",
       "      <td>tcp</td>\n",
       "      <td>-</td>\n",
       "      <td>FIN</td>\n",
       "      <td>14</td>\n",
       "      <td>38</td>\n",
       "      <td>734</td>\n",
       "      <td>42014</td>\n",
       "      <td>78.473372</td>\n",
       "      <td>...</td>\n",
       "      <td>1</td>\n",
       "      <td>2</td>\n",
       "      <td>0</td>\n",
       "      <td>0</td>\n",
       "      <td>0</td>\n",
       "      <td>1</td>\n",
       "      <td>6</td>\n",
       "      <td>0</td>\n",
       "      <td>Normal</td>\n",
       "      <td>0</td>\n",
       "    </tr>\n",
       "    <tr>\n",
       "      <th>2</th>\n",
       "      <td>3</td>\n",
       "      <td>1.623129</td>\n",
       "      <td>tcp</td>\n",
       "      <td>-</td>\n",
       "      <td>FIN</td>\n",
       "      <td>8</td>\n",
       "      <td>16</td>\n",
       "      <td>364</td>\n",
       "      <td>13186</td>\n",
       "      <td>14.170161</td>\n",
       "      <td>...</td>\n",
       "      <td>1</td>\n",
       "      <td>3</td>\n",
       "      <td>0</td>\n",
       "      <td>0</td>\n",
       "      <td>0</td>\n",
       "      <td>2</td>\n",
       "      <td>6</td>\n",
       "      <td>0</td>\n",
       "      <td>Normal</td>\n",
       "      <td>0</td>\n",
       "    </tr>\n",
       "    <tr>\n",
       "      <th>4</th>\n",
       "      <td>5</td>\n",
       "      <td>0.449454</td>\n",
       "      <td>tcp</td>\n",
       "      <td>-</td>\n",
       "      <td>FIN</td>\n",
       "      <td>10</td>\n",
       "      <td>6</td>\n",
       "      <td>534</td>\n",
       "      <td>268</td>\n",
       "      <td>33.373826</td>\n",
       "      <td>...</td>\n",
       "      <td>1</td>\n",
       "      <td>40</td>\n",
       "      <td>0</td>\n",
       "      <td>0</td>\n",
       "      <td>0</td>\n",
       "      <td>2</td>\n",
       "      <td>39</td>\n",
       "      <td>0</td>\n",
       "      <td>Normal</td>\n",
       "      <td>0</td>\n",
       "    </tr>\n",
       "    <tr>\n",
       "      <th>5</th>\n",
       "      <td>6</td>\n",
       "      <td>0.380537</td>\n",
       "      <td>tcp</td>\n",
       "      <td>-</td>\n",
       "      <td>FIN</td>\n",
       "      <td>10</td>\n",
       "      <td>6</td>\n",
       "      <td>534</td>\n",
       "      <td>268</td>\n",
       "      <td>39.417980</td>\n",
       "      <td>...</td>\n",
       "      <td>1</td>\n",
       "      <td>40</td>\n",
       "      <td>0</td>\n",
       "      <td>0</td>\n",
       "      <td>0</td>\n",
       "      <td>2</td>\n",
       "      <td>39</td>\n",
       "      <td>0</td>\n",
       "      <td>Normal</td>\n",
       "      <td>0</td>\n",
       "    </tr>\n",
       "    <tr>\n",
       "      <th>...</th>\n",
       "      <td>...</td>\n",
       "      <td>...</td>\n",
       "      <td>...</td>\n",
       "      <td>...</td>\n",
       "      <td>...</td>\n",
       "      <td>...</td>\n",
       "      <td>...</td>\n",
       "      <td>...</td>\n",
       "      <td>...</td>\n",
       "      <td>...</td>\n",
       "      <td>...</td>\n",
       "      <td>...</td>\n",
       "      <td>...</td>\n",
       "      <td>...</td>\n",
       "      <td>...</td>\n",
       "      <td>...</td>\n",
       "      <td>...</td>\n",
       "      <td>...</td>\n",
       "      <td>...</td>\n",
       "      <td>...</td>\n",
       "      <td>...</td>\n",
       "    </tr>\n",
       "    <tr>\n",
       "      <th>175125</th>\n",
       "      <td>175126</td>\n",
       "      <td>0.653375</td>\n",
       "      <td>tcp</td>\n",
       "      <td>-</td>\n",
       "      <td>FIN</td>\n",
       "      <td>10</td>\n",
       "      <td>8</td>\n",
       "      <td>564</td>\n",
       "      <td>354</td>\n",
       "      <td>26.018748</td>\n",
       "      <td>...</td>\n",
       "      <td>1</td>\n",
       "      <td>1</td>\n",
       "      <td>0</td>\n",
       "      <td>0</td>\n",
       "      <td>0</td>\n",
       "      <td>18</td>\n",
       "      <td>1</td>\n",
       "      <td>0</td>\n",
       "      <td>Reconnaissance</td>\n",
       "      <td>1</td>\n",
       "    </tr>\n",
       "    <tr>\n",
       "      <th>175179</th>\n",
       "      <td>175180</td>\n",
       "      <td>0.695566</td>\n",
       "      <td>tcp</td>\n",
       "      <td>-</td>\n",
       "      <td>FIN</td>\n",
       "      <td>10</td>\n",
       "      <td>8</td>\n",
       "      <td>564</td>\n",
       "      <td>354</td>\n",
       "      <td>24.440528</td>\n",
       "      <td>...</td>\n",
       "      <td>1</td>\n",
       "      <td>1</td>\n",
       "      <td>0</td>\n",
       "      <td>0</td>\n",
       "      <td>0</td>\n",
       "      <td>3</td>\n",
       "      <td>1</td>\n",
       "      <td>0</td>\n",
       "      <td>Reconnaissance</td>\n",
       "      <td>1</td>\n",
       "    </tr>\n",
       "    <tr>\n",
       "      <th>175191</th>\n",
       "      <td>175192</td>\n",
       "      <td>0.962856</td>\n",
       "      <td>tcp</td>\n",
       "      <td>-</td>\n",
       "      <td>FIN</td>\n",
       "      <td>24</td>\n",
       "      <td>60</td>\n",
       "      <td>1256</td>\n",
       "      <td>59374</td>\n",
       "      <td>86.201883</td>\n",
       "      <td>...</td>\n",
       "      <td>1</td>\n",
       "      <td>1</td>\n",
       "      <td>0</td>\n",
       "      <td>0</td>\n",
       "      <td>0</td>\n",
       "      <td>1</td>\n",
       "      <td>1</td>\n",
       "      <td>0</td>\n",
       "      <td>Exploits</td>\n",
       "      <td>1</td>\n",
       "    </tr>\n",
       "    <tr>\n",
       "      <th>175277</th>\n",
       "      <td>175278</td>\n",
       "      <td>3.719110</td>\n",
       "      <td>tcp</td>\n",
       "      <td>-</td>\n",
       "      <td>FIN</td>\n",
       "      <td>66</td>\n",
       "      <td>340</td>\n",
       "      <td>3086</td>\n",
       "      <td>426483</td>\n",
       "      <td>108.897021</td>\n",
       "      <td>...</td>\n",
       "      <td>1</td>\n",
       "      <td>1</td>\n",
       "      <td>0</td>\n",
       "      <td>0</td>\n",
       "      <td>0</td>\n",
       "      <td>2</td>\n",
       "      <td>1</td>\n",
       "      <td>0</td>\n",
       "      <td>Exploits</td>\n",
       "      <td>1</td>\n",
       "    </tr>\n",
       "    <tr>\n",
       "      <th>175337</th>\n",
       "      <td>175338</td>\n",
       "      <td>0.505762</td>\n",
       "      <td>tcp</td>\n",
       "      <td>-</td>\n",
       "      <td>FIN</td>\n",
       "      <td>10</td>\n",
       "      <td>8</td>\n",
       "      <td>620</td>\n",
       "      <td>354</td>\n",
       "      <td>33.612649</td>\n",
       "      <td>...</td>\n",
       "      <td>1</td>\n",
       "      <td>2</td>\n",
       "      <td>0</td>\n",
       "      <td>0</td>\n",
       "      <td>0</td>\n",
       "      <td>1</td>\n",
       "      <td>1</td>\n",
       "      <td>0</td>\n",
       "      <td>Shellcode</td>\n",
       "      <td>1</td>\n",
       "    </tr>\n",
       "  </tbody>\n",
       "</table>\n",
       "<p>94168 rows × 45 columns</p>\n",
       "</div>"
      ],
      "text/plain": [
       "            id       dur proto service state  spkts  dpkts  sbytes  dbytes  \\\n",
       "0            1  0.121478   tcp       -   FIN      6      4     258     172   \n",
       "1            2  0.649902   tcp       -   FIN     14     38     734   42014   \n",
       "2            3  1.623129   tcp       -   FIN      8     16     364   13186   \n",
       "4            5  0.449454   tcp       -   FIN     10      6     534     268   \n",
       "5            6  0.380537   tcp       -   FIN     10      6     534     268   \n",
       "...        ...       ...   ...     ...   ...    ...    ...     ...     ...   \n",
       "175125  175126  0.653375   tcp       -   FIN     10      8     564     354   \n",
       "175179  175180  0.695566   tcp       -   FIN     10      8     564     354   \n",
       "175191  175192  0.962856   tcp       -   FIN     24     60    1256   59374   \n",
       "175277  175278  3.719110   tcp       -   FIN     66    340    3086  426483   \n",
       "175337  175338  0.505762   tcp       -   FIN     10      8     620     354   \n",
       "\n",
       "              rate  ...  ct_dst_sport_ltm  ct_dst_src_ltm  is_ftp_login  \\\n",
       "0        74.087490  ...                 1               1             0   \n",
       "1        78.473372  ...                 1               2             0   \n",
       "2        14.170161  ...                 1               3             0   \n",
       "4        33.373826  ...                 1              40             0   \n",
       "5        39.417980  ...                 1              40             0   \n",
       "...            ...  ...               ...             ...           ...   \n",
       "175125   26.018748  ...                 1               1             0   \n",
       "175179   24.440528  ...                 1               1             0   \n",
       "175191   86.201883  ...                 1               1             0   \n",
       "175277  108.897021  ...                 1               1             0   \n",
       "175337   33.612649  ...                 1               2             0   \n",
       "\n",
       "        ct_ftp_cmd  ct_flw_http_mthd  ct_src_ltm  ct_srv_dst  is_sm_ips_ports  \\\n",
       "0                0                 0           1           1                0   \n",
       "1                0                 0           1           6                0   \n",
       "2                0                 0           2           6                0   \n",
       "4                0                 0           2          39                0   \n",
       "5                0                 0           2          39                0   \n",
       "...            ...               ...         ...         ...              ...   \n",
       "175125           0                 0          18           1                0   \n",
       "175179           0                 0           3           1                0   \n",
       "175191           0                 0           1           1                0   \n",
       "175277           0                 0           2           1                0   \n",
       "175337           0                 0           1           1                0   \n",
       "\n",
       "            attack_cat  label  \n",
       "0               Normal      0  \n",
       "1               Normal      0  \n",
       "2               Normal      0  \n",
       "4               Normal      0  \n",
       "5               Normal      0  \n",
       "...                ...    ...  \n",
       "175125  Reconnaissance      1  \n",
       "175179  Reconnaissance      1  \n",
       "175191        Exploits      1  \n",
       "175277        Exploits      1  \n",
       "175337       Shellcode      1  \n",
       "\n",
       "[94168 rows x 45 columns]"
      ]
     },
     "execution_count": 9,
     "metadata": {},
     "output_type": "execute_result"
    }
   ],
   "source": [
    "data[data['service']=='-']"
   ]
  },
  {
   "cell_type": "code",
   "execution_count": 10,
   "metadata": {
    "id": "ySdfpAsaCabg"
   },
   "outputs": [],
   "source": [
    "data['service'].replace('-',np.nan,inplace=True)"
   ]
  },
  {
   "cell_type": "code",
   "execution_count": 11,
   "metadata": {
    "colab": {
     "base_uri": "https://localhost:8080/"
    },
    "id": "zO7VNaGKDYDA",
    "outputId": "71d063d1-13b0-4391-cd12-5551e170c907"
   },
   "outputs": [
    {
     "data": {
      "text/plain": [
       "id                       0\n",
       "dur                      0\n",
       "proto                    0\n",
       "service              94168\n",
       "state                    0\n",
       "spkts                    0\n",
       "dpkts                    0\n",
       "sbytes                   0\n",
       "dbytes                   0\n",
       "rate                     0\n",
       "sttl                     0\n",
       "dttl                     0\n",
       "sload                    0\n",
       "dload                    0\n",
       "sloss                    0\n",
       "dloss                    0\n",
       "sinpkt                   0\n",
       "dinpkt                   0\n",
       "sjit                     0\n",
       "djit                     0\n",
       "swin                     0\n",
       "stcpb                    0\n",
       "dtcpb                    0\n",
       "dwin                     0\n",
       "tcprtt                   0\n",
       "synack                   0\n",
       "ackdat                   0\n",
       "smean                    0\n",
       "dmean                    0\n",
       "trans_depth              0\n",
       "response_body_len        0\n",
       "ct_srv_src               0\n",
       "ct_state_ttl             0\n",
       "ct_dst_ltm               0\n",
       "ct_src_dport_ltm         0\n",
       "ct_dst_sport_ltm         0\n",
       "ct_dst_src_ltm           0\n",
       "is_ftp_login             0\n",
       "ct_ftp_cmd               0\n",
       "ct_flw_http_mthd         0\n",
       "ct_src_ltm               0\n",
       "ct_srv_dst               0\n",
       "is_sm_ips_ports          0\n",
       "attack_cat               0\n",
       "label                    0\n",
       "dtype: int64"
      ]
     },
     "execution_count": 11,
     "metadata": {},
     "output_type": "execute_result"
    }
   ],
   "source": [
    "data.isnull().sum()"
   ]
  },
  {
   "cell_type": "code",
   "execution_count": 12,
   "metadata": {
    "colab": {
     "base_uri": "https://localhost:8080/"
    },
    "id": "p1rm-THJD71O",
    "outputId": "833a6478-926f-46af-e224-5a7dbf9a75fa"
   },
   "outputs": [
    {
     "data": {
      "text/plain": [
       "(175341, 45)"
      ]
     },
     "execution_count": 12,
     "metadata": {},
     "output_type": "execute_result"
    }
   ],
   "source": [
    "data.shape"
   ]
  },
  {
   "cell_type": "code",
   "execution_count": 13,
   "metadata": {
    "id": "qIPIPT0PD1b_"
   },
   "outputs": [],
   "source": [
    "data.dropna(inplace=True)"
   ]
  },
  {
   "cell_type": "code",
   "execution_count": 14,
   "metadata": {
    "colab": {
     "base_uri": "https://localhost:8080/"
    },
    "id": "PCdLLz3EEkfd",
    "outputId": "aa346e0e-2fa8-4d19-cce6-4224ec2941ab"
   },
   "outputs": [
    {
     "data": {
      "text/plain": [
       "(81173, 45)"
      ]
     },
     "execution_count": 14,
     "metadata": {},
     "output_type": "execute_result"
    }
   ],
   "source": [
    "data.shape"
   ]
  },
  {
   "cell_type": "code",
   "execution_count": 15,
   "metadata": {
    "colab": {
     "base_uri": "https://localhost:8080/"
    },
    "id": "sJNxMEoqbYvG",
    "outputId": "7bb21df1-c32f-4b17-f86e-fc7165b7c980"
   },
   "outputs": [
    {
     "data": {
      "text/plain": [
       "Generic           39496\n",
       "Normal            19488\n",
       "Exploits          16187\n",
       "DoS                1791\n",
       "Fuzzers            1731\n",
       "Reconnaissance     1703\n",
       "Analysis            564\n",
       "Worms               114\n",
       "Backdoor             99\n",
       "Name: attack_cat, dtype: int64"
      ]
     },
     "execution_count": 15,
     "metadata": {},
     "output_type": "execute_result"
    }
   ],
   "source": [
    "data['attack_cat'].value_counts()"
   ]
  },
  {
   "cell_type": "code",
   "execution_count": 16,
   "metadata": {
    "colab": {
     "base_uri": "https://localhost:8080/"
    },
    "id": "rFnIMHYxcYWW",
    "outputId": "b24711a9-6d26-468b-e724-169a758fb489"
   },
   "outputs": [
    {
     "data": {
      "text/plain": [
       "INT    39580\n",
       "FIN    33640\n",
       "CON     7711\n",
       "REQ      228\n",
       "RST       14\n",
       "Name: state, dtype: int64"
      ]
     },
     "execution_count": 16,
     "metadata": {},
     "output_type": "execute_result"
    }
   ],
   "source": [
    "data['state'].value_counts()"
   ]
  },
  {
   "cell_type": "code",
   "execution_count": 17,
   "metadata": {
    "colab": {
     "base_uri": "https://localhost:8080/",
     "height": 439
    },
    "id": "O3-FL4ETdp4d",
    "outputId": "5be2c7ec-51e3-4de0-ceee-f1c2cd40ae77"
   },
   "outputs": [
    {
     "data": {
      "text/html": [
       "<div>\n",
       "<style scoped>\n",
       "    .dataframe tbody tr th:only-of-type {\n",
       "        vertical-align: middle;\n",
       "    }\n",
       "\n",
       "    .dataframe tbody tr th {\n",
       "        vertical-align: top;\n",
       "    }\n",
       "\n",
       "    .dataframe thead th {\n",
       "        text-align: right;\n",
       "    }\n",
       "</style>\n",
       "<table border=\"1\" class=\"dataframe\">\n",
       "  <thead>\n",
       "    <tr style=\"text-align: right;\">\n",
       "      <th></th>\n",
       "      <th>id</th>\n",
       "      <th>dur</th>\n",
       "      <th>proto</th>\n",
       "      <th>service</th>\n",
       "      <th>state</th>\n",
       "      <th>spkts</th>\n",
       "      <th>dpkts</th>\n",
       "      <th>sbytes</th>\n",
       "      <th>dbytes</th>\n",
       "      <th>rate</th>\n",
       "      <th>...</th>\n",
       "      <th>ct_dst_sport_ltm</th>\n",
       "      <th>ct_dst_src_ltm</th>\n",
       "      <th>is_ftp_login</th>\n",
       "      <th>ct_ftp_cmd</th>\n",
       "      <th>ct_flw_http_mthd</th>\n",
       "      <th>ct_src_ltm</th>\n",
       "      <th>ct_srv_dst</th>\n",
       "      <th>is_sm_ips_ports</th>\n",
       "      <th>attack_cat</th>\n",
       "      <th>label</th>\n",
       "    </tr>\n",
       "  </thead>\n",
       "  <tbody>\n",
       "    <tr>\n",
       "      <th>3</th>\n",
       "      <td>4</td>\n",
       "      <td>1.681642</td>\n",
       "      <td>tcp</td>\n",
       "      <td>ftp</td>\n",
       "      <td>FIN</td>\n",
       "      <td>12</td>\n",
       "      <td>12</td>\n",
       "      <td>628</td>\n",
       "      <td>770</td>\n",
       "      <td>13.677108</td>\n",
       "      <td>...</td>\n",
       "      <td>1</td>\n",
       "      <td>3</td>\n",
       "      <td>1</td>\n",
       "      <td>1</td>\n",
       "      <td>0</td>\n",
       "      <td>2</td>\n",
       "      <td>1</td>\n",
       "      <td>0</td>\n",
       "      <td>Normal</td>\n",
       "      <td>0</td>\n",
       "    </tr>\n",
       "    <tr>\n",
       "      <th>11</th>\n",
       "      <td>12</td>\n",
       "      <td>2.093085</td>\n",
       "      <td>tcp</td>\n",
       "      <td>smtp</td>\n",
       "      <td>FIN</td>\n",
       "      <td>62</td>\n",
       "      <td>28</td>\n",
       "      <td>56329</td>\n",
       "      <td>2212</td>\n",
       "      <td>42.520967</td>\n",
       "      <td>...</td>\n",
       "      <td>1</td>\n",
       "      <td>2</td>\n",
       "      <td>0</td>\n",
       "      <td>0</td>\n",
       "      <td>0</td>\n",
       "      <td>1</td>\n",
       "      <td>1</td>\n",
       "      <td>0</td>\n",
       "      <td>Normal</td>\n",
       "      <td>0</td>\n",
       "    </tr>\n",
       "    <tr>\n",
       "      <th>15</th>\n",
       "      <td>16</td>\n",
       "      <td>0.000002</td>\n",
       "      <td>udp</td>\n",
       "      <td>snmp</td>\n",
       "      <td>INT</td>\n",
       "      <td>2</td>\n",
       "      <td>0</td>\n",
       "      <td>138</td>\n",
       "      <td>0</td>\n",
       "      <td>500000.001300</td>\n",
       "      <td>...</td>\n",
       "      <td>1</td>\n",
       "      <td>4</td>\n",
       "      <td>0</td>\n",
       "      <td>0</td>\n",
       "      <td>0</td>\n",
       "      <td>2</td>\n",
       "      <td>1</td>\n",
       "      <td>0</td>\n",
       "      <td>Normal</td>\n",
       "      <td>0</td>\n",
       "    </tr>\n",
       "    <tr>\n",
       "      <th>17</th>\n",
       "      <td>18</td>\n",
       "      <td>0.393556</td>\n",
       "      <td>tcp</td>\n",
       "      <td>http</td>\n",
       "      <td>FIN</td>\n",
       "      <td>10</td>\n",
       "      <td>8</td>\n",
       "      <td>860</td>\n",
       "      <td>1096</td>\n",
       "      <td>43.195886</td>\n",
       "      <td>...</td>\n",
       "      <td>1</td>\n",
       "      <td>2</td>\n",
       "      <td>0</td>\n",
       "      <td>0</td>\n",
       "      <td>1</td>\n",
       "      <td>1</td>\n",
       "      <td>3</td>\n",
       "      <td>0</td>\n",
       "      <td>Normal</td>\n",
       "      <td>0</td>\n",
       "    </tr>\n",
       "    <tr>\n",
       "      <th>21</th>\n",
       "      <td>22</td>\n",
       "      <td>0.338017</td>\n",
       "      <td>tcp</td>\n",
       "      <td>http</td>\n",
       "      <td>FIN</td>\n",
       "      <td>10</td>\n",
       "      <td>6</td>\n",
       "      <td>998</td>\n",
       "      <td>268</td>\n",
       "      <td>44.376468</td>\n",
       "      <td>...</td>\n",
       "      <td>1</td>\n",
       "      <td>1</td>\n",
       "      <td>0</td>\n",
       "      <td>0</td>\n",
       "      <td>1</td>\n",
       "      <td>2</td>\n",
       "      <td>3</td>\n",
       "      <td>0</td>\n",
       "      <td>Normal</td>\n",
       "      <td>0</td>\n",
       "    </tr>\n",
       "    <tr>\n",
       "      <th>...</th>\n",
       "      <td>...</td>\n",
       "      <td>...</td>\n",
       "      <td>...</td>\n",
       "      <td>...</td>\n",
       "      <td>...</td>\n",
       "      <td>...</td>\n",
       "      <td>...</td>\n",
       "      <td>...</td>\n",
       "      <td>...</td>\n",
       "      <td>...</td>\n",
       "      <td>...</td>\n",
       "      <td>...</td>\n",
       "      <td>...</td>\n",
       "      <td>...</td>\n",
       "      <td>...</td>\n",
       "      <td>...</td>\n",
       "      <td>...</td>\n",
       "      <td>...</td>\n",
       "      <td>...</td>\n",
       "      <td>...</td>\n",
       "      <td>...</td>\n",
       "    </tr>\n",
       "    <tr>\n",
       "      <th>175335</th>\n",
       "      <td>175336</td>\n",
       "      <td>0.000006</td>\n",
       "      <td>udp</td>\n",
       "      <td>dns</td>\n",
       "      <td>INT</td>\n",
       "      <td>2</td>\n",
       "      <td>0</td>\n",
       "      <td>114</td>\n",
       "      <td>0</td>\n",
       "      <td>166666.660800</td>\n",
       "      <td>...</td>\n",
       "      <td>17</td>\n",
       "      <td>45</td>\n",
       "      <td>0</td>\n",
       "      <td>0</td>\n",
       "      <td>0</td>\n",
       "      <td>33</td>\n",
       "      <td>45</td>\n",
       "      <td>0</td>\n",
       "      <td>Generic</td>\n",
       "      <td>1</td>\n",
       "    </tr>\n",
       "    <tr>\n",
       "      <th>175336</th>\n",
       "      <td>175337</td>\n",
       "      <td>0.000009</td>\n",
       "      <td>udp</td>\n",
       "      <td>dns</td>\n",
       "      <td>INT</td>\n",
       "      <td>2</td>\n",
       "      <td>0</td>\n",
       "      <td>114</td>\n",
       "      <td>0</td>\n",
       "      <td>111111.107200</td>\n",
       "      <td>...</td>\n",
       "      <td>13</td>\n",
       "      <td>24</td>\n",
       "      <td>0</td>\n",
       "      <td>0</td>\n",
       "      <td>0</td>\n",
       "      <td>24</td>\n",
       "      <td>24</td>\n",
       "      <td>0</td>\n",
       "      <td>Generic</td>\n",
       "      <td>1</td>\n",
       "    </tr>\n",
       "    <tr>\n",
       "      <th>175338</th>\n",
       "      <td>175339</td>\n",
       "      <td>0.000009</td>\n",
       "      <td>udp</td>\n",
       "      <td>dns</td>\n",
       "      <td>INT</td>\n",
       "      <td>2</td>\n",
       "      <td>0</td>\n",
       "      <td>114</td>\n",
       "      <td>0</td>\n",
       "      <td>111111.107200</td>\n",
       "      <td>...</td>\n",
       "      <td>3</td>\n",
       "      <td>13</td>\n",
       "      <td>0</td>\n",
       "      <td>0</td>\n",
       "      <td>0</td>\n",
       "      <td>3</td>\n",
       "      <td>12</td>\n",
       "      <td>0</td>\n",
       "      <td>Generic</td>\n",
       "      <td>1</td>\n",
       "    </tr>\n",
       "    <tr>\n",
       "      <th>175339</th>\n",
       "      <td>175340</td>\n",
       "      <td>0.000009</td>\n",
       "      <td>udp</td>\n",
       "      <td>dns</td>\n",
       "      <td>INT</td>\n",
       "      <td>2</td>\n",
       "      <td>0</td>\n",
       "      <td>114</td>\n",
       "      <td>0</td>\n",
       "      <td>111111.107200</td>\n",
       "      <td>...</td>\n",
       "      <td>14</td>\n",
       "      <td>30</td>\n",
       "      <td>0</td>\n",
       "      <td>0</td>\n",
       "      <td>0</td>\n",
       "      <td>30</td>\n",
       "      <td>30</td>\n",
       "      <td>0</td>\n",
       "      <td>Generic</td>\n",
       "      <td>1</td>\n",
       "    </tr>\n",
       "    <tr>\n",
       "      <th>175340</th>\n",
       "      <td>175341</td>\n",
       "      <td>0.000009</td>\n",
       "      <td>udp</td>\n",
       "      <td>dns</td>\n",
       "      <td>INT</td>\n",
       "      <td>2</td>\n",
       "      <td>0</td>\n",
       "      <td>114</td>\n",
       "      <td>0</td>\n",
       "      <td>111111.107200</td>\n",
       "      <td>...</td>\n",
       "      <td>16</td>\n",
       "      <td>30</td>\n",
       "      <td>0</td>\n",
       "      <td>0</td>\n",
       "      <td>0</td>\n",
       "      <td>30</td>\n",
       "      <td>30</td>\n",
       "      <td>0</td>\n",
       "      <td>Generic</td>\n",
       "      <td>1</td>\n",
       "    </tr>\n",
       "  </tbody>\n",
       "</table>\n",
       "<p>81173 rows × 45 columns</p>\n",
       "</div>"
      ],
      "text/plain": [
       "            id       dur proto service state  spkts  dpkts  sbytes  dbytes  \\\n",
       "3            4  1.681642   tcp     ftp   FIN     12     12     628     770   \n",
       "11          12  2.093085   tcp    smtp   FIN     62     28   56329    2212   \n",
       "15          16  0.000002   udp    snmp   INT      2      0     138       0   \n",
       "17          18  0.393556   tcp    http   FIN     10      8     860    1096   \n",
       "21          22  0.338017   tcp    http   FIN     10      6     998     268   \n",
       "...        ...       ...   ...     ...   ...    ...    ...     ...     ...   \n",
       "175335  175336  0.000006   udp     dns   INT      2      0     114       0   \n",
       "175336  175337  0.000009   udp     dns   INT      2      0     114       0   \n",
       "175338  175339  0.000009   udp     dns   INT      2      0     114       0   \n",
       "175339  175340  0.000009   udp     dns   INT      2      0     114       0   \n",
       "175340  175341  0.000009   udp     dns   INT      2      0     114       0   \n",
       "\n",
       "                 rate  ...  ct_dst_sport_ltm  ct_dst_src_ltm  is_ftp_login  \\\n",
       "3           13.677108  ...                 1               3             1   \n",
       "11          42.520967  ...                 1               2             0   \n",
       "15      500000.001300  ...                 1               4             0   \n",
       "17          43.195886  ...                 1               2             0   \n",
       "21          44.376468  ...                 1               1             0   \n",
       "...               ...  ...               ...             ...           ...   \n",
       "175335  166666.660800  ...                17              45             0   \n",
       "175336  111111.107200  ...                13              24             0   \n",
       "175338  111111.107200  ...                 3              13             0   \n",
       "175339  111111.107200  ...                14              30             0   \n",
       "175340  111111.107200  ...                16              30             0   \n",
       "\n",
       "        ct_ftp_cmd  ct_flw_http_mthd  ct_src_ltm  ct_srv_dst  is_sm_ips_ports  \\\n",
       "3                1                 0           2           1                0   \n",
       "11               0                 0           1           1                0   \n",
       "15               0                 0           2           1                0   \n",
       "17               0                 1           1           3                0   \n",
       "21               0                 1           2           3                0   \n",
       "...            ...               ...         ...         ...              ...   \n",
       "175335           0                 0          33          45                0   \n",
       "175336           0                 0          24          24                0   \n",
       "175338           0                 0           3          12                0   \n",
       "175339           0                 0          30          30                0   \n",
       "175340           0                 0          30          30                0   \n",
       "\n",
       "        attack_cat  label  \n",
       "3           Normal      0  \n",
       "11          Normal      0  \n",
       "15          Normal      0  \n",
       "17          Normal      0  \n",
       "21          Normal      0  \n",
       "...            ...    ...  \n",
       "175335     Generic      1  \n",
       "175336     Generic      1  \n",
       "175338     Generic      1  \n",
       "175339     Generic      1  \n",
       "175340     Generic      1  \n",
       "\n",
       "[81173 rows x 45 columns]"
      ]
     },
     "execution_count": 17,
     "metadata": {},
     "output_type": "execute_result"
    }
   ],
   "source": [
    "data"
   ]
  },
  {
   "cell_type": "code",
   "execution_count": 18,
   "metadata": {
    "id": "DGfimWMVFKmr"
   },
   "outputs": [],
   "source": [
    "#features = pd.read_csv('/content/drive/MyDrive/IoT_ML_Dataset/UNSW/UNSW_NB15_features.csv')\n",
    "features = pd.read_csv('datasets/UNSW_NB15_features.csv')"
   ]
  },
  {
   "cell_type": "code",
   "execution_count": 19,
   "metadata": {
    "colab": {
     "base_uri": "https://localhost:8080/",
     "height": 204
    },
    "id": "hrYdxinYvMP9",
    "outputId": "d0e10f0f-42f2-4edc-deee-a2fde81679cd"
   },
   "outputs": [
    {
     "data": {
      "text/html": [
       "<div>\n",
       "<style scoped>\n",
       "    .dataframe tbody tr th:only-of-type {\n",
       "        vertical-align: middle;\n",
       "    }\n",
       "\n",
       "    .dataframe tbody tr th {\n",
       "        vertical-align: top;\n",
       "    }\n",
       "\n",
       "    .dataframe thead th {\n",
       "        text-align: right;\n",
       "    }\n",
       "</style>\n",
       "<table border=\"1\" class=\"dataframe\">\n",
       "  <thead>\n",
       "    <tr style=\"text-align: right;\">\n",
       "      <th></th>\n",
       "      <th>No.</th>\n",
       "      <th>Name</th>\n",
       "      <th>Type</th>\n",
       "      <th>Description</th>\n",
       "    </tr>\n",
       "  </thead>\n",
       "  <tbody>\n",
       "    <tr>\n",
       "      <th>0</th>\n",
       "      <td>1</td>\n",
       "      <td>srcip</td>\n",
       "      <td>nominal</td>\n",
       "      <td>Source IP address</td>\n",
       "    </tr>\n",
       "    <tr>\n",
       "      <th>1</th>\n",
       "      <td>2</td>\n",
       "      <td>sport</td>\n",
       "      <td>integer</td>\n",
       "      <td>Source port number</td>\n",
       "    </tr>\n",
       "    <tr>\n",
       "      <th>2</th>\n",
       "      <td>3</td>\n",
       "      <td>dstip</td>\n",
       "      <td>nominal</td>\n",
       "      <td>Destination IP address</td>\n",
       "    </tr>\n",
       "    <tr>\n",
       "      <th>3</th>\n",
       "      <td>4</td>\n",
       "      <td>dsport</td>\n",
       "      <td>integer</td>\n",
       "      <td>Destination port number</td>\n",
       "    </tr>\n",
       "    <tr>\n",
       "      <th>4</th>\n",
       "      <td>5</td>\n",
       "      <td>proto</td>\n",
       "      <td>nominal</td>\n",
       "      <td>Transaction protocol</td>\n",
       "    </tr>\n",
       "  </tbody>\n",
       "</table>\n",
       "</div>"
      ],
      "text/plain": [
       "   No.    Name    Type               Description\n",
       "0    1   srcip  nominal        Source IP address\n",
       "1    2   sport  integer       Source port number\n",
       "2    3   dstip  nominal   Destination IP address\n",
       "3    4  dsport  integer  Destination port number\n",
       "4    5   proto  nominal     Transaction protocol"
      ]
     },
     "execution_count": 19,
     "metadata": {},
     "output_type": "execute_result"
    }
   ],
   "source": [
    "features.head()"
   ]
  },
  {
   "cell_type": "code",
   "execution_count": 20,
   "metadata": {
    "id": "jT53NXCYfQDX"
   },
   "outputs": [],
   "source": [
    "features['Type '] = features['Type '].str.lower()"
   ]
  },
  {
   "cell_type": "code",
   "execution_count": 21,
   "metadata": {
    "id": "4UifBmzfc7Mx"
   },
   "outputs": [],
   "source": [
    "# selecting column names of all data types\n",
    "nominal_names = features['Name'][features['Type ']=='nominal']\n",
    "integer_names = features['Name'][features['Type ']=='integer']\n",
    "binary_names = features['Name'][features['Type ']=='binary']\n",
    "float_names = features['Name'][features['Type ']=='float']"
   ]
  },
  {
   "cell_type": "code",
   "execution_count": 22,
   "metadata": {
    "colab": {
     "background_save": true
    },
    "id": "Sc2ttPn6r7Tz"
   },
   "outputs": [],
   "source": [
    "# selecting common column names from dataset and feature dataset\n",
    "cols = data.columns\n",
    "nominal_names = cols.intersection(nominal_names)\n",
    "integer_names = cols.intersection(integer_names)\n",
    "binary_names = cols.intersection(binary_names)\n",
    "float_names = cols.intersection(float_names)"
   ]
  },
  {
   "cell_type": "code",
   "execution_count": 23,
   "metadata": {
    "colab": {
     "background_save": true
    },
    "id": "f-z_BVLyu0vE"
   },
   "outputs": [],
   "source": [
    "# Converting integer columns to numeric\n",
    "for c in integer_names:\n",
    "  pd.to_numeric(data[c])"
   ]
  },
  {
   "cell_type": "code",
   "execution_count": 24,
   "metadata": {
    "colab": {
     "background_save": true
    },
    "id": "hc_tnXdGvkpD"
   },
   "outputs": [],
   "source": [
    "# Converting binary columns to numeric\n",
    "for c in binary_names:\n",
    "  pd.to_numeric(data[c])"
   ]
  },
  {
   "cell_type": "code",
   "execution_count": 25,
   "metadata": {
    "colab": {
     "background_save": true
    },
    "id": "M3uJUVe9vpyx"
   },
   "outputs": [],
   "source": [
    "# Converting float columns to numeric\n",
    "for c in float_names:\n",
    "  pd.to_numeric(data[c])"
   ]
  },
  {
   "cell_type": "code",
   "execution_count": 26,
   "metadata": {
    "colab": {
     "background_save": true,
     "base_uri": "https://localhost:8080/"
    },
    "id": "JHfR566WrIr6",
    "outputId": "31a815e5-ef87-4748-c01a-0a2fe3bd85af"
   },
   "outputs": [
    {
     "name": "stdout",
     "output_type": "stream",
     "text": [
      "<class 'pandas.core.frame.DataFrame'>\n",
      "Int64Index: 81173 entries, 3 to 175340\n",
      "Data columns (total 45 columns):\n",
      " #   Column             Non-Null Count  Dtype  \n",
      "---  ------             --------------  -----  \n",
      " 0   id                 81173 non-null  int64  \n",
      " 1   dur                81173 non-null  float64\n",
      " 2   proto              81173 non-null  object \n",
      " 3   service            81173 non-null  object \n",
      " 4   state              81173 non-null  object \n",
      " 5   spkts              81173 non-null  int64  \n",
      " 6   dpkts              81173 non-null  int64  \n",
      " 7   sbytes             81173 non-null  int64  \n",
      " 8   dbytes             81173 non-null  int64  \n",
      " 9   rate               81173 non-null  float64\n",
      " 10  sttl               81173 non-null  int64  \n",
      " 11  dttl               81173 non-null  int64  \n",
      " 12  sload              81173 non-null  float64\n",
      " 13  dload              81173 non-null  float64\n",
      " 14  sloss              81173 non-null  int64  \n",
      " 15  dloss              81173 non-null  int64  \n",
      " 16  sinpkt             81173 non-null  float64\n",
      " 17  dinpkt             81173 non-null  float64\n",
      " 18  sjit               81173 non-null  float64\n",
      " 19  djit               81173 non-null  float64\n",
      " 20  swin               81173 non-null  int64  \n",
      " 21  stcpb              81173 non-null  int64  \n",
      " 22  dtcpb              81173 non-null  int64  \n",
      " 23  dwin               81173 non-null  int64  \n",
      " 24  tcprtt             81173 non-null  float64\n",
      " 25  synack             81173 non-null  float64\n",
      " 26  ackdat             81173 non-null  float64\n",
      " 27  smean              81173 non-null  int64  \n",
      " 28  dmean              81173 non-null  int64  \n",
      " 29  trans_depth        81173 non-null  int64  \n",
      " 30  response_body_len  81173 non-null  int64  \n",
      " 31  ct_srv_src         81173 non-null  int64  \n",
      " 32  ct_state_ttl       81173 non-null  int64  \n",
      " 33  ct_dst_ltm         81173 non-null  int64  \n",
      " 34  ct_src_dport_ltm   81173 non-null  int64  \n",
      " 35  ct_dst_sport_ltm   81173 non-null  int64  \n",
      " 36  ct_dst_src_ltm     81173 non-null  int64  \n",
      " 37  is_ftp_login       81173 non-null  int64  \n",
      " 38  ct_ftp_cmd         81173 non-null  int64  \n",
      " 39  ct_flw_http_mthd   81173 non-null  int64  \n",
      " 40  ct_src_ltm         81173 non-null  int64  \n",
      " 41  ct_srv_dst         81173 non-null  int64  \n",
      " 42  is_sm_ips_ports    81173 non-null  int64  \n",
      " 43  attack_cat         81173 non-null  object \n",
      " 44  label              81173 non-null  int64  \n",
      "dtypes: float64(11), int64(30), object(4)\n",
      "memory usage: 28.5+ MB\n"
     ]
    }
   ],
   "source": [
    "data.info()"
   ]
  },
  {
   "cell_type": "code",
   "execution_count": 27,
   "metadata": {
    "colab": {
     "background_save": true,
     "base_uri": "https://localhost:8080/",
     "height": 439
    },
    "id": "heqj3TJmv2B4",
    "outputId": "ae5525e8-c1cc-4707-aa88-9b33a16a75ab"
   },
   "outputs": [
    {
     "data": {
      "text/html": [
       "<div>\n",
       "<style scoped>\n",
       "    .dataframe tbody tr th:only-of-type {\n",
       "        vertical-align: middle;\n",
       "    }\n",
       "\n",
       "    .dataframe tbody tr th {\n",
       "        vertical-align: top;\n",
       "    }\n",
       "\n",
       "    .dataframe thead th {\n",
       "        text-align: right;\n",
       "    }\n",
       "</style>\n",
       "<table border=\"1\" class=\"dataframe\">\n",
       "  <thead>\n",
       "    <tr style=\"text-align: right;\">\n",
       "      <th></th>\n",
       "      <th>id</th>\n",
       "      <th>dur</th>\n",
       "      <th>proto</th>\n",
       "      <th>service</th>\n",
       "      <th>state</th>\n",
       "      <th>spkts</th>\n",
       "      <th>dpkts</th>\n",
       "      <th>sbytes</th>\n",
       "      <th>dbytes</th>\n",
       "      <th>rate</th>\n",
       "      <th>...</th>\n",
       "      <th>ct_dst_sport_ltm</th>\n",
       "      <th>ct_dst_src_ltm</th>\n",
       "      <th>is_ftp_login</th>\n",
       "      <th>ct_ftp_cmd</th>\n",
       "      <th>ct_flw_http_mthd</th>\n",
       "      <th>ct_src_ltm</th>\n",
       "      <th>ct_srv_dst</th>\n",
       "      <th>is_sm_ips_ports</th>\n",
       "      <th>attack_cat</th>\n",
       "      <th>label</th>\n",
       "    </tr>\n",
       "  </thead>\n",
       "  <tbody>\n",
       "    <tr>\n",
       "      <th>3</th>\n",
       "      <td>4</td>\n",
       "      <td>1.681642</td>\n",
       "      <td>tcp</td>\n",
       "      <td>ftp</td>\n",
       "      <td>FIN</td>\n",
       "      <td>12</td>\n",
       "      <td>12</td>\n",
       "      <td>628</td>\n",
       "      <td>770</td>\n",
       "      <td>13.677108</td>\n",
       "      <td>...</td>\n",
       "      <td>1</td>\n",
       "      <td>3</td>\n",
       "      <td>1</td>\n",
       "      <td>1</td>\n",
       "      <td>0</td>\n",
       "      <td>2</td>\n",
       "      <td>1</td>\n",
       "      <td>0</td>\n",
       "      <td>Normal</td>\n",
       "      <td>0</td>\n",
       "    </tr>\n",
       "    <tr>\n",
       "      <th>11</th>\n",
       "      <td>12</td>\n",
       "      <td>2.093085</td>\n",
       "      <td>tcp</td>\n",
       "      <td>smtp</td>\n",
       "      <td>FIN</td>\n",
       "      <td>62</td>\n",
       "      <td>28</td>\n",
       "      <td>56329</td>\n",
       "      <td>2212</td>\n",
       "      <td>42.520967</td>\n",
       "      <td>...</td>\n",
       "      <td>1</td>\n",
       "      <td>2</td>\n",
       "      <td>0</td>\n",
       "      <td>0</td>\n",
       "      <td>0</td>\n",
       "      <td>1</td>\n",
       "      <td>1</td>\n",
       "      <td>0</td>\n",
       "      <td>Normal</td>\n",
       "      <td>0</td>\n",
       "    </tr>\n",
       "    <tr>\n",
       "      <th>15</th>\n",
       "      <td>16</td>\n",
       "      <td>0.000002</td>\n",
       "      <td>udp</td>\n",
       "      <td>snmp</td>\n",
       "      <td>INT</td>\n",
       "      <td>2</td>\n",
       "      <td>0</td>\n",
       "      <td>138</td>\n",
       "      <td>0</td>\n",
       "      <td>500000.001300</td>\n",
       "      <td>...</td>\n",
       "      <td>1</td>\n",
       "      <td>4</td>\n",
       "      <td>0</td>\n",
       "      <td>0</td>\n",
       "      <td>0</td>\n",
       "      <td>2</td>\n",
       "      <td>1</td>\n",
       "      <td>0</td>\n",
       "      <td>Normal</td>\n",
       "      <td>0</td>\n",
       "    </tr>\n",
       "    <tr>\n",
       "      <th>17</th>\n",
       "      <td>18</td>\n",
       "      <td>0.393556</td>\n",
       "      <td>tcp</td>\n",
       "      <td>http</td>\n",
       "      <td>FIN</td>\n",
       "      <td>10</td>\n",
       "      <td>8</td>\n",
       "      <td>860</td>\n",
       "      <td>1096</td>\n",
       "      <td>43.195886</td>\n",
       "      <td>...</td>\n",
       "      <td>1</td>\n",
       "      <td>2</td>\n",
       "      <td>0</td>\n",
       "      <td>0</td>\n",
       "      <td>1</td>\n",
       "      <td>1</td>\n",
       "      <td>3</td>\n",
       "      <td>0</td>\n",
       "      <td>Normal</td>\n",
       "      <td>0</td>\n",
       "    </tr>\n",
       "    <tr>\n",
       "      <th>21</th>\n",
       "      <td>22</td>\n",
       "      <td>0.338017</td>\n",
       "      <td>tcp</td>\n",
       "      <td>http</td>\n",
       "      <td>FIN</td>\n",
       "      <td>10</td>\n",
       "      <td>6</td>\n",
       "      <td>998</td>\n",
       "      <td>268</td>\n",
       "      <td>44.376468</td>\n",
       "      <td>...</td>\n",
       "      <td>1</td>\n",
       "      <td>1</td>\n",
       "      <td>0</td>\n",
       "      <td>0</td>\n",
       "      <td>1</td>\n",
       "      <td>2</td>\n",
       "      <td>3</td>\n",
       "      <td>0</td>\n",
       "      <td>Normal</td>\n",
       "      <td>0</td>\n",
       "    </tr>\n",
       "    <tr>\n",
       "      <th>...</th>\n",
       "      <td>...</td>\n",
       "      <td>...</td>\n",
       "      <td>...</td>\n",
       "      <td>...</td>\n",
       "      <td>...</td>\n",
       "      <td>...</td>\n",
       "      <td>...</td>\n",
       "      <td>...</td>\n",
       "      <td>...</td>\n",
       "      <td>...</td>\n",
       "      <td>...</td>\n",
       "      <td>...</td>\n",
       "      <td>...</td>\n",
       "      <td>...</td>\n",
       "      <td>...</td>\n",
       "      <td>...</td>\n",
       "      <td>...</td>\n",
       "      <td>...</td>\n",
       "      <td>...</td>\n",
       "      <td>...</td>\n",
       "      <td>...</td>\n",
       "    </tr>\n",
       "    <tr>\n",
       "      <th>175335</th>\n",
       "      <td>175336</td>\n",
       "      <td>0.000006</td>\n",
       "      <td>udp</td>\n",
       "      <td>dns</td>\n",
       "      <td>INT</td>\n",
       "      <td>2</td>\n",
       "      <td>0</td>\n",
       "      <td>114</td>\n",
       "      <td>0</td>\n",
       "      <td>166666.660800</td>\n",
       "      <td>...</td>\n",
       "      <td>17</td>\n",
       "      <td>45</td>\n",
       "      <td>0</td>\n",
       "      <td>0</td>\n",
       "      <td>0</td>\n",
       "      <td>33</td>\n",
       "      <td>45</td>\n",
       "      <td>0</td>\n",
       "      <td>Generic</td>\n",
       "      <td>1</td>\n",
       "    </tr>\n",
       "    <tr>\n",
       "      <th>175336</th>\n",
       "      <td>175337</td>\n",
       "      <td>0.000009</td>\n",
       "      <td>udp</td>\n",
       "      <td>dns</td>\n",
       "      <td>INT</td>\n",
       "      <td>2</td>\n",
       "      <td>0</td>\n",
       "      <td>114</td>\n",
       "      <td>0</td>\n",
       "      <td>111111.107200</td>\n",
       "      <td>...</td>\n",
       "      <td>13</td>\n",
       "      <td>24</td>\n",
       "      <td>0</td>\n",
       "      <td>0</td>\n",
       "      <td>0</td>\n",
       "      <td>24</td>\n",
       "      <td>24</td>\n",
       "      <td>0</td>\n",
       "      <td>Generic</td>\n",
       "      <td>1</td>\n",
       "    </tr>\n",
       "    <tr>\n",
       "      <th>175338</th>\n",
       "      <td>175339</td>\n",
       "      <td>0.000009</td>\n",
       "      <td>udp</td>\n",
       "      <td>dns</td>\n",
       "      <td>INT</td>\n",
       "      <td>2</td>\n",
       "      <td>0</td>\n",
       "      <td>114</td>\n",
       "      <td>0</td>\n",
       "      <td>111111.107200</td>\n",
       "      <td>...</td>\n",
       "      <td>3</td>\n",
       "      <td>13</td>\n",
       "      <td>0</td>\n",
       "      <td>0</td>\n",
       "      <td>0</td>\n",
       "      <td>3</td>\n",
       "      <td>12</td>\n",
       "      <td>0</td>\n",
       "      <td>Generic</td>\n",
       "      <td>1</td>\n",
       "    </tr>\n",
       "    <tr>\n",
       "      <th>175339</th>\n",
       "      <td>175340</td>\n",
       "      <td>0.000009</td>\n",
       "      <td>udp</td>\n",
       "      <td>dns</td>\n",
       "      <td>INT</td>\n",
       "      <td>2</td>\n",
       "      <td>0</td>\n",
       "      <td>114</td>\n",
       "      <td>0</td>\n",
       "      <td>111111.107200</td>\n",
       "      <td>...</td>\n",
       "      <td>14</td>\n",
       "      <td>30</td>\n",
       "      <td>0</td>\n",
       "      <td>0</td>\n",
       "      <td>0</td>\n",
       "      <td>30</td>\n",
       "      <td>30</td>\n",
       "      <td>0</td>\n",
       "      <td>Generic</td>\n",
       "      <td>1</td>\n",
       "    </tr>\n",
       "    <tr>\n",
       "      <th>175340</th>\n",
       "      <td>175341</td>\n",
       "      <td>0.000009</td>\n",
       "      <td>udp</td>\n",
       "      <td>dns</td>\n",
       "      <td>INT</td>\n",
       "      <td>2</td>\n",
       "      <td>0</td>\n",
       "      <td>114</td>\n",
       "      <td>0</td>\n",
       "      <td>111111.107200</td>\n",
       "      <td>...</td>\n",
       "      <td>16</td>\n",
       "      <td>30</td>\n",
       "      <td>0</td>\n",
       "      <td>0</td>\n",
       "      <td>0</td>\n",
       "      <td>30</td>\n",
       "      <td>30</td>\n",
       "      <td>0</td>\n",
       "      <td>Generic</td>\n",
       "      <td>1</td>\n",
       "    </tr>\n",
       "  </tbody>\n",
       "</table>\n",
       "<p>81173 rows × 45 columns</p>\n",
       "</div>"
      ],
      "text/plain": [
       "            id       dur proto service state  spkts  dpkts  sbytes  dbytes  \\\n",
       "3            4  1.681642   tcp     ftp   FIN     12     12     628     770   \n",
       "11          12  2.093085   tcp    smtp   FIN     62     28   56329    2212   \n",
       "15          16  0.000002   udp    snmp   INT      2      0     138       0   \n",
       "17          18  0.393556   tcp    http   FIN     10      8     860    1096   \n",
       "21          22  0.338017   tcp    http   FIN     10      6     998     268   \n",
       "...        ...       ...   ...     ...   ...    ...    ...     ...     ...   \n",
       "175335  175336  0.000006   udp     dns   INT      2      0     114       0   \n",
       "175336  175337  0.000009   udp     dns   INT      2      0     114       0   \n",
       "175338  175339  0.000009   udp     dns   INT      2      0     114       0   \n",
       "175339  175340  0.000009   udp     dns   INT      2      0     114       0   \n",
       "175340  175341  0.000009   udp     dns   INT      2      0     114       0   \n",
       "\n",
       "                 rate  ...  ct_dst_sport_ltm  ct_dst_src_ltm  is_ftp_login  \\\n",
       "3           13.677108  ...                 1               3             1   \n",
       "11          42.520967  ...                 1               2             0   \n",
       "15      500000.001300  ...                 1               4             0   \n",
       "17          43.195886  ...                 1               2             0   \n",
       "21          44.376468  ...                 1               1             0   \n",
       "...               ...  ...               ...             ...           ...   \n",
       "175335  166666.660800  ...                17              45             0   \n",
       "175336  111111.107200  ...                13              24             0   \n",
       "175338  111111.107200  ...                 3              13             0   \n",
       "175339  111111.107200  ...                14              30             0   \n",
       "175340  111111.107200  ...                16              30             0   \n",
       "\n",
       "        ct_ftp_cmd  ct_flw_http_mthd  ct_src_ltm  ct_srv_dst  is_sm_ips_ports  \\\n",
       "3                1                 0           2           1                0   \n",
       "11               0                 0           1           1                0   \n",
       "15               0                 0           2           1                0   \n",
       "17               0                 1           1           3                0   \n",
       "21               0                 1           2           3                0   \n",
       "...            ...               ...         ...         ...              ...   \n",
       "175335           0                 0          33          45                0   \n",
       "175336           0                 0          24          24                0   \n",
       "175338           0                 0           3          12                0   \n",
       "175339           0                 0          30          30                0   \n",
       "175340           0                 0          30          30                0   \n",
       "\n",
       "        attack_cat  label  \n",
       "3           Normal      0  \n",
       "11          Normal      0  \n",
       "15          Normal      0  \n",
       "17          Normal      0  \n",
       "21          Normal      0  \n",
       "...            ...    ...  \n",
       "175335     Generic      1  \n",
       "175336     Generic      1  \n",
       "175338     Generic      1  \n",
       "175339     Generic      1  \n",
       "175340     Generic      1  \n",
       "\n",
       "[81173 rows x 45 columns]"
      ]
     },
     "execution_count": 27,
     "metadata": {},
     "output_type": "execute_result"
    }
   ],
   "source": [
    "data"
   ]
  },
  {
   "cell_type": "markdown",
   "metadata": {
    "id": "jExFVizROS-C"
   },
   "source": [
    "# **Data Visualization**"
   ]
  },
  {
   "cell_type": "markdown",
   "metadata": {
    "id": "o9UEifPZoKC1"
   },
   "source": [
    "## **Binary Classification**"
   ]
  },
  {
   "cell_type": "code",
   "execution_count": 28,
   "metadata": {
    "colab": {
     "background_save": true,
     "base_uri": "https://localhost:8080/",
     "height": 484
    },
    "id": "iDzUyKPRm4x3",
    "outputId": "605c803b-b14a-471a-f795-d2196d82a585"
   },
   "outputs": [
    {
     "data": {
      "image/png": "[encoded data removed]",
      "text/plain": [
       "<Figure size 800x800 with 1 Axes>"
      ]
     },
     "metadata": {},
     "output_type": "display_data"
    }
   ],
   "source": [
    "plt.figure(figsize=(8,8))\n",
    "plt.pie(data.label.value_counts(),labels=['normal','abnormal'],autopct='%0.2f%%')\n",
    "plt.title(\"Pie chart distribution of normal and abnormal labels\",fontsize=16)\n",
    "plt.legend()\n",
    "plt.savefig('plots/Pie_chart_binary.png')\n",
    "plt.show()"
   ]
  },
  {
   "cell_type": "markdown",
   "metadata": {
    "id": "UXGvReKgoN57"
   },
   "source": [
    "## **Multi-class Classification**"
   ]
  },
  {
   "cell_type": "code",
   "execution_count": 29,
   "metadata": {
    "colab": {
     "base_uri": "https://localhost:8080/",
     "height": 482
    },
    "id": "6hX-4d1dncqJ",
    "outputId": "8b260eb7-e34a-449f-8e4c-617bd59640e3"
   },
   "outputs": [
    {
     "data": {
      "image/png": "[encoded data removed]",
      "text/plain": [
       "<Figure size 800x800 with 1 Axes>"
      ]
     },
     "metadata": {},
     "output_type": "display_data"
    }
   ],
   "source": [
    "plt.figure(figsize=(8,8))\n",
    "plt.pie(data.attack_cat.value_counts(),labels=data.attack_cat.unique(),autopct='%0.2f%%')\n",
    "plt.title('Pie chart distribution of multi-class labels')\n",
    "plt.legend(loc='best')\n",
    "plt.savefig('plots/Pie_chart_multi.png')\n",
    "plt.show()"
   ]
  },
  {
   "cell_type": "markdown",
   "metadata": {
    "id": "ovwkzHTyM1vB"
   },
   "source": [
    "# **One hot encoding**"
   ]
  },
  {
   "cell_type": "code",
   "execution_count": 30,
   "metadata": {
    "colab": {
     "base_uri": "https://localhost:8080/"
    },
    "id": "dZX0Je4EM5ta",
    "outputId": "fe11efcd-32e2-47dd-8a7c-529688e28712"
   },
   "outputs": [
    {
     "data": {
      "text/plain": [
       "Index(['proto', 'service', 'state'], dtype='object')"
      ]
     },
     "execution_count": 30,
     "metadata": {},
     "output_type": "execute_result"
    }
   ],
   "source": [
    "num_col = data.select_dtypes(include='number').columns\n",
    "\n",
    "# selecting categorical data attributes\n",
    "cat_col = data.columns.difference(num_col)\n",
    "cat_col = cat_col[1:]\n",
    "cat_col"
   ]
  },
  {
   "cell_type": "code",
   "execution_count": 31,
   "metadata": {
    "colab": {
     "base_uri": "https://localhost:8080/",
     "height": 204
    },
    "id": "DxnGrVa1Odma",
    "outputId": "59215629-bfda-424e-925a-5cc49a2402b4"
   },
   "outputs": [
    {
     "data": {
      "text/html": [
       "<div>\n",
       "<style scoped>\n",
       "    .dataframe tbody tr th:only-of-type {\n",
       "        vertical-align: middle;\n",
       "    }\n",
       "\n",
       "    .dataframe tbody tr th {\n",
       "        vertical-align: top;\n",
       "    }\n",
       "\n",
       "    .dataframe thead th {\n",
       "        text-align: right;\n",
       "    }\n",
       "</style>\n",
       "<table border=\"1\" class=\"dataframe\">\n",
       "  <thead>\n",
       "    <tr style=\"text-align: right;\">\n",
       "      <th></th>\n",
       "      <th>proto</th>\n",
       "      <th>service</th>\n",
       "      <th>state</th>\n",
       "    </tr>\n",
       "  </thead>\n",
       "  <tbody>\n",
       "    <tr>\n",
       "      <th>3</th>\n",
       "      <td>tcp</td>\n",
       "      <td>ftp</td>\n",
       "      <td>FIN</td>\n",
       "    </tr>\n",
       "    <tr>\n",
       "      <th>11</th>\n",
       "      <td>tcp</td>\n",
       "      <td>smtp</td>\n",
       "      <td>FIN</td>\n",
       "    </tr>\n",
       "    <tr>\n",
       "      <th>15</th>\n",
       "      <td>udp</td>\n",
       "      <td>snmp</td>\n",
       "      <td>INT</td>\n",
       "    </tr>\n",
       "    <tr>\n",
       "      <th>17</th>\n",
       "      <td>tcp</td>\n",
       "      <td>http</td>\n",
       "      <td>FIN</td>\n",
       "    </tr>\n",
       "    <tr>\n",
       "      <th>21</th>\n",
       "      <td>tcp</td>\n",
       "      <td>http</td>\n",
       "      <td>FIN</td>\n",
       "    </tr>\n",
       "  </tbody>\n",
       "</table>\n",
       "</div>"
      ],
      "text/plain": [
       "   proto service state\n",
       "3    tcp     ftp   FIN\n",
       "11   tcp    smtp   FIN\n",
       "15   udp    snmp   INT\n",
       "17   tcp    http   FIN\n",
       "21   tcp    http   FIN"
      ]
     },
     "execution_count": 31,
     "metadata": {},
     "output_type": "execute_result"
    }
   ],
   "source": [
    "# creating a dataframe with only categorical attributes\n",
    "data_cat = data[cat_col].copy()\n",
    "data_cat.head()"
   ]
  },
  {
   "cell_type": "code",
   "execution_count": 32,
   "metadata": {
    "id": "E6cnwo01NHP_"
   },
   "outputs": [],
   "source": [
    "# one-hot-encoding categorical attributes using pandas.get_dummies() function\n",
    "data_cat = pd.get_dummies(data_cat,columns=cat_col)"
   ]
  },
  {
   "cell_type": "code",
   "execution_count": 33,
   "metadata": {
    "colab": {
     "base_uri": "https://localhost:8080/",
     "height": 241
    },
    "id": "UM8ooeRcNOoU",
    "outputId": "0d2b6495-7965-41ba-aa20-21563617411e"
   },
   "outputs": [
    {
     "data": {
      "text/html": [
       "<div>\n",
       "<style scoped>\n",
       "    .dataframe tbody tr th:only-of-type {\n",
       "        vertical-align: middle;\n",
       "    }\n",
       "\n",
       "    .dataframe tbody tr th {\n",
       "        vertical-align: top;\n",
       "    }\n",
       "\n",
       "    .dataframe thead th {\n",
       "        text-align: right;\n",
       "    }\n",
       "</style>\n",
       "<table border=\"1\" class=\"dataframe\">\n",
       "  <thead>\n",
       "    <tr style=\"text-align: right;\">\n",
       "      <th></th>\n",
       "      <th>proto_tcp</th>\n",
       "      <th>proto_udp</th>\n",
       "      <th>service_dhcp</th>\n",
       "      <th>service_dns</th>\n",
       "      <th>service_ftp</th>\n",
       "      <th>service_ftp-data</th>\n",
       "      <th>service_http</th>\n",
       "      <th>service_irc</th>\n",
       "      <th>service_pop3</th>\n",
       "      <th>service_radius</th>\n",
       "      <th>service_smtp</th>\n",
       "      <th>service_snmp</th>\n",
       "      <th>service_ssh</th>\n",
       "      <th>service_ssl</th>\n",
       "      <th>state_CON</th>\n",
       "      <th>state_FIN</th>\n",
       "      <th>state_INT</th>\n",
       "      <th>state_REQ</th>\n",
       "      <th>state_RST</th>\n",
       "    </tr>\n",
       "  </thead>\n",
       "  <tbody>\n",
       "    <tr>\n",
       "      <th>3</th>\n",
       "      <td>1</td>\n",
       "      <td>0</td>\n",
       "      <td>0</td>\n",
       "      <td>0</td>\n",
       "      <td>1</td>\n",
       "      <td>0</td>\n",
       "      <td>0</td>\n",
       "      <td>0</td>\n",
       "      <td>0</td>\n",
       "      <td>0</td>\n",
       "      <td>0</td>\n",
       "      <td>0</td>\n",
       "      <td>0</td>\n",
       "      <td>0</td>\n",
       "      <td>0</td>\n",
       "      <td>1</td>\n",
       "      <td>0</td>\n",
       "      <td>0</td>\n",
       "      <td>0</td>\n",
       "    </tr>\n",
       "    <tr>\n",
       "      <th>11</th>\n",
       "      <td>1</td>\n",
       "      <td>0</td>\n",
       "      <td>0</td>\n",
       "      <td>0</td>\n",
       "      <td>0</td>\n",
       "      <td>0</td>\n",
       "      <td>0</td>\n",
       "      <td>0</td>\n",
       "      <td>0</td>\n",
       "      <td>0</td>\n",
       "      <td>1</td>\n",
       "      <td>0</td>\n",
       "      <td>0</td>\n",
       "      <td>0</td>\n",
       "      <td>0</td>\n",
       "      <td>1</td>\n",
       "      <td>0</td>\n",
       "      <td>0</td>\n",
       "      <td>0</td>\n",
       "    </tr>\n",
       "    <tr>\n",
       "      <th>15</th>\n",
       "      <td>0</td>\n",
       "      <td>1</td>\n",
       "      <td>0</td>\n",
       "      <td>0</td>\n",
       "      <td>0</td>\n",
       "      <td>0</td>\n",
       "      <td>0</td>\n",
       "      <td>0</td>\n",
       "      <td>0</td>\n",
       "      <td>0</td>\n",
       "      <td>0</td>\n",
       "      <td>1</td>\n",
       "      <td>0</td>\n",
       "      <td>0</td>\n",
       "      <td>0</td>\n",
       "      <td>0</td>\n",
       "      <td>1</td>\n",
       "      <td>0</td>\n",
       "      <td>0</td>\n",
       "    </tr>\n",
       "    <tr>\n",
       "      <th>17</th>\n",
       "      <td>1</td>\n",
       "      <td>0</td>\n",
       "      <td>0</td>\n",
       "      <td>0</td>\n",
       "      <td>0</td>\n",
       "      <td>0</td>\n",
       "      <td>1</td>\n",
       "      <td>0</td>\n",
       "      <td>0</td>\n",
       "      <td>0</td>\n",
       "      <td>0</td>\n",
       "      <td>0</td>\n",
       "      <td>0</td>\n",
       "      <td>0</td>\n",
       "      <td>0</td>\n",
       "      <td>1</td>\n",
       "      <td>0</td>\n",
       "      <td>0</td>\n",
       "      <td>0</td>\n",
       "    </tr>\n",
       "    <tr>\n",
       "      <th>21</th>\n",
       "      <td>1</td>\n",
       "      <td>0</td>\n",
       "      <td>0</td>\n",
       "      <td>0</td>\n",
       "      <td>0</td>\n",
       "      <td>0</td>\n",
       "      <td>1</td>\n",
       "      <td>0</td>\n",
       "      <td>0</td>\n",
       "      <td>0</td>\n",
       "      <td>0</td>\n",
       "      <td>0</td>\n",
       "      <td>0</td>\n",
       "      <td>0</td>\n",
       "      <td>0</td>\n",
       "      <td>1</td>\n",
       "      <td>0</td>\n",
       "      <td>0</td>\n",
       "      <td>0</td>\n",
       "    </tr>\n",
       "  </tbody>\n",
       "</table>\n",
       "</div>"
      ],
      "text/plain": [
       "    proto_tcp  proto_udp  service_dhcp  service_dns  service_ftp  \\\n",
       "3           1          0             0            0            1   \n",
       "11          1          0             0            0            0   \n",
       "15          0          1             0            0            0   \n",
       "17          1          0             0            0            0   \n",
       "21          1          0             0            0            0   \n",
       "\n",
       "    service_ftp-data  service_http  service_irc  service_pop3  service_radius  \\\n",
       "3                  0             0            0             0               0   \n",
       "11                 0             0            0             0               0   \n",
       "15                 0             0            0             0               0   \n",
       "17                 0             1            0             0               0   \n",
       "21                 0             1            0             0               0   \n",
       "\n",
       "    service_smtp  service_snmp  service_ssh  service_ssl  state_CON  \\\n",
       "3              0             0            0            0          0   \n",
       "11             1             0            0            0          0   \n",
       "15             0             1            0            0          0   \n",
       "17             0             0            0            0          0   \n",
       "21             0             0            0            0          0   \n",
       "\n",
       "    state_FIN  state_INT  state_REQ  state_RST  \n",
       "3           1          0          0          0  \n",
       "11          1          0          0          0  \n",
       "15          0          1          0          0  \n",
       "17          1          0          0          0  \n",
       "21          1          0          0          0  "
      ]
     },
     "execution_count": 33,
     "metadata": {},
     "output_type": "execute_result"
    }
   ],
   "source": [
    "data_cat.head()"
   ]
  },
  {
   "cell_type": "code",
   "execution_count": 34,
   "metadata": {
    "colab": {
     "base_uri": "https://localhost:8080/"
    },
    "id": "cHH1hw8zNYfK",
    "outputId": "3670dcc8-37e2-4244-c41a-644e8ca3b73e"
   },
   "outputs": [
    {
     "data": {
      "text/plain": [
       "(81173, 45)"
      ]
     },
     "execution_count": 34,
     "metadata": {},
     "output_type": "execute_result"
    }
   ],
   "source": [
    "data.shape"
   ]
  },
  {
   "cell_type": "code",
   "execution_count": 35,
   "metadata": {
    "id": "oO6juQh4NQxL"
   },
   "outputs": [],
   "source": [
    "data = pd.concat([data, data_cat],axis=1)"
   ]
  },
  {
   "cell_type": "code",
   "execution_count": 36,
   "metadata": {
    "colab": {
     "base_uri": "https://localhost:8080/"
    },
    "id": "_bV3F4v9Ndo6",
    "outputId": "e12f3e3d-4ee4-4851-9374-3bfd0b3b0ba0"
   },
   "outputs": [
    {
     "data": {
      "text/plain": [
       "(81173, 64)"
      ]
     },
     "execution_count": 36,
     "metadata": {},
     "output_type": "execute_result"
    }
   ],
   "source": [
    "data.shape"
   ]
  },
  {
   "cell_type": "code",
   "execution_count": 37,
   "metadata": {
    "id": "C0nK7HFmNe8w"
   },
   "outputs": [],
   "source": [
    "data.drop(columns=cat_col,inplace=True)"
   ]
  },
  {
   "cell_type": "code",
   "execution_count": 38,
   "metadata": {
    "colab": {
     "base_uri": "https://localhost:8080/"
    },
    "id": "o0s5ecSQNgGM",
    "outputId": "9fa262be-64fd-4695-df04-269f206be03f"
   },
   "outputs": [
    {
     "data": {
      "text/plain": [
       "(81173, 61)"
      ]
     },
     "execution_count": 38,
     "metadata": {},
     "output_type": "execute_result"
    }
   ],
   "source": [
    "data.shape"
   ]
  },
  {
   "cell_type": "markdown",
   "metadata": {
    "id": "xshMxL1Zb4hm"
   },
   "source": [
    "# **Data Normalization**\n"
   ]
  },
  {
   "cell_type": "code",
   "execution_count": 39,
   "metadata": {
    "colab": {
     "base_uri": "https://localhost:8080/"
    },
    "id": "7G3s0etHwGUc",
    "outputId": "441e591d-d436-4a5f-ef71-21f4a92d03b9"
   },
   "outputs": [
    {
     "name": "stdout",
     "output_type": "stream",
     "text": [
      "['dur', 'spkts', 'dpkts', 'sbytes', 'dbytes', 'rate', 'sttl', 'dttl', 'sload', 'dload', 'sloss', 'dloss', 'sinpkt', 'dinpkt', 'sjit', 'djit', 'swin', 'stcpb', 'dtcpb', 'dwin', 'tcprtt', 'synack', 'ackdat', 'smean', 'dmean', 'trans_depth', 'response_body_len', 'ct_srv_src', 'ct_state_ttl', 'ct_dst_ltm', 'ct_src_dport_ltm', 'ct_dst_sport_ltm', 'ct_dst_src_ltm', 'is_ftp_login', 'ct_ftp_cmd', 'ct_flw_http_mthd', 'ct_src_ltm', 'ct_srv_dst', 'is_sm_ips_ports', 'proto_tcp', 'proto_udp', 'service_dhcp', 'service_dns', 'service_ftp', 'service_ftp-data', 'service_http', 'service_irc', 'service_pop3', 'service_radius', 'service_smtp', 'service_snmp', 'service_ssh', 'service_ssl', 'state_CON', 'state_FIN', 'state_INT', 'state_REQ', 'state_RST']\n"
     ]
    }
   ],
   "source": [
    "# selecting numeric attributes columns from data\n",
    "num_col = list(data.select_dtypes(include='number').columns)\n",
    "num_col.remove('id')\n",
    "num_col.remove('label')\n",
    "print(num_col)"
   ]
  },
  {
   "cell_type": "code",
   "execution_count": 40,
   "metadata": {
    "id": "-phVbE8yal8w"
   },
   "outputs": [],
   "source": [
    "# using minmax scaler for normalizing data\n",
    "minmax_scale = MinMaxScaler(feature_range=(0, 1))\n",
    "def normalization(df,col):\n",
    "  for i in col:\n",
    "    arr = df[i]\n",
    "    arr = np.array(arr)\n",
    "    df[i] = minmax_scale.fit_transform(arr.reshape(len(arr),1))\n",
    "  return df"
   ]
  },
  {
   "cell_type": "code",
   "execution_count": 41,
   "metadata": {
    "colab": {
     "base_uri": "https://localhost:8080/",
     "height": 241
    },
    "id": "GyC-geCscBTR",
    "outputId": "4fa93447-ddf5-4431-9f11-35468442b2c8"
   },
   "outputs": [
    {
     "data": {
      "text/html": [
       "<div>\n",
       "<style scoped>\n",
       "    .dataframe tbody tr th:only-of-type {\n",
       "        vertical-align: middle;\n",
       "    }\n",
       "\n",
       "    .dataframe tbody tr th {\n",
       "        vertical-align: top;\n",
       "    }\n",
       "\n",
       "    .dataframe thead th {\n",
       "        text-align: right;\n",
       "    }\n",
       "</style>\n",
       "<table border=\"1\" class=\"dataframe\">\n",
       "  <thead>\n",
       "    <tr style=\"text-align: right;\">\n",
       "      <th></th>\n",
       "      <th>id</th>\n",
       "      <th>dur</th>\n",
       "      <th>spkts</th>\n",
       "      <th>dpkts</th>\n",
       "      <th>sbytes</th>\n",
       "      <th>dbytes</th>\n",
       "      <th>rate</th>\n",
       "      <th>sttl</th>\n",
       "      <th>dttl</th>\n",
       "      <th>sload</th>\n",
       "      <th>...</th>\n",
       "      <th>service_radius</th>\n",
       "      <th>service_smtp</th>\n",
       "      <th>service_snmp</th>\n",
       "      <th>service_ssh</th>\n",
       "      <th>service_ssl</th>\n",
       "      <th>state_CON</th>\n",
       "      <th>state_FIN</th>\n",
       "      <th>state_INT</th>\n",
       "      <th>state_REQ</th>\n",
       "      <th>state_RST</th>\n",
       "    </tr>\n",
       "  </thead>\n",
       "  <tbody>\n",
       "    <tr>\n",
       "      <th>3</th>\n",
       "      <td>4</td>\n",
       "      <td>1.681642</td>\n",
       "      <td>12</td>\n",
       "      <td>12</td>\n",
       "      <td>628</td>\n",
       "      <td>770</td>\n",
       "      <td>13.677108</td>\n",
       "      <td>62</td>\n",
       "      <td>252</td>\n",
       "      <td>2.740179e+03</td>\n",
       "      <td>...</td>\n",
       "      <td>0</td>\n",
       "      <td>0</td>\n",
       "      <td>0</td>\n",
       "      <td>0</td>\n",
       "      <td>0</td>\n",
       "      <td>0</td>\n",
       "      <td>1</td>\n",
       "      <td>0</td>\n",
       "      <td>0</td>\n",
       "      <td>0</td>\n",
       "    </tr>\n",
       "    <tr>\n",
       "      <th>11</th>\n",
       "      <td>12</td>\n",
       "      <td>2.093085</td>\n",
       "      <td>62</td>\n",
       "      <td>28</td>\n",
       "      <td>56329</td>\n",
       "      <td>2212</td>\n",
       "      <td>42.520967</td>\n",
       "      <td>62</td>\n",
       "      <td>252</td>\n",
       "      <td>2.118251e+05</td>\n",
       "      <td>...</td>\n",
       "      <td>0</td>\n",
       "      <td>1</td>\n",
       "      <td>0</td>\n",
       "      <td>0</td>\n",
       "      <td>0</td>\n",
       "      <td>0</td>\n",
       "      <td>1</td>\n",
       "      <td>0</td>\n",
       "      <td>0</td>\n",
       "      <td>0</td>\n",
       "    </tr>\n",
       "    <tr>\n",
       "      <th>15</th>\n",
       "      <td>16</td>\n",
       "      <td>0.000002</td>\n",
       "      <td>2</td>\n",
       "      <td>0</td>\n",
       "      <td>138</td>\n",
       "      <td>0</td>\n",
       "      <td>500000.001300</td>\n",
       "      <td>254</td>\n",
       "      <td>0</td>\n",
       "      <td>2.760000e+08</td>\n",
       "      <td>...</td>\n",
       "      <td>0</td>\n",
       "      <td>0</td>\n",
       "      <td>1</td>\n",
       "      <td>0</td>\n",
       "      <td>0</td>\n",
       "      <td>0</td>\n",
       "      <td>0</td>\n",
       "      <td>1</td>\n",
       "      <td>0</td>\n",
       "      <td>0</td>\n",
       "    </tr>\n",
       "    <tr>\n",
       "      <th>17</th>\n",
       "      <td>18</td>\n",
       "      <td>0.393556</td>\n",
       "      <td>10</td>\n",
       "      <td>8</td>\n",
       "      <td>860</td>\n",
       "      <td>1096</td>\n",
       "      <td>43.195886</td>\n",
       "      <td>62</td>\n",
       "      <td>252</td>\n",
       "      <td>1.573347e+04</td>\n",
       "      <td>...</td>\n",
       "      <td>0</td>\n",
       "      <td>0</td>\n",
       "      <td>0</td>\n",
       "      <td>0</td>\n",
       "      <td>0</td>\n",
       "      <td>0</td>\n",
       "      <td>1</td>\n",
       "      <td>0</td>\n",
       "      <td>0</td>\n",
       "      <td>0</td>\n",
       "    </tr>\n",
       "    <tr>\n",
       "      <th>21</th>\n",
       "      <td>22</td>\n",
       "      <td>0.338017</td>\n",
       "      <td>10</td>\n",
       "      <td>6</td>\n",
       "      <td>998</td>\n",
       "      <td>268</td>\n",
       "      <td>44.376468</td>\n",
       "      <td>254</td>\n",
       "      <td>252</td>\n",
       "      <td>2.127704e+04</td>\n",
       "      <td>...</td>\n",
       "      <td>0</td>\n",
       "      <td>0</td>\n",
       "      <td>0</td>\n",
       "      <td>0</td>\n",
       "      <td>0</td>\n",
       "      <td>0</td>\n",
       "      <td>1</td>\n",
       "      <td>0</td>\n",
       "      <td>0</td>\n",
       "      <td>0</td>\n",
       "    </tr>\n",
       "  </tbody>\n",
       "</table>\n",
       "<p>5 rows × 61 columns</p>\n",
       "</div>"
      ],
      "text/plain": [
       "    id       dur  spkts  dpkts  sbytes  dbytes           rate  sttl  dttl  \\\n",
       "3    4  1.681642     12     12     628     770      13.677108    62   252   \n",
       "11  12  2.093085     62     28   56329    2212      42.520967    62   252   \n",
       "15  16  0.000002      2      0     138       0  500000.001300   254     0   \n",
       "17  18  0.393556     10      8     860    1096      43.195886    62   252   \n",
       "21  22  0.338017     10      6     998     268      44.376468   254   252   \n",
       "\n",
       "           sload  ...  service_radius  service_smtp  service_snmp  \\\n",
       "3   2.740179e+03  ...               0             0             0   \n",
       "11  2.118251e+05  ...               0             1             0   \n",
       "15  2.760000e+08  ...               0             0             1   \n",
       "17  1.573347e+04  ...               0             0             0   \n",
       "21  2.127704e+04  ...               0             0             0   \n",
       "\n",
       "    service_ssh  service_ssl  state_CON  state_FIN  state_INT  state_REQ  \\\n",
       "3             0            0          0          1          0          0   \n",
       "11            0            0          0          1          0          0   \n",
       "15            0            0          0          0          1          0   \n",
       "17            0            0          0          1          0          0   \n",
       "21            0            0          0          1          0          0   \n",
       "\n",
       "    state_RST  \n",
       "3           0  \n",
       "11          0  \n",
       "15          0  \n",
       "17          0  \n",
       "21          0  \n",
       "\n",
       "[5 rows x 61 columns]"
      ]
     },
     "execution_count": 41,
     "metadata": {},
     "output_type": "execute_result"
    }
   ],
   "source": [
    "# data before normalization\n",
    "data.head()"
   ]
  },
  {
   "cell_type": "code",
   "execution_count": 42,
   "metadata": {
    "id": "nQq5bTuscFrU"
   },
   "outputs": [],
   "source": [
    "# calling normalization() function\n",
    "data = normalization(data.copy(),num_col)"
   ]
  },
  {
   "cell_type": "code",
   "execution_count": 43,
   "metadata": {
    "colab": {
     "base_uri": "https://localhost:8080/",
     "height": 326
    },
    "id": "jxaw2yKYcN9X",
    "outputId": "c6f0d252-e9c1-4254-c3f4-9873b483af21"
   },
   "outputs": [
    {
     "data": {
      "text/html": [
       "<div>\n",
       "<style scoped>\n",
       "    .dataframe tbody tr th:only-of-type {\n",
       "        vertical-align: middle;\n",
       "    }\n",
       "\n",
       "    .dataframe tbody tr th {\n",
       "        vertical-align: top;\n",
       "    }\n",
       "\n",
       "    .dataframe thead th {\n",
       "        text-align: right;\n",
       "    }\n",
       "</style>\n",
       "<table border=\"1\" class=\"dataframe\">\n",
       "  <thead>\n",
       "    <tr style=\"text-align: right;\">\n",
       "      <th></th>\n",
       "      <th>id</th>\n",
       "      <th>dur</th>\n",
       "      <th>spkts</th>\n",
       "      <th>dpkts</th>\n",
       "      <th>sbytes</th>\n",
       "      <th>dbytes</th>\n",
       "      <th>rate</th>\n",
       "      <th>sttl</th>\n",
       "      <th>dttl</th>\n",
       "      <th>sload</th>\n",
       "      <th>...</th>\n",
       "      <th>service_radius</th>\n",
       "      <th>service_smtp</th>\n",
       "      <th>service_snmp</th>\n",
       "      <th>service_ssh</th>\n",
       "      <th>service_ssl</th>\n",
       "      <th>state_CON</th>\n",
       "      <th>state_FIN</th>\n",
       "      <th>state_INT</th>\n",
       "      <th>state_REQ</th>\n",
       "      <th>state_RST</th>\n",
       "    </tr>\n",
       "  </thead>\n",
       "  <tbody>\n",
       "    <tr>\n",
       "      <th>3</th>\n",
       "      <td>4</td>\n",
       "      <td>2.802780e-02</td>\n",
       "      <td>0.001144</td>\n",
       "      <td>0.001093</td>\n",
       "      <td>0.000041</td>\n",
       "      <td>0.000053</td>\n",
       "      <td>0.000014</td>\n",
       "      <td>0.138393</td>\n",
       "      <td>0.992126</td>\n",
       "      <td>0.000001</td>\n",
       "      <td>...</td>\n",
       "      <td>0.0</td>\n",
       "      <td>0.0</td>\n",
       "      <td>0.0</td>\n",
       "      <td>0.0</td>\n",
       "      <td>0.0</td>\n",
       "      <td>0.0</td>\n",
       "      <td>1.0</td>\n",
       "      <td>0.0</td>\n",
       "      <td>0.0</td>\n",
       "      <td>0.0</td>\n",
       "    </tr>\n",
       "    <tr>\n",
       "      <th>11</th>\n",
       "      <td>12</td>\n",
       "      <td>3.488529e-02</td>\n",
       "      <td>0.006344</td>\n",
       "      <td>0.002551</td>\n",
       "      <td>0.004337</td>\n",
       "      <td>0.000151</td>\n",
       "      <td>0.000043</td>\n",
       "      <td>0.138393</td>\n",
       "      <td>0.992126</td>\n",
       "      <td>0.000092</td>\n",
       "      <td>...</td>\n",
       "      <td>0.0</td>\n",
       "      <td>1.0</td>\n",
       "      <td>0.0</td>\n",
       "      <td>0.0</td>\n",
       "      <td>0.0</td>\n",
       "      <td>0.0</td>\n",
       "      <td>1.0</td>\n",
       "      <td>0.0</td>\n",
       "      <td>0.0</td>\n",
       "      <td>0.0</td>\n",
       "    </tr>\n",
       "    <tr>\n",
       "      <th>15</th>\n",
       "      <td>16</td>\n",
       "      <td>1.666693e-08</td>\n",
       "      <td>0.000104</td>\n",
       "      <td>0.000000</td>\n",
       "      <td>0.000003</td>\n",
       "      <td>0.000000</td>\n",
       "      <td>0.500000</td>\n",
       "      <td>0.995536</td>\n",
       "      <td>0.000000</td>\n",
       "      <td>0.119792</td>\n",
       "      <td>...</td>\n",
       "      <td>0.0</td>\n",
       "      <td>0.0</td>\n",
       "      <td>1.0</td>\n",
       "      <td>0.0</td>\n",
       "      <td>0.0</td>\n",
       "      <td>0.0</td>\n",
       "      <td>0.0</td>\n",
       "      <td>1.0</td>\n",
       "      <td>0.0</td>\n",
       "      <td>0.0</td>\n",
       "    </tr>\n",
       "    <tr>\n",
       "      <th>17</th>\n",
       "      <td>18</td>\n",
       "      <td>6.559354e-03</td>\n",
       "      <td>0.000936</td>\n",
       "      <td>0.000729</td>\n",
       "      <td>0.000059</td>\n",
       "      <td>0.000075</td>\n",
       "      <td>0.000043</td>\n",
       "      <td>0.138393</td>\n",
       "      <td>0.992126</td>\n",
       "      <td>0.000007</td>\n",
       "      <td>...</td>\n",
       "      <td>0.0</td>\n",
       "      <td>0.0</td>\n",
       "      <td>0.0</td>\n",
       "      <td>0.0</td>\n",
       "      <td>0.0</td>\n",
       "      <td>0.0</td>\n",
       "      <td>1.0</td>\n",
       "      <td>0.0</td>\n",
       "      <td>0.0</td>\n",
       "      <td>0.0</td>\n",
       "    </tr>\n",
       "    <tr>\n",
       "      <th>21</th>\n",
       "      <td>22</td>\n",
       "      <td>5.633690e-03</td>\n",
       "      <td>0.000936</td>\n",
       "      <td>0.000547</td>\n",
       "      <td>0.000069</td>\n",
       "      <td>0.000018</td>\n",
       "      <td>0.000044</td>\n",
       "      <td>0.995536</td>\n",
       "      <td>0.992126</td>\n",
       "      <td>0.000009</td>\n",
       "      <td>...</td>\n",
       "      <td>0.0</td>\n",
       "      <td>0.0</td>\n",
       "      <td>0.0</td>\n",
       "      <td>0.0</td>\n",
       "      <td>0.0</td>\n",
       "      <td>0.0</td>\n",
       "      <td>1.0</td>\n",
       "      <td>0.0</td>\n",
       "      <td>0.0</td>\n",
       "      <td>0.0</td>\n",
       "    </tr>\n",
       "  </tbody>\n",
       "</table>\n",
       "<p>5 rows × 61 columns</p>\n",
       "</div>"
      ],
      "text/plain": [
       "    id           dur     spkts     dpkts    sbytes    dbytes      rate  \\\n",
       "3    4  2.802780e-02  0.001144  0.001093  0.000041  0.000053  0.000014   \n",
       "11  12  3.488529e-02  0.006344  0.002551  0.004337  0.000151  0.000043   \n",
       "15  16  1.666693e-08  0.000104  0.000000  0.000003  0.000000  0.500000   \n",
       "17  18  6.559354e-03  0.000936  0.000729  0.000059  0.000075  0.000043   \n",
       "21  22  5.633690e-03  0.000936  0.000547  0.000069  0.000018  0.000044   \n",
       "\n",
       "        sttl      dttl     sload  ...  service_radius  service_smtp  \\\n",
       "3   0.138393  0.992126  0.000001  ...             0.0           0.0   \n",
       "11  0.138393  0.992126  0.000092  ...             0.0           1.0   \n",
       "15  0.995536  0.000000  0.119792  ...             0.0           0.0   \n",
       "17  0.138393  0.992126  0.000007  ...             0.0           0.0   \n",
       "21  0.995536  0.992126  0.000009  ...             0.0           0.0   \n",
       "\n",
       "    service_snmp  service_ssh  service_ssl  state_CON  state_FIN  state_INT  \\\n",
       "3            0.0          0.0          0.0        0.0        1.0        0.0   \n",
       "11           0.0          0.0          0.0        0.0        1.0        0.0   \n",
       "15           1.0          0.0          0.0        0.0        0.0        1.0   \n",
       "17           0.0          0.0          0.0        0.0        1.0        0.0   \n",
       "21           0.0          0.0          0.0        0.0        1.0        0.0   \n",
       "\n",
       "    state_REQ  state_RST  \n",
       "3         0.0        0.0  \n",
       "11        0.0        0.0  \n",
       "15        0.0        0.0  \n",
       "17        0.0        0.0  \n",
       "21        0.0        0.0  \n",
       "\n",
       "[5 rows x 61 columns]"
      ]
     },
     "execution_count": 43,
     "metadata": {},
     "output_type": "execute_result"
    }
   ],
   "source": [
    "# data after normalization\n",
    "data.head()"
   ]
  },
  {
   "cell_type": "markdown",
   "metadata": {
    "id": "qhQJSg2Ka1Qb"
   },
   "source": [
    "# **Label Encoding**"
   ]
  },
  {
   "cell_type": "markdown",
   "metadata": {
    "id": "wAUCpILctlwU"
   },
   "source": [
    "## **Binary Labels**"
   ]
  },
  {
   "cell_type": "code",
   "execution_count": 44,
   "metadata": {
    "id": "OGSplI_VjHR0"
   },
   "outputs": [],
   "source": [
    "# changing attack labels into two categories 'normal' and 'abnormal'\n",
    "bin_label = pd.DataFrame(data.label.map(lambda x:'normal' if x==0 else 'abnormal'))"
   ]
  },
  {
   "cell_type": "code",
   "execution_count": 45,
   "metadata": {
    "id": "tYJbRZ5oimGg"
   },
   "outputs": [],
   "source": [
    "# creating a dataframe with binary labels (normal,abnormal)\n",
    "bin_data = data.copy()\n",
    "bin_data['label'] = bin_label"
   ]
  },
  {
   "cell_type": "code",
   "execution_count": 46,
   "metadata": {
    "id": "8UvUkBqtjagH"
   },
   "outputs": [],
   "source": [
    "# label encoding (0,1) binary labels\n",
    "le1 = preprocessing.LabelEncoder()\n",
    "enc_label = bin_label.apply(le1.fit_transform)\n",
    "bin_data['label'] = enc_label"
   ]
  },
  {
   "cell_type": "code",
   "execution_count": 47,
   "metadata": {
    "colab": {
     "base_uri": "https://localhost:8080/"
    },
    "id": "NIe07KITjg--",
    "outputId": "b6a289a1-be51-4855-9e13-0d639bc4e8e8"
   },
   "outputs": [
    {
     "data": {
      "text/plain": [
       "array(['abnormal', 'normal'], dtype=object)"
      ]
     },
     "execution_count": 47,
     "metadata": {},
     "output_type": "execute_result"
    }
   ],
   "source": [
    "le1.classes_"
   ]
  },
  {
   "cell_type": "code",
   "execution_count": 48,
   "metadata": {
    "id": "Wq-XBOn7tvXl"
   },
   "outputs": [],
   "source": [
    "np.save(\"le1_classes.npy\",le1.classes_,allow_pickle=True)"
   ]
  },
  {
   "cell_type": "markdown",
   "metadata": {
    "id": "zawDMFnntpRN"
   },
   "source": [
    "## **Multi-class Labels**"
   ]
  },
  {
   "cell_type": "code",
   "execution_count": 49,
   "metadata": {
    "id": "5WHf2Hk5i1Tr"
   },
   "outputs": [],
   "source": [
    "# one-hot-encoding attack label\n",
    "multi_data = data.copy()\n",
    "multi_label = pd.DataFrame(multi_data.attack_cat)"
   ]
  },
  {
   "cell_type": "code",
   "execution_count": 50,
   "metadata": {
    "id": "bDI2osuxCVRt"
   },
   "outputs": [],
   "source": [
    "multi_data = pd.get_dummies(multi_data,columns=['attack_cat'])"
   ]
  },
  {
   "cell_type": "code",
   "execution_count": 51,
   "metadata": {
    "id": "8tuv1nDFj-z7"
   },
   "outputs": [],
   "source": [
    "# label encoding (0,1,2,3,4,5,6,7,8) multi-class labels\n",
    "le2 = preprocessing.LabelEncoder()\n",
    "enc_label = multi_label.apply(le2.fit_transform)\n",
    "multi_data['label'] = enc_label"
   ]
  },
  {
   "cell_type": "code",
   "execution_count": 52,
   "metadata": {
    "colab": {
     "base_uri": "https://localhost:8080/"
    },
    "id": "ASjsFfv-kK7T",
    "outputId": "f0b07a49-996e-4a08-d4f1-fed72fa91019"
   },
   "outputs": [
    {
     "data": {
      "text/plain": [
       "array(['Analysis', 'Backdoor', 'DoS', 'Exploits', 'Fuzzers', 'Generic',\n",
       "       'Normal', 'Reconnaissance', 'Worms'], dtype=object)"
      ]
     },
     "execution_count": 52,
     "metadata": {},
     "output_type": "execute_result"
    }
   ],
   "source": [
    "le2.classes_"
   ]
  },
  {
   "cell_type": "code",
   "execution_count": 53,
   "metadata": {
    "id": "XKoH6sN8typc"
   },
   "outputs": [],
   "source": [
    "np.save(\"le2_classes.npy\",le2.classes_,allow_pickle=True)"
   ]
  },
  {
   "cell_type": "markdown",
   "metadata": {
    "id": "pMT074G_cb0D"
   },
   "source": [
    "# **Correlation between features of dataset**"
   ]
  },
  {
   "cell_type": "code",
   "execution_count": 54,
   "metadata": {
    "id": "lJIPk62ZiFpM"
   },
   "outputs": [],
   "source": [
    "num_col.append('label')"
   ]
  },
  {
   "cell_type": "markdown",
   "metadata": {
    "id": "xf83gwJQ-fQ_"
   },
   "source": [
    "## **Correlation Matrix for Binary Labels**"
   ]
  },
  {
   "cell_type": "code",
   "execution_count": 55,
   "metadata": {
    "colab": {
     "base_uri": "https://localhost:8080/",
     "height": 586
    },
    "id": "h1tV8-lTcQSF",
    "outputId": "5d1af2ca-2943-4b97-ec0f-f1bc40232331"
   },
   "outputs": [
    {
     "data": {
      "image/png": "[encoded data removed]",
      "text/plain": [
       "<Figure size 2000x800 with 2 Axes>"
      ]
     },
     "metadata": {},
     "output_type": "display_data"
    }
   ],
   "source": [
    "# Correlation Matrix for Binary Labels\n",
    "plt.figure(figsize=(20,8))\n",
    "corr_bin = bin_data[num_col].corr()\n",
    "sns.heatmap(corr_bin,vmax=1.0,annot=False)\n",
    "plt.title('Correlation Matrix for Binary Labels',fontsize=16)\n",
    "plt.savefig('plots/correlation_matrix_bin.png')\n",
    "plt.show()"
   ]
  },
  {
   "cell_type": "markdown",
   "metadata": {
    "id": "vMadlBNw-xfy"
   },
   "source": [
    "## **Correlation Matrix for Multi-class Labels**"
   ]
  },
  {
   "cell_type": "code",
   "execution_count": 56,
   "metadata": {
    "id": "bCq2FNRbDGVJ"
   },
   "outputs": [],
   "source": [
    "num_col = list(multi_data.select_dtypes(include='number').columns)"
   ]
  },
  {
   "cell_type": "code",
   "execution_count": 57,
   "metadata": {
    "colab": {
     "base_uri": "https://localhost:8080/",
     "height": 628
    },
    "id": "GGobKJQTktZW",
    "outputId": "0e76cd3b-ab5f-4c53-afff-171293a2b9ed"
   },
   "outputs": [
    {
     "data": {
      "image/png": "[encoded data removed]",
      "text/plain": [
       "<Figure size 2000x800 with 2 Axes>"
      ]
     },
     "metadata": {},
     "output_type": "display_data"
    }
   ],
   "source": [
    "# Correlation Matrix for Multi-class Labels\n",
    "plt.figure(figsize=(20,8))\n",
    "corr_multi = multi_data[num_col].corr()\n",
    "sns.heatmap(corr_multi,vmax=1.0,annot=False)\n",
    "plt.title('Correlation Matrix for Multi Labels',fontsize=16)\n",
    "plt.savefig('plots/correlation_matrix_multi.png')\n",
    "plt.show()"
   ]
  },
  {
   "cell_type": "markdown",
   "metadata": {
    "id": "Xytgw98DRSyE"
   },
   "source": [
    "# **Feature Selection**"
   ]
  },
  {
   "cell_type": "markdown",
   "metadata": {
    "id": "l869k8cKvMRX"
   },
   "source": [
    "## **Binary Labels**"
   ]
  },
  {
   "cell_type": "code",
   "execution_count": 58,
   "metadata": {
    "colab": {
     "base_uri": "https://localhost:8080/"
    },
    "id": "x4dyHvrhcxjk",
    "outputId": "57736cf0-d6cc-4066-fb54-93d5288d9114"
   },
   "outputs": [
    {
     "data": {
      "text/plain": [
       "sload               0.334562\n",
       "dload               0.343910\n",
       "rate                0.344535\n",
       "ct_src_ltm          0.368486\n",
       "ct_dst_ltm          0.387358\n",
       "ct_src_dport_ltm    0.444874\n",
       "ct_srv_dst          0.459984\n",
       "ct_srv_src          0.463153\n",
       "ct_dst_src_ltm      0.463735\n",
       "ct_dst_sport_ltm    0.497234\n",
       "state_INT           0.546631\n",
       "state_CON           0.552505\n",
       "sttl                0.707337\n",
       "ct_state_ttl        0.801403\n",
       "label               1.000000\n",
       "Name: label, dtype: float64"
      ]
     },
     "execution_count": 58,
     "metadata": {},
     "output_type": "execute_result"
    }
   ],
   "source": [
    "# finding the attributes which have more than 0.3 correlation with encoded attack label attribute \n",
    "corr_ybin = abs(corr_bin['label'])\n",
    "highest_corr_bin = corr_ybin[corr_ybin >0.3]\n",
    "highest_corr_bin.sort_values(ascending=True)"
   ]
  },
  {
   "cell_type": "code",
   "execution_count": 59,
   "metadata": {
    "colab": {
     "base_uri": "https://localhost:8080/"
    },
    "id": "DNyZzFIPk8ye",
    "outputId": "3864fd29-8350-445d-ebaa-f4f5eaf2490e"
   },
   "outputs": [
    {
     "data": {
      "text/plain": [
       "Index(['rate', 'sttl', 'sload', 'dload', 'ct_srv_src', 'ct_state_ttl',\n",
       "       'ct_dst_ltm', 'ct_src_dport_ltm', 'ct_dst_sport_ltm', 'ct_dst_src_ltm',\n",
       "       'ct_src_ltm', 'ct_srv_dst', 'state_CON', 'state_INT', 'label'],\n",
       "      dtype='object')"
      ]
     },
     "execution_count": 59,
     "metadata": {},
     "output_type": "execute_result"
    }
   ],
   "source": [
    "# selecting attributes found by using pearson correlation coefficient\n",
    "bin_cols = highest_corr_bin.index\n",
    "bin_cols"
   ]
  },
  {
   "cell_type": "code",
   "execution_count": 60,
   "metadata": {
    "colab": {
     "base_uri": "https://localhost:8080/",
     "height": 439
    },
    "id": "6wb-harnmqYn",
    "outputId": "72b9b5c4-9328-4c6d-c099-04fd089c2b7b"
   },
   "outputs": [
    {
     "data": {
      "text/html": [
       "<div>\n",
       "<style scoped>\n",
       "    .dataframe tbody tr th:only-of-type {\n",
       "        vertical-align: middle;\n",
       "    }\n",
       "\n",
       "    .dataframe tbody tr th {\n",
       "        vertical-align: top;\n",
       "    }\n",
       "\n",
       "    .dataframe thead th {\n",
       "        text-align: right;\n",
       "    }\n",
       "</style>\n",
       "<table border=\"1\" class=\"dataframe\">\n",
       "  <thead>\n",
       "    <tr style=\"text-align: right;\">\n",
       "      <th></th>\n",
       "      <th>rate</th>\n",
       "      <th>sttl</th>\n",
       "      <th>sload</th>\n",
       "      <th>dload</th>\n",
       "      <th>ct_srv_src</th>\n",
       "      <th>ct_state_ttl</th>\n",
       "      <th>ct_dst_ltm</th>\n",
       "      <th>ct_src_dport_ltm</th>\n",
       "      <th>ct_dst_sport_ltm</th>\n",
       "      <th>ct_dst_src_ltm</th>\n",
       "      <th>ct_src_ltm</th>\n",
       "      <th>ct_srv_dst</th>\n",
       "      <th>state_CON</th>\n",
       "      <th>state_INT</th>\n",
       "      <th>label</th>\n",
       "    </tr>\n",
       "  </thead>\n",
       "  <tbody>\n",
       "    <tr>\n",
       "      <th>3</th>\n",
       "      <td>0.000014</td>\n",
       "      <td>0.138393</td>\n",
       "      <td>0.000001</td>\n",
       "      <td>0.000150</td>\n",
       "      <td>0.000000</td>\n",
       "      <td>0.166667</td>\n",
       "      <td>0.02</td>\n",
       "      <td>0.00</td>\n",
       "      <td>0.000000</td>\n",
       "      <td>0.039216</td>\n",
       "      <td>0.016949</td>\n",
       "      <td>0.000000</td>\n",
       "      <td>0.0</td>\n",
       "      <td>0.0</td>\n",
       "      <td>1</td>\n",
       "    </tr>\n",
       "    <tr>\n",
       "      <th>11</th>\n",
       "      <td>0.000043</td>\n",
       "      <td>0.138393</td>\n",
       "      <td>0.000092</td>\n",
       "      <td>0.000364</td>\n",
       "      <td>0.019608</td>\n",
       "      <td>0.166667</td>\n",
       "      <td>0.00</td>\n",
       "      <td>0.00</td>\n",
       "      <td>0.000000</td>\n",
       "      <td>0.019608</td>\n",
       "      <td>0.000000</td>\n",
       "      <td>0.000000</td>\n",
       "      <td>0.0</td>\n",
       "      <td>0.0</td>\n",
       "      <td>1</td>\n",
       "    </tr>\n",
       "    <tr>\n",
       "      <th>15</th>\n",
       "      <td>0.500000</td>\n",
       "      <td>0.995536</td>\n",
       "      <td>0.119792</td>\n",
       "      <td>0.000000</td>\n",
       "      <td>0.000000</td>\n",
       "      <td>0.333333</td>\n",
       "      <td>0.00</td>\n",
       "      <td>0.00</td>\n",
       "      <td>0.000000</td>\n",
       "      <td>0.058824</td>\n",
       "      <td>0.016949</td>\n",
       "      <td>0.000000</td>\n",
       "      <td>0.0</td>\n",
       "      <td>1.0</td>\n",
       "      <td>1</td>\n",
       "    </tr>\n",
       "    <tr>\n",
       "      <th>17</th>\n",
       "      <td>0.000043</td>\n",
       "      <td>0.138393</td>\n",
       "      <td>0.000007</td>\n",
       "      <td>0.000869</td>\n",
       "      <td>0.039216</td>\n",
       "      <td>0.166667</td>\n",
       "      <td>0.00</td>\n",
       "      <td>0.00</td>\n",
       "      <td>0.000000</td>\n",
       "      <td>0.019608</td>\n",
       "      <td>0.000000</td>\n",
       "      <td>0.039216</td>\n",
       "      <td>0.0</td>\n",
       "      <td>0.0</td>\n",
       "      <td>1</td>\n",
       "    </tr>\n",
       "    <tr>\n",
       "      <th>21</th>\n",
       "      <td>0.000044</td>\n",
       "      <td>0.995536</td>\n",
       "      <td>0.000009</td>\n",
       "      <td>0.000236</td>\n",
       "      <td>0.098039</td>\n",
       "      <td>0.166667</td>\n",
       "      <td>0.00</td>\n",
       "      <td>0.00</td>\n",
       "      <td>0.000000</td>\n",
       "      <td>0.000000</td>\n",
       "      <td>0.016949</td>\n",
       "      <td>0.039216</td>\n",
       "      <td>0.0</td>\n",
       "      <td>0.0</td>\n",
       "      <td>1</td>\n",
       "    </tr>\n",
       "    <tr>\n",
       "      <th>...</th>\n",
       "      <td>...</td>\n",
       "      <td>...</td>\n",
       "      <td>...</td>\n",
       "      <td>...</td>\n",
       "      <td>...</td>\n",
       "      <td>...</td>\n",
       "      <td>...</td>\n",
       "      <td>...</td>\n",
       "      <td>...</td>\n",
       "      <td>...</td>\n",
       "      <td>...</td>\n",
       "      <td>...</td>\n",
       "      <td>...</td>\n",
       "      <td>...</td>\n",
       "      <td>...</td>\n",
       "    </tr>\n",
       "    <tr>\n",
       "      <th>175335</th>\n",
       "      <td>0.166667</td>\n",
       "      <td>0.995536</td>\n",
       "      <td>0.032986</td>\n",
       "      <td>0.000000</td>\n",
       "      <td>0.862745</td>\n",
       "      <td>0.333333</td>\n",
       "      <td>0.64</td>\n",
       "      <td>0.64</td>\n",
       "      <td>0.533333</td>\n",
       "      <td>0.862745</td>\n",
       "      <td>0.542373</td>\n",
       "      <td>0.862745</td>\n",
       "      <td>0.0</td>\n",
       "      <td>1.0</td>\n",
       "      <td>0</td>\n",
       "    </tr>\n",
       "    <tr>\n",
       "      <th>175336</th>\n",
       "      <td>0.111111</td>\n",
       "      <td>0.995536</td>\n",
       "      <td>0.021991</td>\n",
       "      <td>0.000000</td>\n",
       "      <td>0.450980</td>\n",
       "      <td>0.333333</td>\n",
       "      <td>0.46</td>\n",
       "      <td>0.46</td>\n",
       "      <td>0.400000</td>\n",
       "      <td>0.450980</td>\n",
       "      <td>0.389831</td>\n",
       "      <td>0.450980</td>\n",
       "      <td>0.0</td>\n",
       "      <td>1.0</td>\n",
       "      <td>0</td>\n",
       "    </tr>\n",
       "    <tr>\n",
       "      <th>175338</th>\n",
       "      <td>0.111111</td>\n",
       "      <td>0.995536</td>\n",
       "      <td>0.021991</td>\n",
       "      <td>0.000000</td>\n",
       "      <td>0.215686</td>\n",
       "      <td>0.333333</td>\n",
       "      <td>0.04</td>\n",
       "      <td>0.04</td>\n",
       "      <td>0.066667</td>\n",
       "      <td>0.235294</td>\n",
       "      <td>0.033898</td>\n",
       "      <td>0.215686</td>\n",
       "      <td>0.0</td>\n",
       "      <td>1.0</td>\n",
       "      <td>0</td>\n",
       "    </tr>\n",
       "    <tr>\n",
       "      <th>175339</th>\n",
       "      <td>0.111111</td>\n",
       "      <td>0.995536</td>\n",
       "      <td>0.021991</td>\n",
       "      <td>0.000000</td>\n",
       "      <td>0.568627</td>\n",
       "      <td>0.333333</td>\n",
       "      <td>0.58</td>\n",
       "      <td>0.58</td>\n",
       "      <td>0.433333</td>\n",
       "      <td>0.568627</td>\n",
       "      <td>0.491525</td>\n",
       "      <td>0.568627</td>\n",
       "      <td>0.0</td>\n",
       "      <td>1.0</td>\n",
       "      <td>0</td>\n",
       "    </tr>\n",
       "    <tr>\n",
       "      <th>175340</th>\n",
       "      <td>0.111111</td>\n",
       "      <td>0.995536</td>\n",
       "      <td>0.021991</td>\n",
       "      <td>0.000000</td>\n",
       "      <td>0.568627</td>\n",
       "      <td>0.333333</td>\n",
       "      <td>0.58</td>\n",
       "      <td>0.58</td>\n",
       "      <td>0.500000</td>\n",
       "      <td>0.568627</td>\n",
       "      <td>0.491525</td>\n",
       "      <td>0.568627</td>\n",
       "      <td>0.0</td>\n",
       "      <td>1.0</td>\n",
       "      <td>0</td>\n",
       "    </tr>\n",
       "  </tbody>\n",
       "</table>\n",
       "<p>81173 rows × 15 columns</p>\n",
       "</div>"
      ],
      "text/plain": [
       "            rate      sttl     sload     dload  ct_srv_src  ct_state_ttl  \\\n",
       "3       0.000014  0.138393  0.000001  0.000150    0.000000      0.166667   \n",
       "11      0.000043  0.138393  0.000092  0.000364    0.019608      0.166667   \n",
       "15      0.500000  0.995536  0.119792  0.000000    0.000000      0.333333   \n",
       "17      0.000043  0.138393  0.000007  0.000869    0.039216      0.166667   \n",
       "21      0.000044  0.995536  0.000009  0.000236    0.098039      0.166667   \n",
       "...          ...       ...       ...       ...         ...           ...   \n",
       "175335  0.166667  0.995536  0.032986  0.000000    0.862745      0.333333   \n",
       "175336  0.111111  0.995536  0.021991  0.000000    0.450980      0.333333   \n",
       "175338  0.111111  0.995536  0.021991  0.000000    0.215686      0.333333   \n",
       "175339  0.111111  0.995536  0.021991  0.000000    0.568627      0.333333   \n",
       "175340  0.111111  0.995536  0.021991  0.000000    0.568627      0.333333   \n",
       "\n",
       "        ct_dst_ltm  ct_src_dport_ltm  ct_dst_sport_ltm  ct_dst_src_ltm  \\\n",
       "3             0.02              0.00          0.000000        0.039216   \n",
       "11            0.00              0.00          0.000000        0.019608   \n",
       "15            0.00              0.00          0.000000        0.058824   \n",
       "17            0.00              0.00          0.000000        0.019608   \n",
       "21            0.00              0.00          0.000000        0.000000   \n",
       "...            ...               ...               ...             ...   \n",
       "175335        0.64              0.64          0.533333        0.862745   \n",
       "175336        0.46              0.46          0.400000        0.450980   \n",
       "175338        0.04              0.04          0.066667        0.235294   \n",
       "175339        0.58              0.58          0.433333        0.568627   \n",
       "175340        0.58              0.58          0.500000        0.568627   \n",
       "\n",
       "        ct_src_ltm  ct_srv_dst  state_CON  state_INT  label  \n",
       "3         0.016949    0.000000        0.0        0.0      1  \n",
       "11        0.000000    0.000000        0.0        0.0      1  \n",
       "15        0.016949    0.000000        0.0        1.0      1  \n",
       "17        0.000000    0.039216        0.0        0.0      1  \n",
       "21        0.016949    0.039216        0.0        0.0      1  \n",
       "...            ...         ...        ...        ...    ...  \n",
       "175335    0.542373    0.862745        0.0        1.0      0  \n",
       "175336    0.389831    0.450980        0.0        1.0      0  \n",
       "175338    0.033898    0.215686        0.0        1.0      0  \n",
       "175339    0.491525    0.568627        0.0        1.0      0  \n",
       "175340    0.491525    0.568627        0.0        1.0      0  \n",
       "\n",
       "[81173 rows x 15 columns]"
      ]
     },
     "execution_count": 60,
     "metadata": {},
     "output_type": "execute_result"
    }
   ],
   "source": [
    "# Binary labelled Dataset\n",
    "bin_data = bin_data[bin_cols].copy()\n",
    "bin_data"
   ]
  },
  {
   "cell_type": "markdown",
   "metadata": {
    "id": "o3brm_K3vhuA"
   },
   "source": [
    "### **Saving Prepared Dataset to Disk**"
   ]
  },
  {
   "cell_type": "code",
   "execution_count": 61,
   "metadata": {
    "id": "lvS-G6pgvibj"
   },
   "outputs": [],
   "source": [
    "bin_data.to_csv('./datasets/bin_data.csv')"
   ]
  },
  {
   "cell_type": "markdown",
   "metadata": {
    "id": "HB3FNtTQvQYo"
   },
   "source": [
    "## **Multi-class Labels**"
   ]
  },
  {
   "cell_type": "code",
   "execution_count": 62,
   "metadata": {
    "colab": {
     "base_uri": "https://localhost:8080/"
    },
    "id": "aOdnkJblmUBH",
    "outputId": "a238f73a-5ff1-4bcf-f62d-680b67857502"
   },
   "outputs": [
    {
     "data": {
      "text/plain": [
       "state_CON              0.302853\n",
       "attack_cat_Analysis    0.326209\n",
       "attack_cat_DoS         0.339669\n",
       "state_FIN              0.361750\n",
       "proto_udp              0.364393\n",
       "swin                   0.364393\n",
       "dwin                   0.364393\n",
       "proto_tcp              0.364393\n",
       "service_dns            0.365346\n",
       "synack                 0.524027\n",
       "ackdat                 0.570098\n",
       "tcprtt                 0.570205\n",
       "attack_cat_Normal      0.570858\n",
       "dttl                   0.646589\n",
       "attack_cat_Exploits    0.719733\n",
       "label                  1.000000\n",
       "Name: label, dtype: float64"
      ]
     },
     "execution_count": 62,
     "metadata": {},
     "output_type": "execute_result"
    }
   ],
   "source": [
    "# finding the attributes which have more than 0.3 correlation with encoded attack label attribute \n",
    "corr_ymulti = abs(corr_multi['label'])\n",
    "highest_corr_multi = corr_ymulti[corr_ymulti >0.3]\n",
    "highest_corr_multi.sort_values(ascending=True)"
   ]
  },
  {
   "cell_type": "code",
   "execution_count": 63,
   "metadata": {
    "colab": {
     "base_uri": "https://localhost:8080/"
    },
    "id": "_FAU8UNYmW8R",
    "outputId": "0c4802f5-cd8f-45ad-c64f-0e94efc210fa"
   },
   "outputs": [
    {
     "data": {
      "text/plain": [
       "Index(['dttl', 'swin', 'dwin', 'tcprtt', 'synack', 'ackdat', 'label',\n",
       "       'proto_tcp', 'proto_udp', 'service_dns', 'state_CON', 'state_FIN',\n",
       "       'attack_cat_Analysis', 'attack_cat_DoS', 'attack_cat_Exploits',\n",
       "       'attack_cat_Normal'],\n",
       "      dtype='object')"
      ]
     },
     "execution_count": 63,
     "metadata": {},
     "output_type": "execute_result"
    }
   ],
   "source": [
    "# selecting attributes found by using pearson correlation coefficient\n",
    "multi_cols = highest_corr_multi.index\n",
    "multi_cols"
   ]
  },
  {
   "cell_type": "code",
   "execution_count": 64,
   "metadata": {
    "id": "xgz7owF_mz_P"
   },
   "outputs": [],
   "source": [
    "# Multi-class labelled Dataset\n",
    "multi_data = multi_data[multi_cols].copy()"
   ]
  },
  {
   "cell_type": "markdown",
   "metadata": {
    "id": "vyCzRKuVvZnh"
   },
   "source": [
    "### **Saving Prepared Dataset to Disk**"
   ]
  },
  {
   "cell_type": "code",
   "execution_count": 65,
   "metadata": {
    "id": "1MzHTuY0vXU_"
   },
   "outputs": [],
   "source": [
    "multi_data.to_csv('./datasets/multi_data.csv')"
   ]
  },
  {
   "cell_type": "markdown",
   "metadata": {
    "id": "z376w6tkpD9q"
   },
   "source": [
    "# **BINARY CLASSIFICATION**"
   ]
  },
  {
   "cell_type": "markdown",
   "metadata": {
    "id": "53mDsRGbRbZN"
   },
   "source": [
    "## **Data Splitting**\n",
    "\n"
   ]
  },
  {
   "cell_type": "code",
   "execution_count": 66,
   "metadata": {
    "id": "Y5QtFhz-sdQj"
   },
   "outputs": [],
   "source": [
    "X = bin_data.drop(columns=['label'],axis=1)\n",
    "Y = bin_data['label']"
   ]
  },
  {
   "cell_type": "code",
   "execution_count": 67,
   "metadata": {
    "id": "E1wQkX1Ts2Sd"
   },
   "outputs": [],
   "source": [
    "X_train,X_test,y_train,y_test = train_test_split(X,Y,test_size=0.20, random_state=50)"
   ]
  },
  {
   "cell_type": "markdown",
   "metadata": {
    "id": "OvnA6CLbRmAp"
   },
   "source": [
    "## **Linear Regression**"
   ]
  },
  {
   "cell_type": "code",
   "execution_count": 68,
   "metadata": {
    "colab": {
     "base_uri": "https://localhost:8080/"
    },
    "id": "DTUK805lsv4l",
    "outputId": "4a8cd3fe-c23f-4924-c58c-48a0576bc680"
   },
   "outputs": [
    {
     "name": "stderr",
     "output_type": "stream",
     "text": [
      "/Users/khaefner/opt/miniconda3/envs/adversarial/lib/python3.10/site-packages/sklearn/linear_model/_base.py:148: FutureWarning: 'normalize' was deprecated in version 1.0 and will be removed in 1.2. Please leave the normalize parameter to its default value to silence this warning. The default behavior of this estimator is to not do any normalization. If normalization is needed please use sklearn.preprocessing.StandardScaler instead.\n",
      "  warnings.warn(\n"
     ]
    },
    {
     "data": {
      "text/plain": [
       "LinearRegression(normalize=False)"
      ]
     },
     "execution_count": 68,
     "metadata": {},
     "output_type": "execute_result"
    }
   ],
   "source": [
    "lr_bin = LinearRegression(normalize=False)\n",
    "lr_bin.fit(X_train, y_train)"
   ]
  },
  {
   "cell_type": "code",
   "execution_count": 69,
   "metadata": {
    "id": "ZHu4KdVdzBkQ"
   },
   "outputs": [],
   "source": [
    "y_pred = lr_bin.predict(X_test)"
   ]
  },
  {
   "cell_type": "code",
   "execution_count": 70,
   "metadata": {
    "id": "BB2BXIQwx9Qq"
   },
   "outputs": [],
   "source": [
    "round = lambda x:1 if x>0.6 else 0\n",
    "vfunc = np.vectorize(round)\n",
    "y_pred = vfunc(y_pred)"
   ]
  },
  {
   "cell_type": "code",
   "execution_count": 71,
   "metadata": {
    "colab": {
     "base_uri": "https://localhost:8080/"
    },
    "id": "PojIn669NZFh",
    "outputId": "bb583eaa-f485-4b7a-df8d-cd1b4ee8730e"
   },
   "outputs": [
    {
     "name": "stdout",
     "output_type": "stream",
     "text": [
      "Mean Absolute Error -  0.021927933477055742\n",
      "Mean Squared Error -  0.021927933477055742\n",
      "Root Mean Squared Error -  0.1480808342664767\n",
      "R2 Score -  88.20923868071647\n",
      "Accuracy -  97.80720665229443\n"
     ]
    }
   ],
   "source": [
    "print(\"Mean Absolute Error - \" , metrics.mean_absolute_error(y_test, y_pred))\n",
    "print(\"Mean Squared Error - \" , metrics.mean_squared_error(y_test, y_pred))\n",
    "print(\"Root Mean Squared Error - \" , np.sqrt(metrics.mean_squared_error(y_test, y_pred)))\n",
    "print(\"R2 Score - \" , metrics.explained_variance_score(y_test, y_pred)*100)\n",
    "print(\"Accuracy - \",accuracy_score(y_test,y_pred)*100)"
   ]
  },
  {
   "cell_type": "code",
   "execution_count": 72,
   "metadata": {
    "id": "5on8CQxay4ZQ"
   },
   "outputs": [],
   "source": [
    "cls_report= classification_report(y_true=y_test, y_pred=y_pred,target_names=le1.classes_)"
   ]
  },
  {
   "cell_type": "code",
   "execution_count": 73,
   "metadata": {
    "colab": {
     "base_uri": "https://localhost:8080/"
    },
    "id": "24d-xQWa1Jze",
    "outputId": "b70c780b-f582-43df-8f11-bc910bf62ec1"
   },
   "outputs": [
    {
     "name": "stdout",
     "output_type": "stream",
     "text": [
      "              precision    recall  f1-score   support\n",
      "\n",
      "    abnormal       0.97      1.00      0.99     12326\n",
      "      normal       0.99      0.91      0.95      3909\n",
      "\n",
      "    accuracy                           0.98     16235\n",
      "   macro avg       0.98      0.96      0.97     16235\n",
      "weighted avg       0.98      0.98      0.98     16235\n",
      "\n"
     ]
    }
   ],
   "source": [
    "print(cls_report)"
   ]
  },
  {
   "cell_type": "markdown",
   "metadata": {
    "id": "yUun2b4QvaNC"
   },
   "source": [
    "### **Real and Predicted Data**"
   ]
  },
  {
   "cell_type": "code",
   "execution_count": 74,
   "metadata": {
    "colab": {
     "base_uri": "https://localhost:8080/",
     "height": 419
    },
    "id": "hHqBDOQuEm-9",
    "outputId": "a7ee3161-9f09-4ad3-b268-9e57801fe1bd"
   },
   "outputs": [
    {
     "data": {
      "text/html": [
       "<div>\n",
       "<style scoped>\n",
       "    .dataframe tbody tr th:only-of-type {\n",
       "        vertical-align: middle;\n",
       "    }\n",
       "\n",
       "    .dataframe tbody tr th {\n",
       "        vertical-align: top;\n",
       "    }\n",
       "\n",
       "    .dataframe thead th {\n",
       "        text-align: right;\n",
       "    }\n",
       "</style>\n",
       "<table border=\"1\" class=\"dataframe\">\n",
       "  <thead>\n",
       "    <tr style=\"text-align: right;\">\n",
       "      <th></th>\n",
       "      <th>Actual</th>\n",
       "      <th>Predicted</th>\n",
       "    </tr>\n",
       "  </thead>\n",
       "  <tbody>\n",
       "    <tr>\n",
       "      <th>159889</th>\n",
       "      <td>0</td>\n",
       "      <td>0</td>\n",
       "    </tr>\n",
       "    <tr>\n",
       "      <th>125506</th>\n",
       "      <td>0</td>\n",
       "      <td>0</td>\n",
       "    </tr>\n",
       "    <tr>\n",
       "      <th>158979</th>\n",
       "      <td>0</td>\n",
       "      <td>0</td>\n",
       "    </tr>\n",
       "    <tr>\n",
       "      <th>8148</th>\n",
       "      <td>1</td>\n",
       "      <td>1</td>\n",
       "    </tr>\n",
       "    <tr>\n",
       "      <th>39918</th>\n",
       "      <td>1</td>\n",
       "      <td>1</td>\n",
       "    </tr>\n",
       "    <tr>\n",
       "      <th>...</th>\n",
       "      <td>...</td>\n",
       "      <td>...</td>\n",
       "    </tr>\n",
       "    <tr>\n",
       "      <th>68470</th>\n",
       "      <td>0</td>\n",
       "      <td>0</td>\n",
       "    </tr>\n",
       "    <tr>\n",
       "      <th>159674</th>\n",
       "      <td>0</td>\n",
       "      <td>0</td>\n",
       "    </tr>\n",
       "    <tr>\n",
       "      <th>171321</th>\n",
       "      <td>0</td>\n",
       "      <td>0</td>\n",
       "    </tr>\n",
       "    <tr>\n",
       "      <th>125777</th>\n",
       "      <td>0</td>\n",
       "      <td>0</td>\n",
       "    </tr>\n",
       "    <tr>\n",
       "      <th>39178</th>\n",
       "      <td>1</td>\n",
       "      <td>1</td>\n",
       "    </tr>\n",
       "  </tbody>\n",
       "</table>\n",
       "<p>16235 rows × 2 columns</p>\n",
       "</div>"
      ],
      "text/plain": [
       "        Actual  Predicted\n",
       "159889       0          0\n",
       "125506       0          0\n",
       "158979       0          0\n",
       "8148         1          1\n",
       "39918        1          1\n",
       "...        ...        ...\n",
       "68470        0          0\n",
       "159674       0          0\n",
       "171321       0          0\n",
       "125777       0          0\n",
       "39178        1          1\n",
       "\n",
       "[16235 rows x 2 columns]"
      ]
     },
     "execution_count": 74,
     "metadata": {},
     "output_type": "execute_result"
    }
   ],
   "source": [
    "lr_bin_df = pd.DataFrame({'Actual': y_test, 'Predicted': y_pred})\n",
    "lr_bin_df.to_csv('./predictions/lr_real_pred_bin.csv')\n",
    "lr_bin_df"
   ]
  },
  {
   "cell_type": "markdown",
   "metadata": {
    "id": "lwdZ0_eEto1a"
   },
   "source": [
    "### **Plot between Real and Predicted Data**"
   ]
  },
  {
   "cell_type": "code",
   "execution_count": 75,
   "metadata": {
    "colab": {
     "base_uri": "https://localhost:8080/",
     "height": 499
    },
    "id": "7DjcugEeKmKp",
    "outputId": "12e44561-4566-46ff-d18c-76905713d714"
   },
   "outputs": [
    {
     "name": "stderr",
     "output_type": "stream",
     "text": [
      "/var/folders/5z/ckt7vhyj2hbgck92pggrddg80000gp/T/ipykernel_22340/1821491662.py:3: FutureWarning: The behavior of `series[i:j]` with an integer-dtype index is deprecated. In a future version, this will be treated as *label-based* indexing, consistent with e.g. `series[i]` lookups. To retain the old behavior, use `series.iloc[i:j]`. To get the future behavior, use `series.loc[i:j]`.\n",
      "  plt.plot(y_test[:200].values, label=\"real_values\", linewidth=2.0,color='lightcoral')\n"
     ]
    },
    {
     "data": {
      "image/png": "[encoded data removed]",
      "text/plain": [
       "<Figure size 2000x800 with 1 Axes>"
      ]
     },
     "metadata": {},
     "output_type": "display_data"
    }
   ],
   "source": [
    "plt.figure(figsize=(20,8))\n",
    "plt.plot(y_pred[:200], label=\"prediction\", linewidth=2.0,color='blue')\n",
    "plt.plot(y_test[:200].values, label=\"real_values\", linewidth=2.0,color='lightcoral')\n",
    "plt.legend(loc=\"best\")\n",
    "plt.title(\"Linear Regression Binary Classification\")\n",
    "plt.savefig('plots/lr_real_pred_bin.png')\n",
    "plt.show()"
   ]
  },
  {
   "cell_type": "markdown",
   "metadata": {
    "id": "FCmDNhZUwF43"
   },
   "source": [
    "### **Saving Trained Model to Disk**"
   ]
  },
  {
   "cell_type": "code",
   "execution_count": 76,
   "metadata": {
    "colab": {
     "base_uri": "https://localhost:8080/"
    },
    "id": "Y2aUD7GMwFEu",
    "outputId": "db6e7054-4ab1-4938-c4dd-ad8d0c18c5a8"
   },
   "outputs": [
    {
     "name": "stdout",
     "output_type": "stream",
     "text": [
      "Previous Model exists on the disk! Please Remove\n"
     ]
    }
   ],
   "source": [
    "pkl_filename = \"./models/linear_regressor_binary.pkl\"\n",
    "if (not path.isfile(pkl_filename)):\n",
    "  # saving the trained model to disk \n",
    "  with open(pkl_filename, 'wb') as file:\n",
    "    pickle.dump(lr_bin, file)\n",
    "  print(\"Saved model to disk\")\n",
    "else:\n",
    "  print(\"Previous Model exists on the disk! Please Remove\")"
   ]
  },
  {
   "cell_type": "markdown",
   "metadata": {
    "id": "AL_iA7FhRrYD"
   },
   "source": [
    "## **Logistic Regression**"
   ]
  },
  {
   "cell_type": "code",
   "execution_count": 77,
   "metadata": {
    "colab": {
     "base_uri": "https://localhost:8080/"
    },
    "id": "ihYRp8tPthmB",
    "outputId": "0908fff0-9efc-4fbd-eabd-c7d84690f4a7"
   },
   "outputs": [
    {
     "data": {
      "text/plain": [
       "LogisticRegression(max_iter=5000, random_state=123)"
      ]
     },
     "execution_count": 77,
     "metadata": {},
     "output_type": "execute_result"
    }
   ],
   "source": [
    "logr_bin = LogisticRegression(random_state=123, max_iter=5000)\n",
    "logr_bin"
   ]
  },
  {
   "cell_type": "code",
   "execution_count": 78,
   "metadata": {
    "colab": {
     "base_uri": "https://localhost:8080/"
    },
    "id": "eqGNKetZSQKO",
    "outputId": "fd1dfdd9-8f51-4ad7-a76a-af84df4b5f4f"
   },
   "outputs": [
    {
     "data": {
      "text/plain": [
       "LogisticRegression(max_iter=5000, random_state=123)"
      ]
     },
     "execution_count": 78,
     "metadata": {},
     "output_type": "execute_result"
    }
   ],
   "source": [
    "logr_bin.fit(X_train,y_train)"
   ]
  },
  {
   "cell_type": "code",
   "execution_count": 79,
   "metadata": {
    "id": "hdYR3YSTWzpd"
   },
   "outputs": [],
   "source": [
    "y_pred = logr_bin.predict(X_test)"
   ]
  },
  {
   "cell_type": "code",
   "execution_count": 80,
   "metadata": {
    "colab": {
     "base_uri": "https://localhost:8080/"
    },
    "id": "D-fPuuKi21Rx",
    "outputId": "0a339034-c284-4222-88b9-4220dd983d13"
   },
   "outputs": [
    {
     "name": "stdout",
     "output_type": "stream",
     "text": [
      "Mean Absolute Error -  0.02198952879581152\n",
      "Mean Squared Error -  0.02198952879581152\n",
      "Root Mean Squared Error -  0.1482886671186019\n",
      "R2 Score -  88.17947258428785\n",
      "Accuracy -  97.80104712041884\n"
     ]
    }
   ],
   "source": [
    "print(\"Mean Absolute Error - \" , metrics.mean_absolute_error(y_test, y_pred))\n",
    "print(\"Mean Squared Error - \" , metrics.mean_squared_error(y_test, y_pred))\n",
    "print(\"Root Mean Squared Error - \" , np.sqrt(metrics.mean_squared_error(y_test, y_pred)))\n",
    "print(\"R2 Score - \" , metrics.explained_variance_score(y_test, y_pred)*100)\n",
    "print(\"Accuracy - \",accuracy_score(y_test,y_pred)*100)"
   ]
  },
  {
   "cell_type": "code",
   "execution_count": 81,
   "metadata": {
    "colab": {
     "base_uri": "https://localhost:8080/"
    },
    "id": "EH6-PJ5g3k9c",
    "outputId": "6d2897ec-e7dc-4c5b-d7ba-1ebdf08b1733"
   },
   "outputs": [
    {
     "name": "stdout",
     "output_type": "stream",
     "text": [
      "              precision    recall  f1-score   support\n",
      "\n",
      "    abnormal       0.97      1.00      0.99     12326\n",
      "      normal       0.99      0.91      0.95      3909\n",
      "\n",
      "    accuracy                           0.98     16235\n",
      "   macro avg       0.98      0.96      0.97     16235\n",
      "weighted avg       0.98      0.98      0.98     16235\n",
      "\n"
     ]
    }
   ],
   "source": [
    "cls_report= classification_report(y_true=y_test, y_pred=y_pred,target_names=le1.classes_)\n",
    "print(cls_report)"
   ]
  },
  {
   "cell_type": "markdown",
   "metadata": {
    "id": "rzZfXWBZvUnE"
   },
   "source": [
    "### **Real and Predicted Data**"
   ]
  },
  {
   "cell_type": "code",
   "execution_count": null,
   "metadata": {
    "colab": {
     "base_uri": "https://localhost:8080/",
     "height": 419
    },
    "id": "sECsCoEOIY5w",
    "outputId": "f1f4db21-fc4f-4386-f042-92b154b3423a"
   },
   "outputs": [],
   "source": [
    "logr_bin_df = pd.DataFrame({'Actual': y_test, 'Predicted': y_pred})\n",
    "logr_bin_df.to_csv('./predictions/logr_real_pred_bin.csv')\n",
    "logr_bin_df"
   ]
  },
  {
   "cell_type": "markdown",
   "metadata": {
    "id": "0qiky5PVt82a"
   },
   "source": [
    "### **Plot between Real and Predicted Data**"
   ]
  },
  {
   "cell_type": "code",
   "execution_count": null,
   "metadata": {
    "colab": {
     "base_uri": "https://localhost:8080/",
     "height": 499
    },
    "id": "QdoRXsnWK9VM",
    "outputId": "38e6064c-bd06-452f-af3a-9e163da4fd81"
   },
   "outputs": [],
   "source": [
    "plt.figure(figsize=(20,8))\n",
    "plt.plot(y_pred[:200], label=\"prediction\", linewidth=2.0,color='blue')\n",
    "plt.plot(y_test[:200].values, label=\"real_values\", linewidth=2.0,color='lightcoral')\n",
    "plt.legend(loc=\"best\")\n",
    "plt.title(\"Logistic Regression Binary Classification\")\n",
    "plt.savefig('plots/logr_real_pred_bin.png')\n",
    "plt.show()"
   ]
  },
  {
   "cell_type": "markdown",
   "metadata": {
    "id": "kLUapFKiJyhl"
   },
   "source": [
    "### **Saving Trained Model to Disk**"
   ]
  },
  {
   "cell_type": "code",
   "execution_count": null,
   "metadata": {
    "colab": {
     "base_uri": "https://localhost:8080/"
    },
    "id": "9Oe9UtfCw-_F",
    "outputId": "2ad3df11-7f64-42d5-e5c6-ac62d05f1821"
   },
   "outputs": [],
   "source": [
    "pkl_filename = \"./models/logistic_regressor_binary.pkl\"\n",
    "if (not path.isfile(pkl_filename)):\n",
    "  # saving the trained model to disk \n",
    "  with open(pkl_filename, 'wb') as file:\n",
    "    pickle.dump(logr_bin, file)\n",
    "  print(\"Saved model to disk\")\n",
    "else:\n",
    "  print(\"Model already saved\")"
   ]
  },
  {
   "cell_type": "markdown",
   "metadata": {
    "id": "z81e-bZdU4vT",
    "tags": []
   },
   "source": [
    "## **Linear Support Vector Machine**"
   ]
  },
  {
   "cell_type": "code",
   "execution_count": 84,
   "metadata": {
    "colab": {
     "base_uri": "https://localhost:8080/"
    },
    "id": "KvGU2efOVLmQ",
    "outputId": "f6cb3c64-d9ee-429c-ba2b-989a994a683b"
   },
   "outputs": [
    {
     "data": {
      "text/plain": [
       "SVC(gamma='auto', kernel='linear')"
      ]
     },
     "execution_count": 84,
     "metadata": {},
     "output_type": "execute_result"
    }
   ],
   "source": [
    "lsvm_bin = SVC(kernel='linear',gamma='auto') \n",
    "lsvm_bin.fit(X_train,y_train)"
   ]
  },
  {
   "cell_type": "code",
   "execution_count": 85,
   "metadata": {
    "id": "-A2zjFfFVNRk"
   },
   "outputs": [],
   "source": [
    "y_pred = lsvm_bin.predict(X_test) "
   ]
  },
  {
   "cell_type": "code",
   "execution_count": 86,
   "metadata": {
    "colab": {
     "base_uri": "https://localhost:8080/"
    },
    "id": "96z6CuRh4f5q",
    "outputId": "48a391ae-e1b1-42c4-9680-cba89d3fd0cf"
   },
   "outputs": [
    {
     "name": "stdout",
     "output_type": "stream",
     "text": [
      "Mean Absolute Error -  0.021496766245765322\n",
      "Mean Squared Error -  0.021496766245765322\n",
      "Root Mean Squared Error -  0.1466177555610688\n",
      "R2 Score -  88.45167193436498\n",
      "Accuracy -  97.85032337542347\n"
     ]
    }
   ],
   "source": [
    "print(\"Mean Absolute Error - \" , metrics.mean_absolute_error(y_test, y_pred))\n",
    "print(\"Mean Squared Error - \" , metrics.mean_squared_error(y_test, y_pred))\n",
    "print(\"Root Mean Squared Error - \" , np.sqrt(metrics.mean_squared_error(y_test, y_pred)))\n",
    "print(\"R2 Score - \" , metrics.explained_variance_score(y_test, y_pred)*100)\n",
    "print(\"Accuracy - \",accuracy_score(y_test,y_pred)*100)"
   ]
  },
  {
   "cell_type": "code",
   "execution_count": null,
   "metadata": {
    "colab": {
     "base_uri": "https://localhost:8080/"
    },
    "id": "o_l0hsCw4gkv",
    "outputId": "91132223-9a19-4ed9-b860-9949f1a49e12"
   },
   "outputs": [
    {
     "name": "stdout",
     "output_type": "stream",
     "text": [
      "              precision    recall  f1-score   support\n",
      "\n",
      "    abnormal       0.97      1.00      0.99     12326\n",
      "      normal       1.00      0.91      0.95      3909\n",
      "\n",
      "    accuracy                           0.98     16235\n",
      "   macro avg       0.98      0.96      0.97     16235\n",
      "weighted avg       0.98      0.98      0.98     16235\n",
      "\n"
     ]
    }
   ],
   "source": [
    "cls_report= classification_report(y_true=y_test, y_pred=y_pred,target_names=le1.classes_)\n",
    "print(cls_report)"
   ]
  },
  {
   "cell_type": "markdown",
   "metadata": {
    "id": "4wJMf_f5vPMz"
   },
   "source": [
    "### **Real and Predicted Data**"
   ]
  },
  {
   "cell_type": "code",
   "execution_count": null,
   "metadata": {
    "colab": {
     "base_uri": "https://localhost:8080/",
     "height": 419
    },
    "id": "MAo_yOxjIRIO",
    "outputId": "93b683f6-1ab1-494e-fd85-f229d4e0add0"
   },
   "outputs": [],
   "source": [
    "lsvm_bin_df = pd.DataFrame({'Actual': y_test, 'Predicted': y_pred})\n",
    "lsvm_bin_df.to_csv('./predictions/lsvm_real_pred_bin.csv')\n",
    "lsvm_bin_df"
   ]
  },
  {
   "cell_type": "markdown",
   "metadata": {
    "id": "SxPM9N-4uNcP"
   },
   "source": [
    "### **Plot between Real and Predicted Data**"
   ]
  },
  {
   "cell_type": "code",
   "execution_count": null,
   "metadata": {
    "colab": {
     "base_uri": "https://localhost:8080/",
     "height": 390
    },
    "id": "jNXtgFuSLNTW",
    "outputId": "cdd4242f-8909-4d1a-89db-d0d9ec70939c"
   },
   "outputs": [],
   "source": [
    "plt.figure(figsize=(20,8))\n",
    "plt.plot(y_pred[:200], label=\"prediction\", linewidth=2.0,color='blue')\n",
    "plt.plot(y_test[:200].values, label=\"real_values\", linewidth=2.0,color='lightcoral')\n",
    "plt.legend(loc=\"best\")\n",
    "plt.title(\"Linear SVM Binary Classification\")\n",
    "plt.savefig('plots/lsvm_real_pred_bin.png')\n",
    "plt.show()"
   ]
  },
  {
   "cell_type": "markdown",
   "metadata": {
    "id": "KzoyEiVgJ0sG"
   },
   "source": [
    "### **Saving Trained Model to Disk**"
   ]
  },
  {
   "cell_type": "code",
   "execution_count": null,
   "metadata": {
    "colab": {
     "base_uri": "https://localhost:8080/"
    },
    "id": "jCvD6SFYxH-m",
    "outputId": "b7eb9974-97a5-4b57-a1d1-61a696737c7f"
   },
   "outputs": [],
   "source": [
    "pkl_filename = \"./models/lsvm_binary.pkl\"\n",
    "if (not path.isfile(pkl_filename)):\n",
    "  # saving the trained model to disk \n",
    "  with open(pkl_filename, 'wb') as file:\n",
    "    pickle.dump(lsvm_bin, file)\n",
    "  print(\"Saved model to disk\")\n",
    "else:\n",
    "  print(\"Model already saved\")"
   ]
  },
  {
   "cell_type": "markdown",
   "metadata": {
    "id": "3P0rpGJGXzNw"
   },
   "source": [
    "## **K Nearest Neighbor Classifier**"
   ]
  },
  {
   "cell_type": "code",
   "execution_count": null,
   "metadata": {
    "colab": {
     "base_uri": "https://localhost:8080/"
    },
    "id": "JzyybISTX7zr",
    "outputId": "598d67fc-2cdb-4c66-c303-bfe184a268d1"
   },
   "outputs": [],
   "source": [
    "knn_bin=KNeighborsClassifier(n_neighbors=5)\n",
    "knn_bin.fit(X_train,y_train)"
   ]
  },
  {
   "cell_type": "code",
   "execution_count": null,
   "metadata": {
    "id": "sOWjLsIbYAJn"
   },
   "outputs": [],
   "source": [
    "y_pred = knn_bin.predict(X_test)"
   ]
  },
  {
   "cell_type": "code",
   "execution_count": null,
   "metadata": {
    "colab": {
     "base_uri": "https://localhost:8080/"
    },
    "id": "3Do-5now5ZF4",
    "outputId": "9c15d2ca-8059-48f4-bb07-742be5a62884"
   },
   "outputs": [],
   "source": [
    "print(\"Mean Absolute Error - \" , metrics.mean_absolute_error(y_test, y_pred))\n",
    "print(\"Mean Squared Error - \" , metrics.mean_squared_error(y_test, y_pred))\n",
    "print(\"Root Mean Squared Error - \" , np.sqrt(metrics.mean_squared_error(y_test, y_pred)))\n",
    "print(\"R2 Score - \" , metrics.explained_variance_score(y_test, y_pred)*100)\n",
    "print(\"Accuracy - \",accuracy_score(y_test,y_pred)*100)"
   ]
  },
  {
   "cell_type": "code",
   "execution_count": null,
   "metadata": {
    "colab": {
     "base_uri": "https://localhost:8080/"
    },
    "id": "J4qbmv145Yb7",
    "outputId": "b9d04b4c-6692-4227-d1a3-e84b7021cc95"
   },
   "outputs": [],
   "source": [
    "cls_report= classification_report(y_true=y_test, y_pred=y_pred,target_names=le1.classes_)\n",
    "print(cls_report)"
   ]
  },
  {
   "cell_type": "markdown",
   "metadata": {
    "id": "VjlH3V1VvMlC"
   },
   "source": [
    "### **Real and Predicted Data**"
   ]
  },
  {
   "cell_type": "code",
   "execution_count": null,
   "metadata": {
    "colab": {
     "base_uri": "https://localhost:8080/",
     "height": 419
    },
    "id": "Yu_eE8F_IJXw",
    "outputId": "9be4b9e7-92f3-4369-c93a-1263756b13ad"
   },
   "outputs": [],
   "source": [
    "knn_bin_df = pd.DataFrame({'Actual': y_test, 'Predicted': y_pred})\n",
    "knn_bin_df.to_csv('./predictions/knn_real_pred_bin.csv')\n",
    "knn_bin_df"
   ]
  },
  {
   "cell_type": "markdown",
   "metadata": {
    "id": "aB0Bm-LCuPq9"
   },
   "source": [
    "### **Plot between Real and Predicted Data**"
   ]
  },
  {
   "cell_type": "code",
   "execution_count": null,
   "metadata": {
    "colab": {
     "base_uri": "https://localhost:8080/",
     "height": 390
    },
    "id": "SAprvTykLSG_",
    "outputId": "6eede6da-0f9f-475a-85a1-a6a7ff33ce70"
   },
   "outputs": [],
   "source": [
    "plt.figure(figsize=(20,8))\n",
    "plt.plot(y_pred[:200], label=\"prediction\", linewidth=2.0,color='blue')\n",
    "plt.plot(y_test[:200].values, label=\"real_values\", linewidth=2.0,color='lightcoral')\n",
    "plt.legend(loc=\"best\")\n",
    "plt.title(\"KNN Binary Classification\")\n",
    "plt.savefig('plots/knn_real_pred_bin.png')\n",
    "plt.show()"
   ]
  },
  {
   "cell_type": "markdown",
   "metadata": {
    "id": "ZEe2DchqJ5Ii"
   },
   "source": [
    "### **Saving Trained Model to Disk**"
   ]
  },
  {
   "cell_type": "code",
   "execution_count": null,
   "metadata": {
    "colab": {
     "base_uri": "https://localhost:8080/"
    },
    "id": "kmbeGgfIxUqQ",
    "outputId": "2c79234c-a403-4589-8387-e87e28c1fb45"
   },
   "outputs": [],
   "source": [
    "pkl_filename = \"./models/knn_binary.pkl\"\n",
    "if (not path.isfile(pkl_filename)):\n",
    "  # saving the trained model to disk \n",
    "  with open(pkl_filename, 'wb') as file:\n",
    "    pickle.dump(knn_bin, file)\n",
    "  print(\"Saved model to disk\")\n",
    "else:\n",
    "  print(\"Model already saved\")"
   ]
  },
  {
   "cell_type": "markdown",
   "metadata": {
    "id": "ruPc2royYP5E"
   },
   "source": [
    "## **Random Forest Classifier**"
   ]
  },
  {
   "cell_type": "code",
   "execution_count": null,
   "metadata": {
    "colab": {
     "base_uri": "https://localhost:8080/"
    },
    "id": "45ystSi4YNVY",
    "outputId": "e4d3aea4-db14-4dad-c348-54d06093ef0b"
   },
   "outputs": [],
   "source": [
    " rf_bin = RandomForestClassifier(random_state=123)\n",
    " rf_bin.fit(X_train,y_train)"
   ]
  },
  {
   "cell_type": "code",
   "execution_count": null,
   "metadata": {
    "id": "bNhjSa5RY7ec"
   },
   "outputs": [],
   "source": [
    "y_pred = rf_bin.predict(X_test)"
   ]
  },
  {
   "cell_type": "code",
   "execution_count": null,
   "metadata": {
    "colab": {
     "base_uri": "https://localhost:8080/"
    },
    "id": "eXBShAzY6FoI",
    "outputId": "3bb3ef0e-30e5-40a8-b00d-aa7415590fb9"
   },
   "outputs": [],
   "source": [
    "print(\"Mean Absolute Error - \" , metrics.mean_absolute_error(y_test, y_pred))\n",
    "print(\"Mean Squared Error - \" , metrics.mean_squared_error(y_test, y_pred))\n",
    "print(\"Root Mean Squared Error - \" , np.sqrt(metrics.mean_squared_error(y_test, y_pred)))\n",
    "print(\"R2 Score - \" , metrics.explained_variance_score(y_test, y_pred)*100)\n",
    "print(\"Accuracy - \",accuracy_score(y_test,y_pred)*100)"
   ]
  },
  {
   "cell_type": "code",
   "execution_count": null,
   "metadata": {
    "colab": {
     "base_uri": "https://localhost:8080/"
    },
    "id": "IGHU1f4G6NCS",
    "outputId": "58d5c067-28ab-4aa3-b7b8-2f334ae70f58"
   },
   "outputs": [],
   "source": [
    "cls_report= classification_report(y_true=y_test, y_pred=y_pred,target_names=le1.classes_)\n",
    "print(cls_report)"
   ]
  },
  {
   "cell_type": "markdown",
   "metadata": {
    "id": "BJBxBPVpvKCC"
   },
   "source": [
    "### **Real and Predicted Data**"
   ]
  },
  {
   "cell_type": "code",
   "execution_count": null,
   "metadata": {
    "colab": {
     "base_uri": "https://localhost:8080/",
     "height": 419
    },
    "id": "mVnfx1YiIAzn",
    "outputId": "e38a5319-6e5b-40d2-e81b-45f71c6fa7db"
   },
   "outputs": [],
   "source": [
    "rf_bin_df = pd.DataFrame({'Actual': y_test, 'Predicted': y_pred})\n",
    "rf_bin_df.to_csv('./predictions/rf_real_pred_bin.csv')\n",
    "rf_bin_df"
   ]
  },
  {
   "cell_type": "markdown",
   "metadata": {
    "id": "natcELSsuSI2"
   },
   "source": [
    "### **Plot between Real and Predicted Data**"
   ]
  },
  {
   "cell_type": "code",
   "execution_count": null,
   "metadata": {
    "colab": {
     "base_uri": "https://localhost:8080/",
     "height": 390
    },
    "id": "w1WkWp-ILZXx",
    "outputId": "e1ed7dd8-bb39-49e8-e405-a80b347477f7"
   },
   "outputs": [],
   "source": [
    "plt.figure(figsize=(20,8))\n",
    "plt.plot(y_pred[200:400], label=\"prediction\", linewidth=2.0,color='blue')\n",
    "plt.plot(y_test[200:400].values, label=\"real_values\", linewidth=2.0,color='lightcoral')\n",
    "plt.legend(loc=\"best\")\n",
    "plt.title(\"Random Forest Binary Classification\")\n",
    "plt.savefig('plots/rf_real_pred_bin.png')\n",
    "plt.show()"
   ]
  },
  {
   "cell_type": "markdown",
   "metadata": {
    "id": "L3znIXFoJ8s6"
   },
   "source": [
    "### **Saving Trained Model to Disk**"
   ]
  },
  {
   "cell_type": "code",
   "execution_count": null,
   "metadata": {
    "colab": {
     "base_uri": "https://localhost:8080/"
    },
    "id": "kWdumOgVxbBq",
    "outputId": "6879c9aa-76d0-4290-e181-8811c353543b"
   },
   "outputs": [],
   "source": [
    "pkl_filename = \"./models/random_forest_binary.pkl\"\n",
    "if (not path.isfile(pkl_filename)):\n",
    "  # saving the trained model to disk \n",
    "  with open(pkl_filename, 'wb') as file:\n",
    "    pickle.dump(rf_bin, file)\n",
    "  print(\"Saved model to disk\")\n",
    "else:\n",
    "  print(\"Model already saved\")"
   ]
  },
  {
   "cell_type": "markdown",
   "metadata": {
    "id": "iuNVb3nAZDgm"
   },
   "source": [
    "## **Decision Tree Classifier**"
   ]
  },
  {
   "cell_type": "code",
   "execution_count": null,
   "metadata": {
    "colab": {
     "base_uri": "https://localhost:8080/"
    },
    "id": "BA4wCqfmZSF4",
    "outputId": "0dcfa0ce-07a2-4a06-e4ee-be74f5068cbd"
   },
   "outputs": [],
   "source": [
    "dt_bin = DecisionTreeClassifier(random_state=123)\n",
    "dt_bin.fit(X_train,y_train)"
   ]
  },
  {
   "cell_type": "code",
   "execution_count": null,
   "metadata": {
    "id": "DQI4mvSoZhkH"
   },
   "outputs": [],
   "source": [
    "y_pred = dt_bin.predict(X_test)"
   ]
  },
  {
   "cell_type": "code",
   "execution_count": null,
   "metadata": {
    "colab": {
     "base_uri": "https://localhost:8080/"
    },
    "id": "qWWpUn3i64Kl",
    "outputId": "ae0158d7-be3c-4e74-c366-bb960fa1b570"
   },
   "outputs": [],
   "source": [
    "print(\"Mean Absolute Error - \" , metrics.mean_absolute_error(y_test, y_pred))\n",
    "print(\"Mean Squared Error - \" , metrics.mean_squared_error(y_test, y_pred))\n",
    "print(\"Root Mean Squared Error - \" , np.sqrt(metrics.mean_squared_error(y_test, y_pred)))\n",
    "print(\"R2 Score - \" , metrics.explained_variance_score(y_test, y_pred)*100)\n",
    "print(\"Accuracy - \",accuracy_score(y_test,y_pred)*100)"
   ]
  },
  {
   "cell_type": "code",
   "execution_count": null,
   "metadata": {
    "colab": {
     "base_uri": "https://localhost:8080/"
    },
    "id": "TNa_hUjc63It",
    "outputId": "17f98a9b-0879-4e02-b119-eacfafb93b5f"
   },
   "outputs": [],
   "source": [
    "cls_report= classification_report(y_true=y_test, y_pred=y_pred,target_names=le1.classes_)\n",
    "print(cls_report)"
   ]
  },
  {
   "cell_type": "markdown",
   "metadata": {
    "id": "X9VNeVUkvHlP"
   },
   "source": [
    "### **Real and Predicted Data**"
   ]
  },
  {
   "cell_type": "code",
   "execution_count": null,
   "metadata": {
    "colab": {
     "base_uri": "https://localhost:8080/",
     "height": 419
    },
    "id": "O_cYO_EgH4t-",
    "outputId": "2bcbc835-d476-4f6c-c4e0-eb1e9b3908b3"
   },
   "outputs": [],
   "source": [
    "dt_bin_df = pd.DataFrame({'Actual': y_test, 'Predicted': y_pred})\n",
    "dt_bin_df.to_csv('./predictions/dt_real_pred_bin.csv')\n",
    "dt_bin_df"
   ]
  },
  {
   "cell_type": "markdown",
   "metadata": {
    "id": "3lsotc_5uVGO"
   },
   "source": [
    "### **Plot between Real and Predicted Data**"
   ]
  },
  {
   "cell_type": "code",
   "execution_count": null,
   "metadata": {
    "colab": {
     "base_uri": "https://localhost:8080/",
     "height": 390
    },
    "id": "zyQ241GjLetY",
    "outputId": "aa7fee90-259e-43ac-a843-6e066517abe6"
   },
   "outputs": [],
   "source": [
    "plt.figure(figsize=(20,8))\n",
    "plt.plot(y_pred[300:500], label=\"prediction\", linewidth=2.0,color='blue')\n",
    "plt.plot(y_test[300:500].values, label=\"real_values\", linewidth=2.0,color='lightcoral')\n",
    "plt.legend(loc=\"best\")\n",
    "plt.title(\"Decision Tree Binary Classification\")\n",
    "plt.savefig('plots/dt_real_pred_bin.png')\n",
    "plt.show()"
   ]
  },
  {
   "cell_type": "markdown",
   "metadata": {
    "id": "b1hy-cRhJ--7"
   },
   "source": [
    "### **Saving Trained Model to Disk**"
   ]
  },
  {
   "cell_type": "code",
   "execution_count": null,
   "metadata": {
    "colab": {
     "base_uri": "https://localhost:8080/"
    },
    "id": "8CTxYi3kxfq9",
    "outputId": "6881c653-4e7c-42d3-e85a-9e576a83c69f"
   },
   "outputs": [],
   "source": [
    "pkl_filename = \"./models/decision_tree_binary.pkl\"\n",
    "if (not path.isfile(pkl_filename)):\n",
    "  # saving the trained model to disk \n",
    "  with open(pkl_filename, 'wb') as file:\n",
    "    pickle.dump(dt_bin, file)\n",
    "  print(\"Saved model to disk\")\n",
    "else:\n",
    "  print(\"Model already saved\")"
   ]
  },
  {
   "cell_type": "markdown",
   "metadata": {
    "id": "bfna4-Sqrlnd"
   },
   "source": [
    "## **Multi Layer Perceptron**"
   ]
  },
  {
   "cell_type": "code",
   "execution_count": null,
   "metadata": {
    "id": "EFnPJ0jMrida"
   },
   "outputs": [],
   "source": [
    "mlp_bin = MLPClassifier(random_state=123, solver='adam', max_iter=8000)"
   ]
  },
  {
   "cell_type": "code",
   "execution_count": null,
   "metadata": {
    "colab": {
     "base_uri": "https://localhost:8080/"
    },
    "id": "aYh14lDyrkgv",
    "outputId": "16e62352-2dde-4a34-ade2-26891e9c9228"
   },
   "outputs": [],
   "source": [
    "mlp_bin.fit(X_train,y_train)"
   ]
  },
  {
   "cell_type": "code",
   "execution_count": null,
   "metadata": {
    "id": "YV1HgxZ3smNo"
   },
   "outputs": [],
   "source": [
    "y_pred = mlp_bin.predict(X_test)"
   ]
  },
  {
   "cell_type": "code",
   "execution_count": null,
   "metadata": {
    "colab": {
     "base_uri": "https://localhost:8080/"
    },
    "id": "TSi3T41e7n7G",
    "outputId": "32c93fdc-efde-4eeb-9ecb-b9cb9a4ccb8c"
   },
   "outputs": [],
   "source": [
    "print(\"Mean Absolute Error - \" , metrics.mean_absolute_error(y_test, y_pred))\n",
    "print(\"Mean Squared Error - \" , metrics.mean_squared_error(y_test, y_pred))\n",
    "print(\"Root Mean Squared Error - \" , np.sqrt(metrics.mean_squared_error(y_test, y_pred)))\n",
    "print(\"R2 Score - \" , metrics.explained_variance_score(y_test, y_pred)*100)\n",
    "print(\"Accuracy - \",accuracy_score(y_test,y_pred)*100)"
   ]
  },
  {
   "cell_type": "code",
   "execution_count": null,
   "metadata": {
    "colab": {
     "base_uri": "https://localhost:8080/"
    },
    "id": "Mfi5oF8p7qyU",
    "outputId": "a35ab5af-7988-4a44-f85c-848a93c9b558"
   },
   "outputs": [],
   "source": [
    "cls_report= classification_report(y_true=y_test, y_pred=y_pred,target_names=le1.classes_)\n",
    "print(cls_report)"
   ]
  },
  {
   "cell_type": "markdown",
   "metadata": {
    "id": "B7waKkyC10Eo"
   },
   "source": [
    "### **Real and Predicted Data**"
   ]
  },
  {
   "cell_type": "code",
   "execution_count": null,
   "metadata": {
    "colab": {
     "base_uri": "https://localhost:8080/",
     "height": 419
    },
    "id": "pPPPTAa0HkL4",
    "outputId": "4d488372-75e6-496c-e530-beb81f4a6e76"
   },
   "outputs": [],
   "source": [
    "mlp_bin_df = pd.DataFrame({'Actual': y_test, 'Predicted': y_pred})\n",
    "mlp_bin_df.to_csv('./predictions/mlp_real_pred_bin.csv')\n",
    "mlp_bin_df"
   ]
  },
  {
   "cell_type": "markdown",
   "metadata": {
    "id": "4ukPfXeNuXlt"
   },
   "source": [
    "### **Plot between Real and Predicted Data**"
   ]
  },
  {
   "cell_type": "code",
   "execution_count": null,
   "metadata": {
    "colab": {
     "base_uri": "https://localhost:8080/",
     "height": 390
    },
    "id": "DvES4DMlLltC",
    "outputId": "1d49b896-6d6a-49e5-f762-187dccbdba76"
   },
   "outputs": [],
   "source": [
    "plt.figure(figsize=(20,8))\n",
    "plt.plot(y_pred[100:200], label=\"prediction\", linewidth=2.0,color='blue')\n",
    "plt.plot(y_test[100:200].values, label=\"real_values\", linewidth=2.0,color='lightcoral')\n",
    "plt.legend(loc=\"best\")\n",
    "plt.title(\"MLP Binary Classification\")\n",
    "plt.savefig('plots/mlp_real_pred_bin.png')\n",
    "plt.show()"
   ]
  },
  {
   "cell_type": "markdown",
   "metadata": {
    "id": "WL91l4ZnKBvx"
   },
   "source": [
    "### **Saving Trained Model to Disk**"
   ]
  },
  {
   "cell_type": "code",
   "execution_count": null,
   "metadata": {
    "colab": {
     "base_uri": "https://localhost:8080/"
    },
    "id": "S83LGGk-105t",
    "outputId": "c5442975-fa75-4e40-844f-f8be741a308f"
   },
   "outputs": [],
   "source": [
    "pkl_filename = \"./models/mlp_binary.pkl\"\n",
    "if (not path.isfile(pkl_filename)):\n",
    "  # saving the trained model to disk \n",
    "  with open(pkl_filename, 'wb') as file:\n",
    "    pickle.dump(mlp_bin, file)\n",
    "  print(\"Saved model to disk\")\n",
    "else:\n",
    "  print(\"Model already saved\")"
   ]
  },
  {
   "cell_type": "markdown",
   "metadata": {
    "id": "dAp-zYDca51a"
   },
   "source": [
    "# **MULTI-CLASS CLASSIFICATION**"
   ]
  },
  {
   "cell_type": "markdown",
   "metadata": {
    "id": "iuVmJkcnpu43"
   },
   "source": [
    "## **Data Splitting**"
   ]
  },
  {
   "cell_type": "code",
   "execution_count": null,
   "metadata": {
    "id": "_3N5t_lsxya-"
   },
   "outputs": [],
   "source": [
    "X = multi_data.drop(columns=['label'],axis=1)\n",
    "Y = multi_data['label']"
   ]
  },
  {
   "cell_type": "code",
   "execution_count": null,
   "metadata": {
    "id": "LXynuoh1dKmS"
   },
   "outputs": [],
   "source": [
    "X_train,X_test,y_train,y_test = train_test_split(X,Y,test_size=0.30, random_state=100)"
   ]
  },
  {
   "cell_type": "markdown",
   "metadata": {
    "id": "DtFmIr8ep1Db"
   },
   "source": [
    "## **Linear Regression**"
   ]
  },
  {
   "cell_type": "code",
   "execution_count": null,
   "metadata": {
    "colab": {
     "base_uri": "https://localhost:8080/"
    },
    "id": "AwPkfdsdzSzB",
    "outputId": "1030a74f-1633-4d5a-dbb3-0a2ad4d05caa"
   },
   "outputs": [],
   "source": [
    "lr_multi = LinearRegression(normalize=False)\n",
    "lr_multi.fit(X_train, y_train)"
   ]
  },
  {
   "cell_type": "code",
   "execution_count": null,
   "metadata": {
    "id": "XfBz2VFXyZaI"
   },
   "outputs": [],
   "source": [
    "y_pred = lr_multi.predict(X_test)"
   ]
  },
  {
   "cell_type": "code",
   "execution_count": null,
   "metadata": {
    "id": "gEbOzFR6zfqI"
   },
   "outputs": [],
   "source": [
    "for i in range(len(y_pred)):\n",
    "  y_pred[i] = int(round(y_pred[i]))"
   ]
  },
  {
   "cell_type": "code",
   "execution_count": null,
   "metadata": {
    "colab": {
     "base_uri": "https://localhost:8080/"
    },
    "id": "cgpJ7yY9x4MW",
    "outputId": "e054e020-8680-47c0-88ae-898ce74dff90"
   },
   "outputs": [],
   "source": [
    "print(\"Mean Absolute Error - \" , metrics.mean_absolute_error(y_test, y_pred))\n",
    "print(\"Mean Squared Error - \" , metrics.mean_squared_error(y_test, y_pred))\n",
    "print(\"Root Mean Squared Error - \" , np.sqrt(metrics.mean_squared_error(y_test, y_pred)))\n",
    "print(\"R2 Score - \" , metrics.explained_variance_score(y_test, y_pred)*100)\n",
    "print(\"Accuracy - \",accuracy_score(y_test,y_pred)*100)"
   ]
  },
  {
   "cell_type": "code",
   "execution_count": null,
   "metadata": {
    "colab": {
     "base_uri": "https://localhost:8080/"
    },
    "id": "7vFHElpGx2LC",
    "outputId": "614408f2-82db-4911-c0b6-368d31010666"
   },
   "outputs": [],
   "source": [
    "print(classification_report(y_test, y_pred,target_names=le2.classes_))"
   ]
  },
  {
   "cell_type": "markdown",
   "metadata": {
    "id": "-CGLP9X0yBho"
   },
   "source": [
    "### **Real and Predicted Data**"
   ]
  },
  {
   "cell_type": "code",
   "execution_count": null,
   "metadata": {
    "colab": {
     "base_uri": "https://localhost:8080/",
     "height": 419
    },
    "id": "bxcJUhvuHepQ",
    "outputId": "46c5c131-a844-4bd7-a715-c62c0d4019d2"
   },
   "outputs": [],
   "source": [
    "lr_multi_df = pd.DataFrame({'Actual': y_test, 'Predicted': y_pred})\n",
    "lr_multi_df.to_csv('./predictions/lr_real_pred_multi.csv')\n",
    "lr_multi_df"
   ]
  },
  {
   "cell_type": "markdown",
   "metadata": {
    "id": "vld6ec7Fuain"
   },
   "source": [
    "### **Plot between Real and Predicted Data**"
   ]
  },
  {
   "cell_type": "code",
   "execution_count": null,
   "metadata": {
    "colab": {
     "base_uri": "https://localhost:8080/",
     "height": 499
    },
    "id": "KnviKo7lLrBs",
    "outputId": "45b1bafd-bc45-4d54-e09e-9e55c5e1cae0"
   },
   "outputs": [],
   "source": [
    "plt.figure(figsize=(20,8))\n",
    "plt.plot(y_pred[100:200], label=\"prediction\", linewidth=2.0,color='blue')\n",
    "plt.plot(y_test[100:200].values, label=\"real_values\", linewidth=2.0,color='lightcoral')\n",
    "plt.legend(loc=\"best\")\n",
    "plt.title(\"Linear Regression Multi-class Classification\")\n",
    "plt.savefig('plots/lr_real_pred_multi.png')\n",
    "plt.show()"
   ]
  },
  {
   "cell_type": "markdown",
   "metadata": {
    "id": "2UNaLsIdKEJl"
   },
   "source": [
    "### **Saving Trained Model to Disk**"
   ]
  },
  {
   "cell_type": "code",
   "execution_count": null,
   "metadata": {
    "colab": {
     "base_uri": "https://localhost:8080/"
    },
    "id": "luGhRnhzyCCr",
    "outputId": "7cbc6963-4df9-4d7d-d21e-65b7d3f24eb7"
   },
   "outputs": [],
   "source": [
    "pkl_filename = \"./models/linear_regressor_multi.pkl\"\n",
    "if (not path.isfile(pkl_filename)):\n",
    "  # saving the trained model to disk \n",
    "  with open(pkl_filename, 'wb') as file:\n",
    "    pickle.dump(lr_multi, file)\n",
    "  print(\"Saved model to disk\")\n",
    "else:\n",
    "  print(\"Model already saved\")"
   ]
  },
  {
   "cell_type": "markdown",
   "metadata": {
    "id": "GfgDLk_7p6ZF"
   },
   "source": [
    "## **Logistic Regression**"
   ]
  },
  {
   "cell_type": "code",
   "execution_count": null,
   "metadata": {
    "colab": {
     "base_uri": "https://localhost:8080/"
    },
    "id": "nEp5BPpwzEFM",
    "outputId": "96787f20-5a78-498a-bfad-ec23dd1c2a67"
   },
   "outputs": [],
   "source": [
    "logr_multi = LogisticRegression(random_state=123, max_iter=5000,solver='newton-cg',multi_class='multinomial')\n",
    "logr_multi.fit(X_train,y_train)"
   ]
  },
  {
   "cell_type": "code",
   "execution_count": null,
   "metadata": {
    "id": "zrr8qU3tyUq4"
   },
   "outputs": [],
   "source": [
    "y_pred = logr_multi.predict(X_test)"
   ]
  },
  {
   "cell_type": "code",
   "execution_count": null,
   "metadata": {
    "colab": {
     "base_uri": "https://localhost:8080/"
    },
    "id": "WdSqI3dVxVhV",
    "outputId": "1d93d846-4b5a-4508-c51c-5fa67b75d1bd"
   },
   "outputs": [],
   "source": [
    "print(\"Mean Absolute Error - \" , metrics.mean_absolute_error(y_test, y_pred))\n",
    "print(\"Mean Squared Error - \" , metrics.mean_squared_error(y_test, y_pred))\n",
    "print(\"Root Mean Squared Error - \" , np.sqrt(metrics.mean_squared_error(y_test, y_pred)))\n",
    "print(\"R2 Score - \" , metrics.explained_variance_score(y_test, y_pred)*100)\n",
    "print(\"Accuracy - \",accuracy_score(y_test,y_pred)*100)"
   ]
  },
  {
   "cell_type": "code",
   "execution_count": null,
   "metadata": {
    "colab": {
     "base_uri": "https://localhost:8080/"
    },
    "id": "5TUlDo1NxzX6",
    "outputId": "a3fd68f5-5770-47cf-9a39-37492c00a294"
   },
   "outputs": [],
   "source": [
    "print(classification_report(y_test, y_pred,target_names=le2.classes_))"
   ]
  },
  {
   "cell_type": "markdown",
   "metadata": {
    "id": "4EShlEjMvCNZ"
   },
   "source": [
    "### **Real and Predicted Data**"
   ]
  },
  {
   "cell_type": "code",
   "execution_count": null,
   "metadata": {
    "colab": {
     "base_uri": "https://localhost:8080/",
     "height": 419
    },
    "id": "mvygvtuJHY_e",
    "outputId": "84329db3-213f-4e3a-e15f-5c598f8650c0"
   },
   "outputs": [],
   "source": [
    "logr_multi_df = pd.DataFrame({'Actual': y_test, 'Predicted': y_pred})\n",
    "logr_multi_df.to_csv('./predictions/logr_real_pred_multi.csv')\n",
    "logr_multi_df"
   ]
  },
  {
   "cell_type": "markdown",
   "metadata": {
    "id": "QiFy8q4YugMY"
   },
   "source": [
    "### **Plot between Real and Predicted Data**"
   ]
  },
  {
   "cell_type": "code",
   "execution_count": null,
   "metadata": {
    "colab": {
     "base_uri": "https://localhost:8080/",
     "height": 499
    },
    "id": "fqEgZQJWLyKr",
    "outputId": "1cdcca48-34e6-4ba5-c921-bf4e73d8f577"
   },
   "outputs": [],
   "source": [
    "plt.figure(figsize=(20,8))\n",
    "plt.plot(y_pred[:200], label=\"prediction\", linewidth=2.0,color='blue')\n",
    "plt.plot(y_test[:200].values, label=\"real_values\", linewidth=2.0,color='lightcoral')\n",
    "plt.legend(loc=\"best\")\n",
    "plt.title(\"Logistic Regression Multi-class Classification\")\n",
    "plt.savefig('plots/logr_real_pred_multi.png')\n",
    "plt.show()"
   ]
  },
  {
   "cell_type": "markdown",
   "metadata": {
    "id": "Ur5ZoFg3KFxp"
   },
   "source": [
    "### **Saving Trained Model to Disk**"
   ]
  },
  {
   "cell_type": "code",
   "execution_count": null,
   "metadata": {
    "colab": {
     "base_uri": "https://localhost:8080/"
    },
    "id": "jRzT5jK_2ZhW",
    "outputId": "3d7ce7f0-776b-4abe-9af3-30349ac7882b"
   },
   "outputs": [],
   "source": [
    "pkl_filename = \"./models/logistic_regressor_multi.pkl\"\n",
    "if (not path.isfile(pkl_filename)):\n",
    "  # saving the trained model to disk \n",
    "  with open(pkl_filename, 'wb') as file:\n",
    "    pickle.dump(logr_multi, file)\n",
    "  print(\"Saved model to disk\")\n",
    "else:\n",
    "  print(\"Model already saved\")"
   ]
  },
  {
   "cell_type": "markdown",
   "metadata": {
    "id": "C0xQiXc3qFkl"
   },
   "source": [
    "## **Linear Support Vector Machine**"
   ]
  },
  {
   "cell_type": "code",
   "execution_count": null,
   "metadata": {
    "colab": {
     "base_uri": "https://localhost:8080/"
    },
    "id": "K3MWgwoGdyRN",
    "outputId": "30504463-b015-4f6f-e5c7-5c917350f138"
   },
   "outputs": [],
   "source": [
    "lsvm_multi = SVC(kernel='linear',gamma='auto')\n",
    "lsvm_multi.fit(X_train,y_train) "
   ]
  },
  {
   "cell_type": "code",
   "execution_count": null,
   "metadata": {
    "id": "CtmWb8eDd3ga"
   },
   "outputs": [],
   "source": [
    "y_pred = lsvm_multi.predict(X_test)"
   ]
  },
  {
   "cell_type": "code",
   "execution_count": null,
   "metadata": {
    "colab": {
     "base_uri": "https://localhost:8080/"
    },
    "id": "DJYzkOIlxYiz",
    "outputId": "d821624a-7e9f-4134-c1ef-a8d2a05445bd"
   },
   "outputs": [],
   "source": [
    "print(\"Mean Absolute Error - \" , metrics.mean_absolute_error(y_test, y_pred))\n",
    "print(\"Mean Squared Error - \" , metrics.mean_squared_error(y_test, y_pred))\n",
    "print(\"Root Mean Squared Error - \" , np.sqrt(metrics.mean_squared_error(y_test, y_pred)))\n",
    "print(\"R2 Score - \" , metrics.explained_variance_score(y_test, y_pred)*100)\n",
    "print(\"Accuracy - \",accuracy_score(y_test,y_pred)*100)"
   ]
  },
  {
   "cell_type": "code",
   "execution_count": null,
   "metadata": {
    "colab": {
     "base_uri": "https://localhost:8080/"
    },
    "id": "E9Hdgfb9d95O",
    "outputId": "ff36d63a-e763-442a-9472-72d971624425"
   },
   "outputs": [],
   "source": [
    "print(classification_report(y_test, y_pred,target_names=le2.classes_))"
   ]
  },
  {
   "cell_type": "markdown",
   "metadata": {
    "id": "G2jpXUNmu_sO"
   },
   "source": [
    "### **Real and Predicted Data**"
   ]
  },
  {
   "cell_type": "code",
   "execution_count": null,
   "metadata": {
    "colab": {
     "base_uri": "https://localhost:8080/",
     "height": 419
    },
    "id": "JVoGF_20G4Jk",
    "outputId": "96ff4a20-0bf9-4968-8779-8e8eb81a944f"
   },
   "outputs": [],
   "source": [
    "lsvm_multi_df = pd.DataFrame({'Actual': y_test, 'Predicted': y_pred})\n",
    "lsvm_multi_df.to_csv('./predictions/lsvm_real_pred_multi.csv')\n",
    "lsvm_multi_df"
   ]
  },
  {
   "cell_type": "markdown",
   "metadata": {
    "id": "J_Cw8bZzujJB"
   },
   "source": [
    "### **Plot between Real and Predicted Data**"
   ]
  },
  {
   "cell_type": "code",
   "execution_count": null,
   "metadata": {
    "colab": {
     "base_uri": "https://localhost:8080/",
     "height": 499
    },
    "id": "pZjnu6RSL25T",
    "outputId": "bd4dcdca-b0a8-4bcc-ccbd-589b082133ad"
   },
   "outputs": [],
   "source": [
    "plt.figure(figsize=(20,8))\n",
    "plt.plot(y_pred[:200], label=\"prediction\", linewidth=2.0,color='blue')\n",
    "plt.plot(y_test[:200].values, label=\"real_values\", linewidth=2.0,color='lightcoral')\n",
    "plt.legend(loc=\"best\")\n",
    "plt.title(\"Linear SVM Multi-class Classification\")\n",
    "plt.savefig('plots/lsvm_real_pred_multi.png')\n",
    "plt.show()"
   ]
  },
  {
   "cell_type": "markdown",
   "metadata": {},
   "source": [
    "## Adversarial "
   ]
  },
  {
   "cell_type": "code",
   "execution_count": 120,
   "metadata": {},
   "outputs": [
    {
     "data": {
      "text/plain": [
       "array([[0.125     , 0.99553571, 0.02473958, 0.        , 0.52941176,\n",
       "        0.33333333, 0.32      , 0.32      , 0.53333333, 0.52941176,\n",
       "        0.27118644, 0.52941176, 0.        , 1.        ]])"
      ]
     },
     "execution_count": 120,
     "metadata": {},
     "output_type": "execute_result"
    }
   ],
   "source": [
    "normal_sample = X_test.values[:1]\n",
    "normal_sample"
   ]
  },
  {
   "cell_type": "code",
   "execution_count": 121,
   "metadata": {},
   "outputs": [
    {
     "data": {
      "text/plain": [
       "array([0])"
      ]
     },
     "execution_count": 121,
     "metadata": {},
     "output_type": "execute_result"
    }
   ],
   "source": [
    "normal_label = y_test.values[:1]\n",
    "normal_label"
   ]
  },
  {
   "cell_type": "code",
   "execution_count": 122,
   "metadata": {},
   "outputs": [
    {
     "ename": "ValueError",
     "evalue": "Classifier is not a CClassifier!",
     "output_type": "error",
     "traceback": [
      "\u001b[0;31m---------------------------------------------------------------------------\u001b[0m",
      "\u001b[0;31mValueError\u001b[0m                                Traceback (most recent call last)",
      "Input \u001b[0;32mIn [122]\u001b[0m, in \u001b[0;36m<cell line: 15>\u001b[0;34m()\u001b[0m\n\u001b[1;32m      5\u001b[0m y_target \u001b[38;5;241m=\u001b[39m \u001b[38;5;28;01mNone\u001b[39;00m  \u001b[38;5;66;03m# None if `error-generic` or a class label for `error-specific`\u001b[39;00m\n\u001b[1;32m      7\u001b[0m solver_params \u001b[38;5;241m=\u001b[39m {\n\u001b[1;32m      8\u001b[0m     \u001b[38;5;124m'\u001b[39m\u001b[38;5;124meta\u001b[39m\u001b[38;5;124m'\u001b[39m: \u001b[38;5;241m0.3\u001b[39m,\n\u001b[1;32m      9\u001b[0m     \u001b[38;5;124m'\u001b[39m\u001b[38;5;124meta_min\u001b[39m\u001b[38;5;124m'\u001b[39m: \u001b[38;5;241m0.1\u001b[39m,\n\u001b[0;32m   (...)\u001b[0m\n\u001b[1;32m     12\u001b[0m     \u001b[38;5;124m'\u001b[39m\u001b[38;5;124meps\u001b[39m\u001b[38;5;124m'\u001b[39m: \u001b[38;5;241m1e-4\u001b[39m\n\u001b[1;32m     13\u001b[0m }\n\u001b[0;32m---> 15\u001b[0m pgd_ls_attack \u001b[38;5;241m=\u001b[39m \u001b[43mCAttackEvasionPGDLS\u001b[49m\u001b[43m(\u001b[49m\n\u001b[1;32m     16\u001b[0m \u001b[43m    \u001b[49m\u001b[43mclassifier\u001b[49m\u001b[38;5;241;43m=\u001b[39;49m\u001b[43mlsvm_bin\u001b[49m\u001b[43m,\u001b[49m\n\u001b[1;32m     17\u001b[0m \u001b[43m    \u001b[49m\u001b[43mdouble_init_ds\u001b[49m\u001b[38;5;241;43m=\u001b[39;49m\u001b[43mX_train\u001b[49m\u001b[43m,\u001b[49m\n\u001b[1;32m     18\u001b[0m \u001b[43m    \u001b[49m\u001b[43mdouble_init\u001b[49m\u001b[38;5;241;43m=\u001b[39;49m\u001b[38;5;28;43;01mFalse\u001b[39;49;00m\u001b[43m,\u001b[49m\n\u001b[1;32m     19\u001b[0m \u001b[43m    \u001b[49m\u001b[43mdistance\u001b[49m\u001b[38;5;241;43m=\u001b[39;49m\u001b[43mnoise_type\u001b[49m\u001b[43m,\u001b[49m\n\u001b[1;32m     20\u001b[0m \u001b[43m    \u001b[49m\u001b[43mdmax\u001b[49m\u001b[38;5;241;43m=\u001b[39;49m\u001b[43mdmax\u001b[49m\u001b[43m,\u001b[49m\n\u001b[1;32m     21\u001b[0m \u001b[43m    \u001b[49m\u001b[43mlb\u001b[49m\u001b[38;5;241;43m=\u001b[39;49m\u001b[43mlb\u001b[49m\u001b[43m,\u001b[49m\u001b[43m \u001b[49m\u001b[43mub\u001b[49m\u001b[38;5;241;43m=\u001b[39;49m\u001b[43mub\u001b[49m\u001b[43m,\u001b[49m\n\u001b[1;32m     22\u001b[0m \u001b[43m    \u001b[49m\u001b[43msolver_params\u001b[49m\u001b[38;5;241;43m=\u001b[39;49m\u001b[43msolver_params\u001b[49m\u001b[43m,\u001b[49m\n\u001b[1;32m     23\u001b[0m \u001b[43m    \u001b[49m\u001b[43my_target\u001b[49m\u001b[38;5;241;43m=\u001b[39;49m\u001b[43my_target\u001b[49m\u001b[43m)\u001b[49m\n",
      "File \u001b[0;32m~/opt/miniconda3/envs/adversarial/lib/python3.10/site-packages/secml/adv/attacks/evasion/c_attack_evasion_pgd_ls.py:108\u001b[0m, in \u001b[0;36mCAttackEvasionPGDLS.__init__\u001b[0;34m(self, classifier, double_init_ds, double_init, distance, dmax, lb, ub, y_target, attack_classes, solver_params)\u001b[0m\n\u001b[1;32m    105\u001b[0m \u001b[38;5;28mself\u001b[39m\u001b[38;5;241m.\u001b[39m_double_init_labels \u001b[38;5;241m=\u001b[39m \u001b[38;5;28;01mNone\u001b[39;00m\n\u001b[1;32m    106\u001b[0m \u001b[38;5;28mself\u001b[39m\u001b[38;5;241m.\u001b[39m_double_init_scores \u001b[38;5;241m=\u001b[39m \u001b[38;5;28;01mNone\u001b[39;00m\n\u001b[0;32m--> 108\u001b[0m \u001b[43mCAttackEvasion\u001b[49m\u001b[38;5;241;43m.\u001b[39;49m\u001b[38;5;21;43m__init__\u001b[39;49m\u001b[43m(\u001b[49m\u001b[38;5;28;43mself\u001b[39;49m\u001b[43m,\u001b[49m\n\u001b[1;32m    109\u001b[0m \u001b[43m                        \u001b[49m\u001b[43mclassifier\u001b[49m\u001b[38;5;241;43m=\u001b[39;49m\u001b[43mclassifier\u001b[49m\u001b[43m,\u001b[49m\n\u001b[1;32m    110\u001b[0m \u001b[43m                        \u001b[49m\u001b[43my_target\u001b[49m\u001b[38;5;241;43m=\u001b[39;49m\u001b[43my_target\u001b[49m\u001b[43m,\u001b[49m\n\u001b[1;32m    111\u001b[0m \u001b[43m                        \u001b[49m\u001b[43mattack_classes\u001b[49m\u001b[38;5;241;43m=\u001b[39;49m\u001b[43mattack_classes\u001b[49m\u001b[43m)\u001b[49m\n\u001b[1;32m    113\u001b[0m CAttackMixin\u001b[38;5;241m.\u001b[39m\u001b[38;5;21m__init__\u001b[39m(\u001b[38;5;28mself\u001b[39m,\n\u001b[1;32m    114\u001b[0m                       classifier\u001b[38;5;241m=\u001b[39mclassifier,\n\u001b[1;32m    115\u001b[0m                       distance\u001b[38;5;241m=\u001b[39mdistance,\n\u001b[0;32m   (...)\u001b[0m\n\u001b[1;32m    119\u001b[0m                       solver_type\u001b[38;5;241m=\u001b[39m\u001b[38;5;124m'\u001b[39m\u001b[38;5;124mpgd-ls\u001b[39m\u001b[38;5;124m'\u001b[39m,\n\u001b[1;32m    120\u001b[0m                       solver_params\u001b[38;5;241m=\u001b[39msolver_params)\n",
      "File \u001b[0;32m~/opt/miniconda3/envs/adversarial/lib/python3.10/site-packages/secml/adv/attacks/evasion/c_attack_evasion.py:41\u001b[0m, in \u001b[0;36mCAttackEvasion.__init__\u001b[0;34m(self, classifier, y_target, attack_classes)\u001b[0m\n\u001b[1;32m     37\u001b[0m \u001b[38;5;28;01mdef\u001b[39;00m \u001b[38;5;21m__init__\u001b[39m(\u001b[38;5;28mself\u001b[39m, classifier,\n\u001b[1;32m     38\u001b[0m              y_target\u001b[38;5;241m=\u001b[39m\u001b[38;5;28;01mNone\u001b[39;00m,\n\u001b[1;32m     39\u001b[0m              attack_classes\u001b[38;5;241m=\u001b[39m\u001b[38;5;124m'\u001b[39m\u001b[38;5;124mall\u001b[39m\u001b[38;5;124m'\u001b[39m):\n\u001b[0;32m---> 41\u001b[0m     \u001b[38;5;28;43msuper\u001b[39;49m\u001b[43m(\u001b[49m\u001b[43mCAttackEvasion\u001b[49m\u001b[43m,\u001b[49m\u001b[43m \u001b[49m\u001b[38;5;28;43mself\u001b[39;49m\u001b[43m)\u001b[49m\u001b[38;5;241;43m.\u001b[39;49m\u001b[38;5;21;43m__init__\u001b[39;49m\u001b[43m(\u001b[49m\u001b[43mclassifier\u001b[49m\u001b[43m)\u001b[49m\n\u001b[1;32m     43\u001b[0m     \u001b[38;5;66;03m# classes that can be manipulated by the attacker\u001b[39;00m\n\u001b[1;32m     44\u001b[0m     \u001b[38;5;28mself\u001b[39m\u001b[38;5;241m.\u001b[39mattack_classes \u001b[38;5;241m=\u001b[39m attack_classes\n",
      "File \u001b[0;32m~/opt/miniconda3/envs/adversarial/lib/python3.10/site-packages/secml/adv/attacks/c_attack_mixin.py:49\u001b[0m, in \u001b[0;36mCAttackMixin.__init__\u001b[0;34m(self, classifier, distance, dmax, lb, ub, solver_type, solver_params)\u001b[0m\n\u001b[1;32m     41\u001b[0m \u001b[38;5;28;01mdef\u001b[39;00m \u001b[38;5;21m__init__\u001b[39m(\u001b[38;5;28mself\u001b[39m, classifier,\n\u001b[1;32m     42\u001b[0m              distance\u001b[38;5;241m=\u001b[39m\u001b[38;5;28;01mNone\u001b[39;00m,\n\u001b[1;32m     43\u001b[0m              dmax\u001b[38;5;241m=\u001b[39m\u001b[38;5;28;01mNone\u001b[39;00m,\n\u001b[0;32m   (...)\u001b[0m\n\u001b[1;32m     46\u001b[0m              solver_type\u001b[38;5;241m=\u001b[39m\u001b[38;5;28;01mNone\u001b[39;00m,\n\u001b[1;32m     47\u001b[0m              solver_params\u001b[38;5;241m=\u001b[39m\u001b[38;5;28;01mNone\u001b[39;00m):\n\u001b[0;32m---> 49\u001b[0m     \u001b[38;5;28;43msuper\u001b[39;49m\u001b[43m(\u001b[49m\u001b[43mCAttackMixin\u001b[49m\u001b[43m,\u001b[49m\u001b[43m \u001b[49m\u001b[38;5;28;43mself\u001b[39;49m\u001b[43m)\u001b[49m\u001b[38;5;241;43m.\u001b[39;49m\u001b[38;5;21;43m__init__\u001b[39;49m\u001b[43m(\u001b[49m\u001b[43mclassifier\u001b[49m\u001b[43m)\u001b[49m\n\u001b[1;32m     51\u001b[0m     \u001b[38;5;66;03m# INTERNAL\u001b[39;00m\n\u001b[1;32m     52\u001b[0m     \u001b[38;5;66;03m# init attributes to None (re-defined through setters below)\u001b[39;00m\n\u001b[1;32m     53\u001b[0m     \u001b[38;5;28mself\u001b[39m\u001b[38;5;241m.\u001b[39m_solver \u001b[38;5;241m=\u001b[39m \u001b[38;5;28;01mNone\u001b[39;00m\n",
      "File \u001b[0;32m~/opt/miniconda3/envs/adversarial/lib/python3.10/site-packages/secml/adv/attacks/c_attack.py:31\u001b[0m, in \u001b[0;36mCAttack.__init__\u001b[0;34m(self, classifier)\u001b[0m\n\u001b[1;32m     28\u001b[0m \u001b[38;5;28;01mdef\u001b[39;00m \u001b[38;5;21m__init__\u001b[39m(\u001b[38;5;28mself\u001b[39m, classifier):\n\u001b[1;32m     29\u001b[0m     \u001b[38;5;66;03m# set the classifier to be attacked\u001b[39;00m\n\u001b[1;32m     30\u001b[0m     \u001b[38;5;28;01mif\u001b[39;00m \u001b[38;5;129;01mnot\u001b[39;00m \u001b[38;5;28misinstance\u001b[39m(classifier, CClassifier):\n\u001b[0;32m---> 31\u001b[0m         \u001b[38;5;28;01mraise\u001b[39;00m \u001b[38;5;167;01mValueError\u001b[39;00m(\u001b[38;5;124m\"\u001b[39m\u001b[38;5;124mClassifier is not a CClassifier!\u001b[39m\u001b[38;5;124m\"\u001b[39m)\n\u001b[1;32m     32\u001b[0m     \u001b[38;5;28mself\u001b[39m\u001b[38;5;241m.\u001b[39m_classifier \u001b[38;5;241m=\u001b[39m classifier\n\u001b[1;32m     34\u001b[0m     \u001b[38;5;66;03m# These are internal parameters populated by _run,\u001b[39;00m\n\u001b[1;32m     35\u001b[0m     \u001b[38;5;66;03m# for the *last* attack point:\u001b[39;00m\n",
      "\u001b[0;31mValueError\u001b[0m: Classifier is not a CClassifier!"
     ]
    }
   ],
   "source": [
    "from secml.adv.attacks.evasion import CAttackEvasionPGDLS\n",
    "noise_type = 'l2'  # Type of perturbation 'l1' or 'l2'\n",
    "dmax = 0.4  # Maximum perturbation\n",
    "lb, ub = 0, 1  # Bounds of the attack space. Can be set to `None` for unbounded\n",
    "y_target = None  # None if `error-generic` or a class label for `error-specific`\n",
    "\n",
    "solver_params = {\n",
    "    'eta': 0.3,\n",
    "    'eta_min': 0.1,\n",
    "    'eta_max': None,\n",
    "    'max_iter': 100,\n",
    "    'eps': 1e-4\n",
    "}\n",
    "\n",
    "pgd_ls_attack = CAttackEvasionPGDLS(\n",
    "    classifier=lsvm_bin,\n",
    "    double_init_ds=X_train,\n",
    "    double_init=False,\n",
    "    distance=noise_type,\n",
    "    dmax=dmax,\n",
    "    lb=lb, ub=ub,\n",
    "    solver_params=solver_params,\n",
    "    y_target=y_target)"
   ]
  },
  {
   "cell_type": "markdown",
   "metadata": {
    "id": "nHEfY6S9KHy_"
   },
   "source": [
    "### **Saving Trained Model to Disk**"
   ]
  },
  {
   "cell_type": "code",
   "execution_count": null,
   "metadata": {
    "colab": {
     "base_uri": "https://localhost:8080/"
    },
    "id": "pCjiLEtS2DmP",
    "outputId": "d51690c6-3639-46c3-a361-63129efa4a61"
   },
   "outputs": [],
   "source": [
    "pkl_filename = \"./models/lsvm_multi.pkl\"\n",
    "if (not path.isfile(pkl_filename)):\n",
    "  # saving the trained model to disk \n",
    "  with open(pkl_filename, 'wb') as file:\n",
    "    pickle.dump(lsvm_multi, file)\n",
    "  print(\"Saved model to disk\")\n",
    "else:\n",
    "  print(\"Model already saved\")"
   ]
  },
  {
   "cell_type": "markdown",
   "metadata": {
    "id": "HZd2IvfWqLnb"
   },
   "source": [
    "## **K Nearest Neighbor Classifier**"
   ]
  },
  {
   "cell_type": "code",
   "execution_count": null,
   "metadata": {
    "colab": {
     "base_uri": "https://localhost:8080/"
    },
    "id": "gAvyfUFTy5Jn",
    "outputId": "3dc69f7b-f0c1-4d97-cd33-70931d747ace"
   },
   "outputs": [],
   "source": [
    "knn_multi = KNeighborsClassifier(n_neighbors=5)\n",
    "knn_multi.fit(X_train,y_train)"
   ]
  },
  {
   "cell_type": "code",
   "execution_count": null,
   "metadata": {
    "id": "dpxbIhGwyK1A"
   },
   "outputs": [],
   "source": [
    "y_pred = knn_multi.predict(X_test)"
   ]
  },
  {
   "cell_type": "code",
   "execution_count": null,
   "metadata": {
    "colab": {
     "base_uri": "https://localhost:8080/"
    },
    "id": "9yZAESMuxiZ1",
    "outputId": "de2cf4b7-06b5-40b0-8ba6-d36c68ede2f6"
   },
   "outputs": [],
   "source": [
    "print(\"Mean Absolute Error - \" , metrics.mean_absolute_error(y_test, y_pred))\n",
    "print(\"Mean Squared Error - \" , metrics.mean_squared_error(y_test, y_pred))\n",
    "print(\"Root Mean Squared Error - \" , np.sqrt(metrics.mean_squared_error(y_test, y_pred)))\n",
    "print(\"R2 Score - \" , metrics.explained_variance_score(y_test, y_pred)*100)\n",
    "print(\"Accuracy - \",accuracy_score(y_test,y_pred)*100)"
   ]
  },
  {
   "cell_type": "code",
   "execution_count": null,
   "metadata": {
    "colab": {
     "base_uri": "https://localhost:8080/"
    },
    "id": "kpGGE8XnxoBq",
    "outputId": "51f28412-e33e-401f-eb3b-db2d23febc5e"
   },
   "outputs": [],
   "source": [
    "print(classification_report(y_test, y_pred,target_names=le2.classes_))"
   ]
  },
  {
   "cell_type": "markdown",
   "metadata": {
    "id": "5OwZXTjfu92_"
   },
   "source": [
    "### **Real and Predicted Data**"
   ]
  },
  {
   "cell_type": "code",
   "execution_count": null,
   "metadata": {
    "colab": {
     "base_uri": "https://localhost:8080/",
     "height": 419
    },
    "id": "iXoBN9ORGyqY",
    "outputId": "91c355a9-d190-4112-d53b-7762a2ded564"
   },
   "outputs": [],
   "source": [
    "knn_multi_df = pd.DataFrame({'Actual': y_test, 'Predicted': y_pred})\n",
    "knn_multi_df.to_csv('./predictions/knn_real_pred_multi.csv')\n",
    "knn_multi_df"
   ]
  },
  {
   "cell_type": "markdown",
   "metadata": {
    "id": "EoUIZKubulVq"
   },
   "source": [
    "### **Plot between Real and Predicted Data**"
   ]
  },
  {
   "cell_type": "code",
   "execution_count": null,
   "metadata": {
    "colab": {
     "base_uri": "https://localhost:8080/",
     "height": 499
    },
    "id": "bxqdhZhPL8R0",
    "outputId": "ec2f3ac0-32f6-4611-f64c-080515bbfff3"
   },
   "outputs": [],
   "source": [
    "plt.figure(figsize=(20,8))\n",
    "plt.plot(y_pred[400:500], label=\"prediction\", linewidth=2.0,color='blue')\n",
    "plt.plot(y_test[400:500].values, label=\"real_values\", linewidth=2.0,color='lightcoral')\n",
    "plt.legend(loc=\"best\")\n",
    "plt.title(\"KNN Multi-class Classification\")\n",
    "plt.savefig('plots/knn_real_pred_multi.png')\n",
    "plt.show()"
   ]
  },
  {
   "cell_type": "markdown",
   "metadata": {
    "id": "7l5J3bWOKJmK"
   },
   "source": [
    "### **Saving Trained Model to Disk**"
   ]
  },
  {
   "cell_type": "code",
   "execution_count": null,
   "metadata": {
    "colab": {
     "base_uri": "https://localhost:8080/"
    },
    "id": "LdclCgpT2C61",
    "outputId": "82007d77-1517-4caf-b892-d4e57ef949bc"
   },
   "outputs": [],
   "source": [
    "pkl_filename = \"./models/knn_multi.pkl\"\n",
    "if (not path.isfile(pkl_filename)):\n",
    "  # saving the trained model to disk \n",
    "  with open(pkl_filename, 'wb') as file:\n",
    "    pickle.dump(knn_multi, file)\n",
    "  print(\"Saved model to disk\")\n",
    "else:\n",
    "  print(\"Model already saved\")"
   ]
  },
  {
   "cell_type": "markdown",
   "metadata": {
    "id": "nCRqVZmEqRbo"
   },
   "source": [
    "## **Random Forest Classifier**"
   ]
  },
  {
   "cell_type": "code",
   "execution_count": null,
   "metadata": {
    "colab": {
     "base_uri": "https://localhost:8080/"
    },
    "id": "3nUrWWVYhM4Y",
    "outputId": "9d143c25-5a7b-4a43-c97e-4e9e1bae6d97"
   },
   "outputs": [],
   "source": [
    "rf_multi = RandomForestClassifier(random_state=50)\n",
    "rf_multi.fit(X_train,y_train)"
   ]
  },
  {
   "cell_type": "code",
   "execution_count": null,
   "metadata": {
    "id": "4jK8RijnyIZt"
   },
   "outputs": [],
   "source": [
    "y_pred = rf_multi.predict(X_test)"
   ]
  },
  {
   "cell_type": "code",
   "execution_count": null,
   "metadata": {
    "colab": {
     "base_uri": "https://localhost:8080/"
    },
    "id": "akyWnEeTxg-I",
    "outputId": "e71b959d-c80e-4af4-cd6d-d7ac5e529f9a"
   },
   "outputs": [],
   "source": [
    "print(\"Mean Absolute Error - \" , metrics.mean_absolute_error(y_test, y_pred))\n",
    "print(\"Mean Squared Error - \" , metrics.mean_squared_error(y_test, y_pred))\n",
    "print(\"Root Mean Squared Error - \" , np.sqrt(metrics.mean_squared_error(y_test, y_pred)))\n",
    "print(\"R2 Score - \" , metrics.explained_variance_score(y_test, y_pred)*100)\n",
    "print(\"Accuracy - \",accuracy_score(y_test,y_pred)*100)"
   ]
  },
  {
   "cell_type": "code",
   "execution_count": null,
   "metadata": {
    "colab": {
     "base_uri": "https://localhost:8080/"
    },
    "id": "_PLoTH89xuek",
    "outputId": "7317845b-ba3d-44ec-f6e4-a6dcb3dbab63"
   },
   "outputs": [],
   "source": [
    "print(classification_report(y_test, y_pred,target_names=le2.classes_))"
   ]
  },
  {
   "cell_type": "markdown",
   "metadata": {
    "id": "q_ZBIfbbu8Hp"
   },
   "source": [
    "### **Real and Predicted Data**"
   ]
  },
  {
   "cell_type": "code",
   "execution_count": null,
   "metadata": {
    "colab": {
     "base_uri": "https://localhost:8080/",
     "height": 419
    },
    "id": "zY9mEmb4FYD-",
    "outputId": "c6d98a47-5114-4eb4-c167-bff6a5bbe68a"
   },
   "outputs": [],
   "source": [
    "rf_multi_df = pd.DataFrame({'Actual': y_test, 'Predicted': y_pred})\n",
    "rf_multi_df.to_csv('./predictions/rf_real_pred_multi.csv')\n",
    "rf_multi_df"
   ]
  },
  {
   "cell_type": "markdown",
   "metadata": {
    "id": "asoZbeRMunLx"
   },
   "source": [
    "### **Plot between Real and Predicted Data**"
   ]
  },
  {
   "cell_type": "code",
   "execution_count": null,
   "metadata": {
    "colab": {
     "base_uri": "https://localhost:8080/",
     "height": 394
    },
    "id": "pvO18MjFL_2K",
    "outputId": "8dda3300-bec5-47f5-80b4-050897a5213d"
   },
   "outputs": [],
   "source": [
    "plt.figure(figsize=(20,8))\n",
    "plt.plot(y_pred[500:600], label=\"prediction\", linewidth=2.0,color='blue')\n",
    "plt.plot(y_test[500:600].values, label=\"real_values\", linewidth=2.0,color='lightcoral')\n",
    "plt.legend(loc=\"best\")\n",
    "plt.title(\"Random Forest Multi-class Classification\")\n",
    "plt.savefig('plots/rf_real_pred_multi.png')\n",
    "plt.show()"
   ]
  },
  {
   "cell_type": "markdown",
   "metadata": {
    "id": "WEHGm4VrKLAh"
   },
   "source": [
    "### **Saving Trained Model to Disk**"
   ]
  },
  {
   "cell_type": "code",
   "execution_count": null,
   "metadata": {
    "colab": {
     "base_uri": "https://localhost:8080/"
    },
    "id": "XhxnGQ5T1-OY",
    "outputId": "4ebe735b-470f-4a7a-b993-2c9b859db476"
   },
   "outputs": [],
   "source": [
    "pkl_filename = \"./models/random_forest_multi.pkl\"\n",
    "if (not path.isfile(pkl_filename)):\n",
    "  # saving the trained model to disk \n",
    "  with open(pkl_filename, 'wb') as file:\n",
    "    pickle.dump(rf_multi, file)\n",
    "  print(\"Saved model to disk\")\n",
    "else:\n",
    "  print(\"Model already saved\")"
   ]
  },
  {
   "cell_type": "markdown",
   "metadata": {
    "id": "yMmaAa_KqVzL"
   },
   "source": [
    "## **Decision Tree Classifier**"
   ]
  },
  {
   "cell_type": "code",
   "execution_count": null,
   "metadata": {
    "colab": {
     "base_uri": "https://localhost:8080/"
    },
    "id": "hChMQrERygE-",
    "outputId": "299d425e-703b-42cc-963c-85a82f72b2d3"
   },
   "outputs": [],
   "source": [
    "dt_multi = DecisionTreeClassifier(random_state=123)\n",
    "dt_multi.fit(X_train,y_train)"
   ]
  },
  {
   "cell_type": "code",
   "execution_count": null,
   "metadata": {
    "id": "K-HJ8iK-yCND"
   },
   "outputs": [],
   "source": [
    "y_pred = dt_multi.predict(X_test)"
   ]
  },
  {
   "cell_type": "code",
   "execution_count": null,
   "metadata": {
    "colab": {
     "base_uri": "https://localhost:8080/"
    },
    "id": "fJiMptmtxfRq",
    "outputId": "2dd0965a-c37f-4fd6-f855-0fda42a0b678"
   },
   "outputs": [],
   "source": [
    "print(\"Mean Absolute Error - \" , metrics.mean_absolute_error(y_test, y_pred))\n",
    "print(\"Mean Squared Error - \" , metrics.mean_squared_error(y_test, y_pred))\n",
    "print(\"Root Mean Squared Error - \" , np.sqrt(metrics.mean_squared_error(y_test, y_pred)))\n",
    "print(\"R2 Score - \" , metrics.explained_variance_score(y_test, y_pred)*100)\n",
    "print(\"Accuracy - \",accuracy_score(y_test,y_pred)*100)"
   ]
  },
  {
   "cell_type": "code",
   "execution_count": null,
   "metadata": {
    "colab": {
     "base_uri": "https://localhost:8080/"
    },
    "id": "86j8imrBxsnW",
    "outputId": "058b8b49-d749-4f80-fa0f-d1637b3c92d5"
   },
   "outputs": [],
   "source": [
    "print(classification_report(y_test, y_pred,target_names=le2.classes_))"
   ]
  },
  {
   "cell_type": "markdown",
   "metadata": {
    "id": "ceuBcpjru5lP"
   },
   "source": [
    "### **Real and Predicted Data**"
   ]
  },
  {
   "cell_type": "code",
   "execution_count": null,
   "metadata": {
    "colab": {
     "base_uri": "https://localhost:8080/",
     "height": 419
    },
    "id": "us4ho23ZFM42",
    "outputId": "b4c1d6d9-04c3-4227-b7c1-3978792d684a"
   },
   "outputs": [],
   "source": [
    "dt_multi_df = pd.DataFrame({'Actual': y_test, 'Predicted': y_pred})\n",
    "dt_multi_df.to_csv('./predictions/dt_real_pred_multi.csv')\n",
    "dt_multi_df"
   ]
  },
  {
   "cell_type": "markdown",
   "metadata": {
    "id": "LHNdDjC0uor-"
   },
   "source": [
    "### **Plot between Real and Predicted Data**"
   ]
  },
  {
   "cell_type": "code",
   "execution_count": null,
   "metadata": {
    "colab": {
     "base_uri": "https://localhost:8080/",
     "height": 499
    },
    "id": "WlQVjABRMNlB",
    "outputId": "e0f73ec3-3c2d-4507-fdad-989252b37d8c"
   },
   "outputs": [],
   "source": [
    "plt.figure(figsize=(20,8))\n",
    "plt.plot(y_pred[400:700], label=\"prediction\", linewidth=2.0,color='blue')\n",
    "plt.plot(y_test[400:700].values, label=\"real_values\", linewidth=2.0,color='lightcoral')\n",
    "plt.legend(loc=\"best\")\n",
    "plt.title(\"Decision Tree Multi-class Classification\")\n",
    "plt.savefig('plots/dt_real_pred_multi.png')\n",
    "plt.show()"
   ]
  },
  {
   "cell_type": "markdown",
   "metadata": {
    "id": "bvtTsNrRKMXZ"
   },
   "source": [
    "### **Saving Trained Model to Disk**"
   ]
  },
  {
   "cell_type": "code",
   "execution_count": null,
   "metadata": {
    "colab": {
     "base_uri": "https://localhost:8080/"
    },
    "id": "q7EczbUF19bS",
    "outputId": "0f63d496-21f9-4dcd-fa4b-b85cd90350f6"
   },
   "outputs": [],
   "source": [
    "pkl_filename = \"./models/decision_tree_multi.pkl\"\n",
    "if (not path.isfile(pkl_filename)):\n",
    "  # saving the trained model to disk \n",
    "  with open(pkl_filename, 'wb') as file:\n",
    "    pickle.dump(dt_multi, file)\n",
    "  print(\"Saved model to disk\")\n",
    "else:\n",
    "  print(\"Model already saved\")"
   ]
  },
  {
   "cell_type": "markdown",
   "metadata": {
    "id": "amETgFohDwmM"
   },
   "source": [
    "## **Multi Layer Perceptron**"
   ]
  },
  {
   "cell_type": "code",
   "execution_count": null,
   "metadata": {
    "colab": {
     "base_uri": "https://localhost:8080/"
    },
    "id": "RFXDdM37ypX9",
    "outputId": "d30c50bc-7757-40e8-fe7e-2cc15e6d808f"
   },
   "outputs": [],
   "source": [
    "mlp_multi = MLPClassifier(random_state=123, solver='adam', max_iter=8000)\n",
    "mlp_multi.fit(X_train,y_train)"
   ]
  },
  {
   "cell_type": "code",
   "execution_count": null,
   "metadata": {
    "id": "T4bcnbjLx_oe"
   },
   "outputs": [],
   "source": [
    "y_pred = mlp_multi.predict(X_test)"
   ]
  },
  {
   "cell_type": "code",
   "execution_count": null,
   "metadata": {
    "colab": {
     "base_uri": "https://localhost:8080/"
    },
    "id": "NbFUJ7FQxdex",
    "outputId": "b57c9fc2-c8fc-440a-b1d0-e74187ae783b"
   },
   "outputs": [],
   "source": [
    "print(\"Mean Absolute Error - \" , metrics.mean_absolute_error(y_test, y_pred))\n",
    "print(\"Mean Squared Error - \" , metrics.mean_squared_error(y_test, y_pred))\n",
    "print(\"Root Mean Squared Error - \" , np.sqrt(metrics.mean_squared_error(y_test, y_pred)))\n",
    "print(\"R2 Score - \" , metrics.explained_variance_score(y_test, y_pred)*100)\n",
    "print(\"Accuracy - \",accuracy_score(y_test,y_pred)*100)"
   ]
  },
  {
   "cell_type": "code",
   "execution_count": null,
   "metadata": {
    "colab": {
     "base_uri": "https://localhost:8080/"
    },
    "id": "RPqT-o3Yxq6b",
    "outputId": "b16d8a50-f2d4-4513-9fea-667d1998132b"
   },
   "outputs": [],
   "source": [
    "print(classification_report(y_test, y_pred,target_names=le2.classes_))"
   ]
  },
  {
   "cell_type": "markdown",
   "metadata": {
    "id": "j4HicS6Buvad"
   },
   "source": [
    "### **Real and Predicted Data**"
   ]
  },
  {
   "cell_type": "code",
   "execution_count": null,
   "metadata": {
    "colab": {
     "base_uri": "https://localhost:8080/",
     "height": 419
    },
    "id": "1T2K5uR4E-ck",
    "outputId": "3db7fd22-11e6-4891-86d4-d0598eb5ab26"
   },
   "outputs": [],
   "source": [
    "mlp_multi_df = pd.DataFrame({'Actual': y_test, 'Predicted': y_pred})\n",
    "mlp_multi_df.to_csv('./predictions/mlp_real_pred_multi.csv')\n",
    "mlp_multi_df"
   ]
  },
  {
   "cell_type": "markdown",
   "metadata": {
    "id": "Cu3nmXN8urhm"
   },
   "source": [
    "### **Plot between Real and Predicted Data**"
   ]
  },
  {
   "cell_type": "code",
   "execution_count": null,
   "metadata": {
    "colab": {
     "base_uri": "https://localhost:8080/",
     "height": 499
    },
    "id": "imR3859hMUUL",
    "outputId": "28666123-b461-4e42-bf0e-95a06ee47cf0"
   },
   "outputs": [],
   "source": [
    "plt.figure(figsize=(20,8))\n",
    "plt.plot(y_pred[100:300], label=\"prediction\", linewidth=2.0,color='blue')\n",
    "plt.plot(y_test[100:300].values, label=\"real_values\", linewidth=2.0,color='lightcoral')\n",
    "plt.legend(loc=\"best\")\n",
    "plt.title(\"MLP Multi-class Classification\")\n",
    "plt.savefig('plots/mlp_real_pred_multi.png')\n",
    "plt.show()"
   ]
  },
  {
   "cell_type": "markdown",
   "metadata": {
    "id": "lw6FcY0bKNdR"
   },
   "source": [
    "### **Saving Trained Model to Disk**"
   ]
  },
  {
   "cell_type": "code",
   "execution_count": null,
   "metadata": {
    "colab": {
     "base_uri": "https://localhost:8080/"
    },
    "id": "DEZFlsG1D3je",
    "outputId": "0ace839c-178a-43f5-c3b0-178747a30ae8"
   },
   "outputs": [],
   "source": [
    "pkl_filename = \"./models/mlp_multi.pkl\"\n",
    "if (not path.isfile(pkl_filename)):\n",
    "  # saving the trained model to disk \n",
    "  with open(pkl_filename, 'wb') as file:\n",
    "    pickle.dump(mlp_multi, file)\n",
    "  print(\"Saved model to disk\")\n",
    "else:\n",
    "  print(\"Model already saved\")"
   ]
  },
  {
   "cell_type": "code",
   "execution_count": null,
   "metadata": {
    "id": "QWjSonY6BBIs"
   },
   "outputs": [],
   "source": []
  }
 ],
 "metadata": {
  "colab": {
   "collapsed_sections": [],
   "name": "Copy of iotml.ipynb",
   "provenance": []
  },
  "kernelspec": {
   "display_name": "Python 3 (ipykernel)",
   "language": "python",
   "name": "python3"
  },
  "language_info": {
   "codemirror_mode": {
    "name": "ipython",
    "version": 3
   },
   "file_extension": ".py",
   "mimetype": "text/x-python",
   "name": "python",
   "nbconvert_exporter": "python",
   "pygments_lexer": "ipython3",
   "version": "3.10.6"
  }
 },
 "nbformat": 4,
 "nbformat_minor": 4
}
